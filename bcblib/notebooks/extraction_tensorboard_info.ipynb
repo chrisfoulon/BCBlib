{
 "cells": [
  {
   "cell_type": "code",
   "execution_count": 2,
   "id": "initial_id",
   "metadata": {
    "ExecuteTime": {
     "end_time": "2024-01-08T12:37:08.857525967Z",
     "start_time": "2024-01-08T12:37:08.770064828Z"
    }
   },
   "outputs": [],
   "source": [
    "import os\n",
    "from pathlib import Path\n",
    "\n",
    "import pandas as pd\n",
    "from tensorboard.backend.event_processing.event_accumulator import EventAccumulator\n",
    "import matplotlib.pyplot as plt"
   ]
  },
  {
   "cell_type": "code",
   "execution_count": 7,
   "id": "a6d897bbf5112ca7",
   "metadata": {
    "ExecuteTime": {
     "end_time": "2024-01-08T12:49:35.912820524Z",
     "start_time": "2024-01-08T12:49:35.822332276Z"
    }
   },
   "outputs": [
    {
     "name": "stdout",
     "output_type": "stream",
     "text": [
      "Scalar Tags:\n",
      "epoch_train_loss\n",
      "val_mean_dice\n",
      "val_distance\n",
      "val_best_mean_dice\n",
      "val_best_mean_loss\n",
      "val_best_mean_distance\n"
     ]
    }
   ],
   "source": [
    "event_file = '/gamma/Dropbox (GIN)/UCL_Data/events_files/unet_abnormal_training/fold_0/events.out.tfevents.1692202260.highdimneuro.8598.0'\n",
    "\n",
    "# load the file\n",
    "event_acc = EventAccumulator(event_file)\n",
    "# print scalars\n",
    "event_acc.Reload()\n",
    "scalar_tags = event_acc.Tags()['scalars']\n",
    "\n",
    "# Print the scalar tag names\n",
    "print(\"Scalar Tags:\")\n",
    "for tag in scalar_tags:\n",
    "    print(tag)\n",
    "    \n",
    "filtered_tags = ['epoch_train_loss', 'epoch_train_ctr_loss', 'val_mean_dice', 'val_distance', 'ctr_val_volume']\n",
    "\n",
    "# do the same for all the tags containing 'best'\n",
    "best_tags = [tag for tag in scalar_tags if 'best' in tag]\n",
    "\"\"\"\n",
    "epoch_train_loss\n",
    "epoch_train_ctr_loss\n",
    "val_mean_dice\n",
    "ctr_val_loss\n",
    "ctr_val_volume\n",
    "val_distance\n",
    "val_best_mean_dice\n",
    "val_best_mean_loss\n",
    "val_best_mean_distance\n",
    "\n",
    "train = training\n",
    "ctr = controls\n",
    "val = validation\n",
    "\"\"\"\n",
    "translate_dict = {\n",
    "    'epoch_train_loss': 'Training Loss',\n",
    "    'epoch_train_ctr_loss': 'Training Controls Loss',\n",
    "    'val_mean_dice': 'Validation Mean Dice',\n",
    "    'ctr_val_loss': 'Validation Controls Loss',\n",
    "    'ctr_val_volume': 'Validation Controls Volume',\n",
    "    'val_distance': 'Validation Distance',\n",
    "    'val_best_mean_dice': 'Validation Best Mean Dice',\n",
    "    'val_best_mean_loss': 'Validation Best Mean Loss',\n",
    "    'val_best_mean_distance': 'Validation Best Mean Distance'\n",
    "}"
   ]
  },
  {
   "cell_type": "code",
   "outputs": [],
   "source": [
    "# do the same for both tags lists but point to the best value in the plot and display its value\n",
    "# each tag containing \"loss\", \"distance\" or \"volume\" the best value is the lowest\n",
    "# create a list like the tags lists but with the best value function to apply\n",
    "best_func_filtered_tags = [min if 'loss' in tag or 'distance' in tag or 'volume' in tag else max for tag in filtered_tags]\n",
    "best_func_best_tags = [min if 'loss' in tag or 'distance' in tag or 'volume' in tag else max for tag in best_tags]\n",
    "\n",
    "# plot each scalar in a different subplot\n",
    "fig, axs = plt.subplots(len(filtered_tags), 1, figsize=(10, len(filtered_tags)*5))\n",
    "for i, tag in enumerate(filtered_tags):\n",
    "    x, y = zip(*[(s.step, s.value) for s in event_acc.Scalars(tag)])\n",
    "    axs[i].plot(x, y)\n",
    "    axs[i].set_xlabel('Epoch')\n",
    "    axs[i].set_ylabel(tag)\n",
    "    # find the best value\n",
    "    best_value_func = best_func_filtered_tags[i]\n",
    "    best_value = best_value_func(y)\n",
    "    best_epoch = x[y.index(best_value)]\n",
    "    axs[i].plot(best_epoch, best_value, 'ro')\n",
    "    axs[i].set_title(f'{tag} (Best value: {best_value:.4f})')\n",
    "plt.tight_layout()\n",
    "plt.show()\n",
    "\n",
    "# plot each scalar in a different subplot\n",
    "fig, axs = plt.subplots(len(best_tags), 1, figsize=(10, len(best_tags)*5))\n",
    "for i, tag in enumerate(best_tags):\n",
    "    x, y = zip(*[(s.step, s.value) for s in event_acc.Scalars(tag)])\n",
    "    axs[i].plot(x, y)\n",
    "    axs[i].set_xlabel('Epoch')\n",
    "    axs[i].set_ylabel(tag)\n",
    "    # find the best value\n",
    "    best_value_func = best_func_best_tags[i]\n",
    "    best_value = best_value_func(y)\n",
    "    best_epoch = x[y.index(best_value)]\n",
    "    axs[i].plot(best_epoch, best_value, 'ro')\n",
    "    axs[i].set_title(f'{tag} (Best value: {best_value:.4f})')\n",
    "plt.tight_layout()\n",
    "plt.show()"
   ],
   "metadata": {
    "collapsed": false
   },
   "id": "2169ba33d11b675d",
   "execution_count": 0
  },
  {
   "cell_type": "code",
   "execution_count": null,
   "id": "5625021cbfc048cb",
   "metadata": {
    "ExecuteTime": {
     "end_time": "2023-12-19T12:31:08.242517014Z",
     "start_time": "2023-12-19T12:31:05.627277861Z"
    }
   },
   "outputs": [],
   "source": [
    "# plot each scalar in a different subplot and save each plot as a separate image file\n",
    "output_folder = Path('/data/Dropbox (GIN)/result_ucl_lesseg')  # replace with your output folder path\n",
    "for i, tag in enumerate(filtered_tags):\n",
    "    fig, ax = plt.subplots(figsize=(10, 5))\n",
    "    x, y = zip(*[(s.step, s.value) for s in event_acc.Scalars(tag)])\n",
    "    ax.plot(x, y)\n",
    "    ax.set_xlabel('Epoch')\n",
    "    ax.set_ylabel(tag)\n",
    "    # find the best value\n",
    "    best_value_func = best_func_filtered_tags[i]\n",
    "    best_value = best_value_func(y)\n",
    "    best_epoch = x[y.index(best_value)]\n",
    "    ax.plot(best_epoch, best_value, 'ro')\n",
    "    ax.set_title(f'Best value: {best_value:.4f}')\n",
    "    plt.tight_layout()\n",
    "    plt.savefig(output_folder / f'{tag}.png')\n",
    "    plt.close(fig)  # close the figure\n",
    "\n",
    "# do the same for the best_tags list\n",
    "for i, tag in enumerate(best_tags):\n",
    "    fig, ax = plt.subplots(figsize=(10, 5))\n",
    "    x, y = zip(*[(s.step, s.value) for s in event_acc.Scalars(tag)])\n",
    "    ax.plot(x, y)\n",
    "    ax.set_xlabel('Epoch')\n",
    "    ax.set_ylabel(tag)\n",
    "    # find the best value\n",
    "    best_value_func = best_func_best_tags[i]\n",
    "    best_value = best_value_func(y)\n",
    "    best_epoch = x[y.index(best_value)]\n",
    "    ax.plot(best_epoch, best_value, 'ro')\n",
    "    ax.set_title(f'Best value: {best_value:.4f}')\n",
    "    plt.tight_layout()\n",
    "    plt.savefig(output_folder / f'{tag}.png')\n",
    "    plt.close(fig)  # close the figure"
   ]
  },
  {
   "cell_type": "code",
   "execution_count": null,
   "id": "ac62eb14ada8ac91",
   "metadata": {
    "ExecuteTime": {
     "end_time": "2024-01-02T15:09:15.278467694Z",
     "start_time": "2024-01-02T15:08:50.144866131Z"
    }
   },
   "outputs": [],
   "source": [
    "from bcblib.tools.visualisation import create_and_save_plots, load_tensorboard_file\n",
    "\n",
    "# /data/Dropbox (GIN)/UCL_Data/events_files contains several subfolders contains subfolders with event files\n",
    "# For each subfolder of the root, load the event file and create and save the plots in /data/Dropbox (GIN)/UCL_Data/events_files/plots/subfolder_name\n",
    "\n",
    "# best_func_filtered_tags = [min if 'loss' in tag or 'distance' in tag or 'volume' in tag else max for tag in filtered_tags]\n",
    "best_func_filtered_tags = {tag: min if 'loss' in tag or 'distance' in tag or 'volume' in tag else max for tag in filtered_tags}\n",
    "# best_func_best_tags = [min if 'loss' in tag or 'distance' in tag or 'volume' in tag else max for tag in best_tags]\n",
    "best_func_best_tags = {tag: min if 'loss' in tag or 'distance' in tag or 'volume' in tag else max for tag in best_tags}\n",
    "print(best_func_filtered_tags)\n",
    "root_folder = Path('/data/Dropbox (GIN)/UCL_Data/events_files')\n",
    "for subfolder in root_folder.iterdir():\n",
    "    # root_folder / 'plots' should not be processed\n",
    "    if subfolder.name == 'plots':\n",
    "        continue\n",
    "    print(f'Processing {subfolder.name}')\n",
    "    # for each subfolder in subfolder\n",
    "    for subsubfolder in subfolder.iterdir():\n",
    "        # Load the event file\n",
    "        event_file_list = list(subsubfolder.rglob('events.out.tfevents.*'))\n",
    "        # only keep the latest event file using the date of modification\n",
    "        event_file = max(event_file_list, key=os.path.getmtime)    \n",
    "        event_acc = load_tensorboard_file(str(event_file))\n",
    "        # Create the output folder subfolder_name/subsubfolder_name\n",
    "        output_folder = root_folder / 'plots' / subfolder.name / subsubfolder.name\n",
    "        output_folder.mkdir(parents=True, exist_ok=True)\n",
    "        # Create and save the plots\n",
    "        create_and_save_plots(event_acc, best_func_best_tags, output_folder=output_folder, display_plot=False)"
   ]
  },
  {
   "cell_type": "code",
   "execution_count": 23,
   "id": "771ea92bd5d70e83",
   "metadata": {
    "ExecuteTime": {
     "end_time": "2024-01-09T12:22:19.133418473Z",
     "start_time": "2024-01-09T12:22:18.831923650Z"
    }
   },
   "outputs": [
    {
     "name": "stdout",
     "output_type": "stream",
     "text": [
      "Processing abnormal_training_dice_focal\n"
     ]
    },
    {
     "ename": "TypeError",
     "evalue": "plot_scalar_per_fold() got an unexpected keyword argument 'best_epochs'",
     "output_type": "error",
     "traceback": [
      "\u001B[0;31m---------------------------------------------------------------------------\u001B[0m",
      "\u001B[0;31mTypeError\u001B[0m                                 Traceback (most recent call last)",
      "Cell \u001B[0;32mIn[23], line 26\u001B[0m\n\u001B[1;32m     24\u001B[0m     \u001B[38;5;28;01mcontinue\u001B[39;00m\n\u001B[1;32m     25\u001B[0m \u001B[38;5;28;01mif\u001B[39;00m tag \u001B[38;5;241m==\u001B[39m leading_tag:\n\u001B[0;32m---> 26\u001B[0m     best_leading_values \u001B[38;5;241m=\u001B[39m \u001B[43mplot_scalar_per_fold\u001B[49m\u001B[43m(\u001B[49m\u001B[43mfold_data\u001B[49m\u001B[43m,\u001B[49m\u001B[43m \u001B[49m\u001B[43mtag\u001B[49m\u001B[43m,\u001B[49m\u001B[43m \u001B[49m\u001B[43mbest_epochs\u001B[49m\u001B[38;5;241;43m=\u001B[39;49m\u001B[38;5;28;43;01mNone\u001B[39;49;00m\u001B[43m,\u001B[49m\u001B[43m \u001B[49m\u001B[43moutput_path\u001B[49m\u001B[38;5;241;43m=\u001B[39;49m\u001B[43moutput_folder\u001B[49m\u001B[43m,\u001B[49m\u001B[43m \u001B[49m\u001B[43mdisplay_plot\u001B[49m\u001B[38;5;241;43m=\u001B[39;49m\u001B[38;5;28;43;01mFalse\u001B[39;49;00m\u001B[43m,\u001B[49m\u001B[43m \u001B[49m\u001B[43mbest_func\u001B[49m\u001B[38;5;241;43m=\u001B[39;49m\u001B[43mbest_func_best_tags\u001B[49m\u001B[43m)\u001B[49m\n\u001B[1;32m     27\u001B[0m \u001B[38;5;28;01melse\u001B[39;00m:\n\u001B[1;32m     28\u001B[0m     plot_scalar_per_fold(fold_data, tag, best_epochs\u001B[38;5;241m=\u001B[39mbest_leading_values, output_path\u001B[38;5;241m=\u001B[39moutput_folder, display_plot\u001B[38;5;241m=\u001B[39m\u001B[38;5;28;01mFalse\u001B[39;00m, best_func\u001B[38;5;241m=\u001B[39mbest_func_best_tags)\n",
      "\u001B[0;31mTypeError\u001B[0m: plot_scalar_per_fold() got an unexpected keyword argument 'best_epochs'"
     ]
    }
   ],
   "source": [
    "from bcblib.tools.visualisation import load_all_event_files, plot_scalar_per_fold\n",
    "best_tags = ['val_best_mean_dice', 'val_best_mean_loss', 'val_best_mean_distance', 'epoch_train_loss', 'epoch_train_ctr_loss', 'val_mean_dice', 'val_distance', 'ctr_val_volume']\n",
    "root_folder = Path('/gamma/Dropbox (GIN)/UCL_Data/events_files')\n",
    "# for each subfolder in root_folder call plot_scalar_per_fold to save each scalar plot in subfolder/global_plots/\n",
    "best_func_best_tags = {tag: min if 'loss' in tag or 'distance' in tag or 'volume' in tag else max for tag in best_tags}\n",
    "\n",
    "leading_tag = 'val_best_mean_dice'\n",
    "# print(best_func_filtered_tags)\n",
    "for subfolder in root_folder.iterdir():\n",
    "    # root_folder / 'plots' should not be processed\n",
    "    if subfolder.name == 'plots':\n",
    "        continue\n",
    "    print(f'Processing {subfolder.name}')\n",
    "    # Load the event files\n",
    "    fold_data = load_all_event_files(subfolder)\n",
    "    # Create the output folder subfolder_name/global_plots\n",
    "    output_folder = root_folder / 'plots' / subfolder.name / 'global_plots'\n",
    "    output_folder.mkdir(parents=True, exist_ok=True)\n",
    "    # Create and save the plots\n",
    "    best_leading_values = {}\n",
    "    for tag in best_tags:\n",
    "        if tag not in fold_data['fold_1'].Tags()['scalars']:\n",
    "            print(f'Tag {tag} not found in {subfolder.name}')\n",
    "            continue\n",
    "        if tag == leading_tag:\n",
    "            best_leading_values = plot_scalar_per_fold(fold_data, tag, best_epochs=None, output_path=output_folder, display_plot=False, best_func=best_func_best_tags)\n",
    "        else:\n",
    "            plot_scalar_per_fold(fold_data, tag, best_epochs=best_leading_values, output_path=output_folder, display_plot=False, best_func=best_func_best_tags)"
   ]
  },
  {
   "cell_type": "code",
   "outputs": [],
   "source": [],
   "metadata": {
    "collapsed": false
   },
   "id": "b06039ec20edddcb"
  }
 ],
 "metadata": {
  "kernelspec": {
   "display_name": "Python 3",
   "language": "python",
   "name": "python3"
  },
  "language_info": {
   "codemirror_mode": {
    "name": "ipython",
    "version": 2
   },
   "file_extension": ".py",
   "mimetype": "text/x-python",
   "name": "python",
   "nbconvert_exporter": "python",
   "pygments_lexer": "ipython2",
   "version": "2.7.6"
  }
 },
 "nbformat": 4,
 "nbformat_minor": 5
}
