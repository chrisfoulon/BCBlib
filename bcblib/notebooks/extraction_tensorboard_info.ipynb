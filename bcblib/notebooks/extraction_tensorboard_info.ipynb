{
 "cells": [
  {
   "cell_type": "code",
   "execution_count": null,
   "id": "initial_id",
   "metadata": {
    "ExecuteTime": {
     "end_time": "2023-12-19T09:39:31.456527491Z",
     "start_time": "2023-12-19T09:39:31.430235238Z"
    }
   },
   "outputs": [],
   "source": [
    "import os\n",
    "from pathlib import Path\n",
    "\n",
    "import pandas as pd\n",
    "from tensorboard.backend.event_processing.event_accumulator import EventAccumulator\n",
    "import matplotlib.pyplot as plt"
   ]
  },
  {
   "cell_type": "code",
   "execution_count": null,
   "id": "a6d897bbf5112ca7",
   "metadata": {
    "ExecuteTime": {
     "end_time": "2023-12-19T10:24:26.621708773Z",
     "start_time": "2023-12-19T10:24:26.499753553Z"
    }
   },
   "outputs": [],
   "source": [
    "event_file = '/home/tolhsadum/events.out.tfevents.1691579244.pea2.dartmoor.3370.1'\n",
    "\n",
    "# load the file\n",
    "event_acc = EventAccumulator(event_file)\n",
    "# print scalars\n",
    "event_acc.Reload()\n",
    "scalar_tags = event_acc.Tags()['scalars']\n",
    "\n",
    "# Print the scalar tag names\n",
    "print(\"Scalar Tags:\")\n",
    "for tag in scalar_tags:\n",
    "    print(tag)\n",
    "    \n",
    "filtered_tags = ['epoch_train_loss', 'epoch_train_ctr_loss', 'val_mean_dice', 'val_distance', 'ctr_val_volume']\n",
    "\n",
    "# do the same for all the tags containing 'best'\n",
    "best_tags = [tag for tag in scalar_tags if 'best' in tag]\n",
    "\"\"\"\n",
    "epoch_train_loss\n",
    "epoch_train_ctr_loss\n",
    "val_mean_dice\n",
    "ctr_val_loss\n",
    "ctr_val_volume\n",
    "val_distance\n",
    "val_best_mean_dice\n",
    "val_best_mean_loss\n",
    "val_best_mean_distance\n",
    "\n",
    "train = training\n",
    "ctr = controls\n",
    "val = validation\n",
    "\"\"\"\n",
    "translate_dict = {\n",
    "    'epoch_train_loss': 'Training Loss',\n",
    "    'epoch_train_ctr_loss': 'Training Controls Loss',\n",
    "    'val_mean_dice': 'Validation Mean Dice',\n",
    "    'ctr_val_loss': 'Validation Controls Loss',\n",
    "    'ctr_val_volume': 'Validation Controls Volume',\n",
    "    'val_distance': 'Validation Distance',\n",
    "    'val_best_mean_dice': 'Validation Best Mean Dice',\n",
    "    'val_best_mean_loss': 'Validation Best Mean Loss',\n",
    "    'val_best_mean_distance': 'Validation Best Mean Distance'\n",
    "}"
   ]
  },
  {
   "cell_type": "code",
   "execution_count": null,
   "id": "601d4b3e5e69f463",
   "metadata": {
    "ExecuteTime": {
     "end_time": "2023-12-19T10:40:14.743296831Z",
     "start_time": "2023-12-19T10:40:12.561728006Z"
    }
   },
   "outputs": [],
   "source": [
    "# plot each scalar in a different subplot\n",
    "fig, axs = plt.subplots(len(filtered_tags), 1, figsize=(10, 10))\n",
    "for i, tag in enumerate(filtered_tags):\n",
    "    x, y = zip(*[(s.step, s.value) for s in event_acc.Scalars(tag)])\n",
    "    axs[i].plot(x, y)\n",
    "    axs[i].set_title(tag)\n",
    "    axs[i].set_xlabel('Epoch')\n",
    "    axs[i].set_ylabel(tag)\n",
    "plt.tight_layout()\n",
    "plt.show()\n",
    "# plot each scalar in a different subplot\n",
    "fig, axs = plt.subplots(len(best_tags), 1, figsize=(10, 10))\n",
    "for i, tag in enumerate(best_tags):\n",
    "    x, y = zip(*[(s.step, s.value) for s in event_acc.Scalars(tag)])\n",
    "    axs[i].plot(x, y)\n",
    "    axs[i].set_title(tag)\n",
    "    axs[i].set_xlabel('Epoch')\n",
    "    axs[i].set_ylabel(tag)\n",
    "plt.tight_layout()\n",
    "plt.show()\n",
    "\n"
   ]
  },
  {
   "cell_type": "code",
   "execution_count": null,
   "id": "2169ba33d11b675d",
   "metadata": {
    "ExecuteTime": {
     "end_time": "2023-12-19T12:17:56.130059513Z",
     "start_time": "2023-12-19T12:17:53.356761781Z"
    }
   },
   "outputs": [],
   "source": [
    "# do the same for both tags lists but point to the best value in the plot and display its value\n",
    "# each tag containing \"loss\", \"distance\" or \"volume\" the best value is the lowest\n",
    "# create a list like the tags lists but with the best value function to apply\n",
    "best_func_filtered_tags = [min if 'loss' in tag or 'distance' in tag or 'volume' in tag else max for tag in filtered_tags]\n",
    "best_func_best_tags = [min if 'loss' in tag or 'distance' in tag or 'volume' in tag else max for tag in best_tags]\n",
    "\n",
    "# plot each scalar in a different subplot\n",
    "fig, axs = plt.subplots(len(filtered_tags), 1, figsize=(10, len(filtered_tags)*5))\n",
    "for i, tag in enumerate(filtered_tags):\n",
    "    x, y = zip(*[(s.step, s.value) for s in event_acc.Scalars(tag)])\n",
    "    axs[i].plot(x, y)\n",
    "    axs[i].set_xlabel('Epoch')\n",
    "    axs[i].set_ylabel(tag)\n",
    "    # find the best value\n",
    "    best_value_func = best_func_filtered_tags[i]\n",
    "    best_value = best_value_func(y)\n",
    "    best_epoch = x[y.index(best_value)]\n",
    "    axs[i].plot(best_epoch, best_value, 'ro')\n",
    "    axs[i].set_title(f'{tag} (Best value: {best_value:.4f})')\n",
    "plt.tight_layout()\n",
    "plt.show()\n",
    "\n",
    "# plot each scalar in a different subplot\n",
    "fig, axs = plt.subplots(len(best_tags), 1, figsize=(10, len(best_tags)*5))\n",
    "for i, tag in enumerate(best_tags):\n",
    "    x, y = zip(*[(s.step, s.value) for s in event_acc.Scalars(tag)])\n",
    "    axs[i].plot(x, y)\n",
    "    axs[i].set_xlabel('Epoch')\n",
    "    axs[i].set_ylabel(tag)\n",
    "    # find the best value\n",
    "    best_value_func = best_func_best_tags[i]\n",
    "    best_value = best_value_func(y)\n",
    "    best_epoch = x[y.index(best_value)]\n",
    "    axs[i].plot(best_epoch, best_value, 'ro')\n",
    "    axs[i].set_title(f'{tag} (Best value: {best_value:.4f})')\n",
    "plt.tight_layout()\n",
    "plt.show()"
   ]
  },
  {
   "cell_type": "code",
   "execution_count": null,
   "id": "5625021cbfc048cb",
   "metadata": {
    "ExecuteTime": {
     "end_time": "2023-12-19T12:31:08.242517014Z",
     "start_time": "2023-12-19T12:31:05.627277861Z"
    }
   },
   "outputs": [],
   "source": [
    "# plot each scalar in a different subplot and save each plot as a separate image file\n",
    "output_folder = Path('/data/Dropbox (GIN)/result_ucl_lesseg')  # replace with your output folder path\n",
    "for i, tag in enumerate(filtered_tags):\n",
    "    fig, ax = plt.subplots(figsize=(10, 5))\n",
    "    x, y = zip(*[(s.step, s.value) for s in event_acc.Scalars(tag)])\n",
    "    ax.plot(x, y)\n",
    "    ax.set_xlabel('Epoch')\n",
    "    ax.set_ylabel(tag)\n",
    "    # find the best value\n",
    "    best_value_func = best_func_filtered_tags[i]\n",
    "    best_value = best_value_func(y)\n",
    "    best_epoch = x[y.index(best_value)]\n",
    "    ax.plot(best_epoch, best_value, 'ro')\n",
    "    ax.set_title(f'Best value: {best_value:.4f}')\n",
    "    plt.tight_layout()\n",
    "    plt.savefig(output_folder / f'{tag}.png')\n",
    "    plt.close(fig)  # close the figure\n",
    "\n",
    "# do the same for the best_tags list\n",
    "for i, tag in enumerate(best_tags):\n",
    "    fig, ax = plt.subplots(figsize=(10, 5))\n",
    "    x, y = zip(*[(s.step, s.value) for s in event_acc.Scalars(tag)])\n",
    "    ax.plot(x, y)\n",
    "    ax.set_xlabel('Epoch')\n",
    "    ax.set_ylabel(tag)\n",
    "    # find the best value\n",
    "    best_value_func = best_func_best_tags[i]\n",
    "    best_value = best_value_func(y)\n",
    "    best_epoch = x[y.index(best_value)]\n",
    "    ax.plot(best_epoch, best_value, 'ro')\n",
    "    ax.set_title(f'Best value: {best_value:.4f}')\n",
    "    plt.tight_layout()\n",
    "    plt.savefig(output_folder / f'{tag}.png')\n",
    "    plt.close(fig)  # close the figure"
   ]
  },
  {
   "cell_type": "code",
   "execution_count": null,
   "id": "44e4c4fd708e2fd8",
   "metadata": {},
   "outputs": [],
   "source": [
    "def load_tensorboard_file(event_file, verbose=False):\n",
    "    # Load the TensorBoard file\n",
    "    event_acc = EventAccumulator(event_file)\n",
    "    event_acc.Reload()\n",
    "\n",
    "    # If verbose is True, print all the tags from the file\n",
    "    if verbose:\n",
    "        print(\"Tags:\")\n",
    "        for tag in event_acc.Tags()['scalars']:\n",
    "            print(tag)\n",
    "\n",
    "    return event_acc\n",
    "\n",
    "def create_and_save_plots(event_acc, best_func_dict=None, output_folder=None, display_plot=True):\n",
    "    # Get the list of scalar tags\n",
    "    scalar_tags = event_acc.Tags()['scalars']\n",
    "\n",
    "    # If best_func_dict is not provided, use a default function (min) for all tags\n",
    "    if best_func_dict is None:\n",
    "        best_func_dict = {tag: min for tag in scalar_tags}\n",
    "\n",
    "    # Create and save a plot for each tag\n",
    "    for tag in scalar_tags:\n",
    "        fig, ax = plt.subplots(figsize=(10, 5))\n",
    "        x, y = zip(*[(s.step, s.value) for s in event_acc.Scalars(tag)])\n",
    "        ax.plot(x, y)\n",
    "        ax.set_xlabel('Epoch')\n",
    "        ax.set_ylabel(tag)\n",
    "        # Find the best value\n",
    "        best_value_func = best_func_dict.get(tag, min)  # Use min if the tag is not in best_func_dict\n",
    "        best_value = best_value_func(y)\n",
    "        best_epoch = x[y.index(best_value)]\n",
    "        ax.plot(best_epoch, best_value, 'ro')\n",
    "        ax.set_title(f'Best value: {best_value:.4f}')\n",
    "        plt.tight_layout()\n",
    "        # Save the plot if output_folder is provided\n",
    "        if output_folder is not None:\n",
    "            plt.savefig(output_folder / f'{tag}.png')\n",
    "        # Display the plot if display_plot is True\n",
    "        if display_plot:\n",
    "            plt.show()\n",
    "        plt.close(fig)  # Close the figure\n",
    "\n"
   ]
  }
 ],
 "metadata": {
  "kernelspec": {
   "display_name": "Python 3",
   "language": "python",
   "name": "python3"
  },
  "language_info": {
   "codemirror_mode": {
    "name": "ipython",
    "version": 2
   },
   "file_extension": ".py",
   "mimetype": "text/x-python",
   "name": "python",
   "nbconvert_exporter": "python",
   "pygments_lexer": "ipython2",
   "version": "2.7.6"
  }
 },
 "nbformat": 4,
 "nbformat_minor": 5
}
