{
 "cells": [
  {
   "cell_type": "code",
   "execution_count": 23,
   "id": "initial_id",
   "metadata": {
    "ExecuteTime": {
     "end_time": "2024-01-10T11:54:59.901689881Z",
     "start_time": "2024-01-10T11:54:59.857823577Z"
    }
   },
   "outputs": [],
   "source": [
    "import os\n",
    "from pathlib import Path\n",
    "\n",
    "import pandas as pd\n",
    "from tensorboard.backend.event_processing.event_accumulator import EventAccumulator\n",
    "import matplotlib.pyplot as plt\n",
    "\n",
    "%load_ext autoreload"
   ]
  },
  {
   "cell_type": "code",
   "execution_count": 7,
   "id": "a6d897bbf5112ca7",
   "metadata": {
    "ExecuteTime": {
     "end_time": "2024-01-08T12:49:35.912820524Z",
     "start_time": "2024-01-08T12:49:35.822332276Z"
    }
   },
   "outputs": [
    {
     "name": "stdout",
     "output_type": "stream",
     "text": [
      "Scalar Tags:\n",
      "epoch_train_loss\n",
      "val_mean_dice\n",
      "val_distance\n",
      "val_best_mean_dice\n",
      "val_best_mean_loss\n",
      "val_best_mean_distance\n"
     ]
    }
   ],
   "source": [
    "event_file = '/gamma/Dropbox (GIN)/UCL_Data/events_files/unet_abnormal_training/fold_0/events.out.tfevents.1692202260.highdimneuro.8598.0'\n",
    "\n",
    "# load the file\n",
    "event_acc = EventAccumulator(event_file)\n",
    "# print scalars\n",
    "event_acc.Reload()\n",
    "scalar_tags = event_acc.Tags()['scalars']\n",
    "\n",
    "# Print the scalar tag names\n",
    "print(\"Scalar Tags:\")\n",
    "for tag in scalar_tags:\n",
    "    print(tag)\n",
    "    \n",
    "filtered_tags = ['epoch_train_loss', 'epoch_train_ctr_loss', 'val_mean_dice', 'val_distance', 'ctr_val_volume']\n",
    "\n",
    "# do the same for all the tags containing 'best'\n",
    "best_tags = [tag for tag in scalar_tags if 'best' in tag]\n",
    "\"\"\"\n",
    "epoch_train_loss\n",
    "epoch_train_ctr_loss\n",
    "val_mean_dice\n",
    "ctr_val_loss\n",
    "ctr_val_volume\n",
    "val_distance\n",
    "val_best_mean_dice\n",
    "val_best_mean_loss\n",
    "val_best_mean_distance\n",
    "\n",
    "train = training\n",
    "ctr = controls\n",
    "val = validation\n",
    "\"\"\"\n",
    "translate_dict = {\n",
    "    'epoch_train_loss': 'Training Loss',\n",
    "    'epoch_train_ctr_loss': 'Training Controls Loss',\n",
    "    'val_mean_dice': 'Validation Mean Dice',\n",
    "    'ctr_val_loss': 'Validation Controls Loss',\n",
    "    'ctr_val_volume': 'Validation Controls Volume',\n",
    "    'val_distance': 'Validation Distance',\n",
    "    'val_best_mean_dice': 'Validation Best Mean Dice',\n",
    "    'val_best_mean_loss': 'Validation Best Mean Loss',\n",
    "    'val_best_mean_distance': 'Validation Best Mean Distance'\n",
    "}"
   ]
  },
  {
   "cell_type": "code",
   "outputs": [],
   "source": [
    "# do the same for both tags lists but point to the best value in the plot and display its value\n",
    "# each tag containing \"loss\", \"distance\" or \"volume\" the best value is the lowest\n",
    "# create a list like the tags lists but with the best value function to apply\n",
    "best_func_filtered_tags = [min if 'loss' in tag or 'distance' in tag or 'volume' in tag else max for tag in filtered_tags]\n",
    "best_func_best_tags = [min if 'loss' in tag or 'distance' in tag or 'volume' in tag else max for tag in best_tags]\n",
    "\n",
    "# plot each scalar in a different subplot\n",
    "fig, axs = plt.subplots(len(filtered_tags), 1, figsize=(10, len(filtered_tags)*5))\n",
    "for i, tag in enumerate(filtered_tags):\n",
    "    x, y = zip(*[(s.step, s.value) for s in event_acc.Scalars(tag)])\n",
    "    axs[i].plot(x, y)\n",
    "    axs[i].set_xlabel('Epoch')\n",
    "    axs[i].set_ylabel(tag)\n",
    "    # find the best value\n",
    "    best_value_func = best_func_filtered_tags[i]\n",
    "    best_value = best_value_func(y)\n",
    "    best_epoch = x[y.index(best_value)]\n",
    "    axs[i].plot(best_epoch, best_value, 'ro')\n",
    "    axs[i].set_title(f'{tag} (Best value: {best_value:.4f})')\n",
    "plt.tight_layout()\n",
    "plt.show()\n",
    "\n",
    "# plot each scalar in a different subplot\n",
    "fig, axs = plt.subplots(len(best_tags), 1, figsize=(10, len(best_tags)*5))\n",
    "for i, tag in enumerate(best_tags):\n",
    "    x, y = zip(*[(s.step, s.value) for s in event_acc.Scalars(tag)])\n",
    "    axs[i].plot(x, y)\n",
    "    axs[i].set_xlabel('Epoch')\n",
    "    axs[i].set_ylabel(tag)\n",
    "    # find the best value\n",
    "    best_value_func = best_func_best_tags[i]\n",
    "    best_value = best_value_func(y)\n",
    "    best_epoch = x[y.index(best_value)]\n",
    "    axs[i].plot(best_epoch, best_value, 'ro')\n",
    "    axs[i].set_title(f'{tag} (Best value: {best_value:.4f})')\n",
    "plt.tight_layout()\n",
    "plt.show()"
   ],
   "metadata": {
    "collapsed": false
   },
   "id": "2169ba33d11b675d",
   "execution_count": 0
  },
  {
   "cell_type": "code",
   "execution_count": null,
   "id": "5625021cbfc048cb",
   "metadata": {
    "ExecuteTime": {
     "end_time": "2023-12-19T12:31:08.242517014Z",
     "start_time": "2023-12-19T12:31:05.627277861Z"
    }
   },
   "outputs": [],
   "source": [
    "# plot each scalar in a different subplot and save each plot as a separate image file\n",
    "output_folder = Path('/data/Dropbox (GIN)/result_ucl_lesseg')  # replace with your output folder path\n",
    "for i, tag in enumerate(filtered_tags):\n",
    "    fig, ax = plt.subplots(figsize=(10, 5))\n",
    "    x, y = zip(*[(s.step, s.value) for s in event_acc.Scalars(tag)])\n",
    "    ax.plot(x, y)\n",
    "    ax.set_xlabel('Epoch')\n",
    "    ax.set_ylabel(tag)\n",
    "    # find the best value\n",
    "    best_value_func = best_func_filtered_tags[i]\n",
    "    best_value = best_value_func(y)\n",
    "    best_epoch = x[y.index(best_value)]\n",
    "    ax.plot(best_epoch, best_value, 'ro')\n",
    "    ax.set_title(f'Best value: {best_value:.4f}')\n",
    "    plt.tight_layout()\n",
    "    plt.savefig(output_folder / f'{tag}.png')\n",
    "    plt.close(fig)  # close the figure\n",
    "\n",
    "# do the same for the best_tags list\n",
    "for i, tag in enumerate(best_tags):\n",
    "    fig, ax = plt.subplots(figsize=(10, 5))\n",
    "    x, y = zip(*[(s.step, s.value) for s in event_acc.Scalars(tag)])\n",
    "    ax.plot(x, y)\n",
    "    ax.set_xlabel('Epoch')\n",
    "    ax.set_ylabel(tag)\n",
    "    # find the best value\n",
    "    best_value_func = best_func_best_tags[i]\n",
    "    best_value = best_value_func(y)\n",
    "    best_epoch = x[y.index(best_value)]\n",
    "    ax.plot(best_epoch, best_value, 'ro')\n",
    "    ax.set_title(f'Best value: {best_value:.4f}')\n",
    "    plt.tight_layout()\n",
    "    plt.savefig(output_folder / f'{tag}.png')\n",
    "    plt.close(fig)  # close the figure"
   ]
  },
  {
   "cell_type": "code",
   "execution_count": null,
   "id": "ac62eb14ada8ac91",
   "metadata": {
    "ExecuteTime": {
     "end_time": "2024-01-02T15:09:15.278467694Z",
     "start_time": "2024-01-02T15:08:50.144866131Z"
    }
   },
   "outputs": [],
   "source": [
    "from bcblib.tools.visualisation import create_and_save_plots, load_tensorboard_file\n",
    "\n",
    "# /data/Dropbox (GIN)/UCL_Data/events_files contains several subfolders contains subfolders with event files\n",
    "# For each subfolder of the root, load the event file and create and save the plots in /data/Dropbox (GIN)/UCL_Data/events_files/plots/subfolder_name\n",
    "\n",
    "# best_func_filtered_tags = [min if 'loss' in tag or 'distance' in tag or 'volume' in tag else max for tag in filtered_tags]\n",
    "best_func_filtered_tags = {tag: min if 'loss' in tag or 'distance' in tag or 'volume' in tag else max for tag in filtered_tags}\n",
    "# best_func_best_tags = [min if 'loss' in tag or 'distance' in tag or 'volume' in tag else max for tag in best_tags]\n",
    "best_func_best_tags = {tag: min if 'loss' in tag or 'distance' in tag or 'volume' in tag else max for tag in best_tags}\n",
    "print(best_func_filtered_tags)\n",
    "root_folder = Path('/data/Dropbox (GIN)/UCL_Data/events_files')\n",
    "for subfolder in root_folder.iterdir():\n",
    "    # root_folder / 'plots' should not be processed\n",
    "    if subfolder.name == 'plots':\n",
    "        continue\n",
    "    print(f'Processing {subfolder.name}')\n",
    "    # for each subfolder in subfolder\n",
    "    for subsubfolder in subfolder.iterdir():\n",
    "        # Load the event file\n",
    "        event_file_list = list(subsubfolder.rglob('events.out.tfevents.*'))\n",
    "        # only keep the latest event file using the date of modification\n",
    "        event_file = max(event_file_list, key=os.path.getmtime)    \n",
    "        event_acc = load_tensorboard_file(str(event_file))\n",
    "        # Create the output folder subfolder_name/subsubfolder_name\n",
    "        output_folder = root_folder / 'plots' / subfolder.name / subsubfolder.name\n",
    "        output_folder.mkdir(parents=True, exist_ok=True)\n",
    "        # Create and save the plots\n",
    "        create_and_save_plots(event_acc, best_func_best_tags, output_folder=output_folder, display_plot=False)"
   ]
  },
  {
   "cell_type": "code",
<<<<<<< HEAD
=======
   "execution_count": 37,
   "id": "771ea92bd5d70e83",
   "metadata": {
    "ExecuteTime": {
     "end_time": "2024-01-10T15:26:16.338868359Z",
     "start_time": "2024-01-10T15:26:08.950831168Z"
    }
   },
   "outputs": [
    {
     "name": "stdout",
     "output_type": "stream",
     "text": [
      "Processing unet_abnormal_training\n",
      "Best leading values for unet_abnormal_training: {'fold_0': 251, 'fold_1': 278, 'fold_2': 230, 'fold_3': 270, 'fold_4': 241}\n",
      "Warning: Best epoch 251 not found in epochs for fold fold_0. Skipping.\n",
      "Warning: Best epoch 278 not found in epochs for fold fold_1. Skipping.\n",
      "Warning: Best epoch 230 not found in epochs for fold fold_2. Skipping.\n",
      "Warning: Best epoch 270 not found in epochs for fold fold_3. Skipping.\n",
      "Warning: Best epoch 241 not found in epochs for fold fold_4. Skipping.\n",
      "Tag epoch_train_ctr_loss not found in unet_abnormal_training\n",
      "Tag ctr_val_volume not found in unet_abnormal_training\n",
      "Processing control_training_wf_div10_dicefocal\n",
      "Best leading values for control_training_wf_div10_dicefocal: {'fold_0': 193, 'fold_1': 233, 'fold_2': 327, 'fold_3': 205, 'fold_4': 149}\n",
      "Warning: Best epoch 193 not found in epochs for fold fold_0. Skipping.\n",
      "Warning: Best epoch 233 not found in epochs for fold fold_1. Skipping.\n",
      "Warning: Best epoch 327 not found in epochs for fold fold_2. Skipping.\n",
      "Warning: Best epoch 205 not found in epochs for fold fold_3. Skipping.\n",
      "Warning: Best epoch 149 not found in epochs for fold fold_4. Skipping.\n",
      "Processing abnormal_training_dice_focal\n",
      "Best leading values for abnormal_training_dice_focal: {'fold_0': 141, 'fold_1': 246, 'fold_2': 173, 'fold_3': 163, 'fold_4': 154}\n",
      "Warning: Best epoch 141 not found in epochs for fold fold_0. Skipping.\n",
      "Warning: Best epoch 246 not found in epochs for fold fold_1. Skipping.\n",
      "Warning: Best epoch 173 not found in epochs for fold fold_2. Skipping.\n",
      "Warning: Best epoch 163 not found in epochs for fold fold_3. Skipping.\n",
      "Warning: Best epoch 154 not found in epochs for fold fold_4. Skipping.\n",
      "Tag epoch_train_ctr_loss not found in abnormal_training_dice_focal\n",
      "Tag ctr_val_volume not found in abnormal_training_dice_focal\n"
     ]
    }
   ],
   "source": [
    "%autoreload 2\n",
    "from bcblib.tools.visualisation import load_all_event_files, plot_scalar_per_fold\n",
    "best_tags = ['val_best_mean_dice', 'val_best_mean_loss', 'val_best_mean_distance', 'epoch_train_loss', 'epoch_train_ctr_loss', 'val_mean_dice', 'val_distance', 'ctr_val_volume']\n",
    "root_folder = Path('/data/Dropbox (GIN)/UCL_Data/events_files')\n",
    "# root_folder = Path('/gamma/Dropbox (GIN)/UCL_Data/events_files')\n",
    "# for each subfolder in root_folder call plot_scalar_per_fold to save each scalar plot in subfolder/global_plots/\n",
    "best_func_best_tags = {tag: min if 'loss' in tag or 'distance' in tag or 'volume' in tag else max for tag in best_tags}\n",
    "\n",
    "leading_tag = 'val_best_mean_dice'\n",
    "# print(best_func_filtered_tags)\n",
    "for subfolder in root_folder.iterdir():\n",
    "    # root_folder / 'plots' should not be processed\n",
    "    if subfolder.name == 'plots':\n",
    "        continue\n",
    "    print(f'Processing {subfolder.name}')\n",
    "    # Load the event files\n",
    "    fold_data = load_all_event_files(subfolder)\n",
    "    # Create the output folder subfolder_name/global_plots\n",
    "    output_folder = root_folder / 'plots' / subfolder.name / 'global_plots'\n",
    "    output_folder.mkdir(parents=True, exist_ok=True)\n",
    "    # Create and save the plots\n",
    "    best_leading_values = {}\n",
    "    for tag in best_tags:\n",
    "        if tag not in fold_data['fold_1'].Tags()['scalars']:\n",
    "            print(f'Tag {tag} not found in {subfolder.name}')\n",
    "            continue\n",
    "        if tag == leading_tag:\n",
    "            best_leading_values = plot_scalar_per_fold(fold_data, tag, best_epochs=None, output_path=output_folder, display_plot=False, best_func=best_func_best_tags)\n",
    "            print(f'Best leading values for {subfolder.name}: {best_leading_values}')\n",
    "        else:\n",
    "            plot_scalar_per_fold(fold_data, tag, best_epochs=best_leading_values, output_path=output_folder, display_plot=False, best_func=best_func_best_tags)"
   ]
  },
  {
   "cell_type": "code",
>>>>>>> 21257755db0807c78d0c2bc56c74d81de3048383
   "outputs": [
    {
     "name": "stdout",
     "output_type": "stream",
     "text": [
<<<<<<< HEAD
      "mean of div1000_controls_vol_list: 3.3130434782608695\n",
      "std of div1000_controls_vol_list: 34.22317594696115\n",
      "mean of controls_vol_list: 126.80289855072463\n",
      "std of controls_vol_list: 434.8318842125429\n",
      "max of div1000_controls_vol_list: 1114.0\n",
      "max of controls_vol_list: 6482.0\n",
      "number of non-zero values in div1000_controls_vol_list: 773\n",
      "number of non-zero values in controls_vol_list: 2523\n"
     ]
    },
    {
     "data": {
      "text/plain": "<Figure size 640x480 with 1 Axes>",
      "image/png": "iVBORw0KGgoAAAANSUhEUgAAAiwAAAGdCAYAAAAxCSikAAAAOXRFWHRTb2Z0d2FyZQBNYXRwbG90bGliIHZlcnNpb24zLjguMiwgaHR0cHM6Ly9tYXRwbG90bGliLm9yZy8g+/7EAAAACXBIWXMAAA9hAAAPYQGoP6dpAABGNUlEQVR4nO3de1wU9f4/8NfsLrssEqKAKKLW0bykuCCIlnpSvKemR9HKSj3awQp+dlNLPXk3DK95qSDv6VdNKUuzzE5peUwtjPWWRygvJKAsiiiXXWA/vz+QyZU1dnGNAV7Px4Ni5zPzmfm8AXkx85lZSQghQERERKRgqqo+ACIiIqKKMLAQERGR4jGwEBERkeIxsBAREZHiMbAQERGR4jGwEBERkeIxsBAREZHiMbAQERGR4jGwEBERkeIxsBAREZHiaar6AFwtO/s6XPlmA5IE+Pjc5/J+qzvWpTzWxD7WxT7WpTzWxL6aXpey8VWkxgUWIXBPvqD3qt/qjnUpjzWxj3Wxj3UpjzWxr7bXhZeEiIiISPEYWIiIiEjxGFiIiIhI8WrcHBYior+CEAJWawmsVmultpckoLCwEEVFllo9L+FWrIl91b0uKpUKKpUakiTdVT8MLERETiouLsK1a1dQVFR4V/1cuaKqdOCpqVgT+6p7XbRad3h51YdG41bpPhhYiIicIIRAdnYmVCoV6tb1hVqtqfRfjmq1hJKSavgn8z3EmthXXesihEBJSTFu3MhBdnYmGjQIrPTPCwMLEZETiouLIIQVdev6Qat1v6u+NBoViour71/N9wJrYl/1rosOarUaV65cQnFxEdzctJXqhZNuiYgqQZL4zyeRo1zx88KfOCIiIlI8XhIiInIRSYJT1+clSYJKVbnr+UKIannHCFFl8QwLEZELSBJQJKlw1VLi8Ed2YbFT69/6USSpcJd3iWL16njExERh9+6diIwc5NS2ubnXMGhQH2RkpNssP3PmNP71r9Ho2bMLnntuFE6f/sWmfe/eLzFixGD07NkFU6ZMRE5OjtwmhMDKlcswcGAv9O8fgXfffUcRd8akpPwPx48bK719ZOQg7N6904VH5Bxnvr5l3xPObvfNN1/j6tUrlT5GR/AMCxGRC0iShDxLMb49fRn55mLHtlFJEFbnT5N46DTo0boB6mnVEC44zdKzZ288/HBXh9fPzc3F66+/Uu4XVEFBASZNegm9e/fHtGkzsWNHIiZPfhlbt+6AXq/HqVMnMH/+HEycOAUPPtgKS5cuwFtvzURc3FIAwJYtm/DVV19i3ryFKCkpxuzZb8Lbuz5Gjnz2rsd4N6ZOnYR//vNfCAoyVOlx/NUc/b7IzMzA9OlvYNu2z+7p8TCwEBG5UL65GDccDCwqlQRrJQKLq+l07tDpHLvjyWhMxty5M+Dh4VGu7T//+QparTuio1+CJEl46aXXcOjQf/Htt1/jsccGITHxI0RE9Eb//gMBAG++ORuRkYOQnn4RAQGNsW3bZkRFvQCDIRgA8MIL/w8ffPBelQcWV4TC6sjR74u/qj68JOSguz31SkRU1c6e/Q0vvDAOPXt2wYQJz+PatRwAtqf+o6LGYPXqeJvtnn9+LNatWwUAOHLkBwwYMAjz5sWV6//kyRNo394gz+ORJAlBQQacOHFMbjcYQuT1/f0bwt+/IU6ePA6TKQuXL19CSEgHub19+2BkZmbAZDI5NL49e3Zj5Mhh6NmzC55/fizOnDktt+3evRNPPx2JiIguGDfuWSQnH5XbIiMH4eOPtyEqagwiIh7BmDEj5UtZMTFRyMzMwFtvzcK8eTNx9OhPiIwchIULY9G376PYuHFdhf3fKiXlDJ5/fix69uyCIUP6Y+3aDxwa27///Qbmzp1hs2zmzGmYP38OAODy5Ut488030L9/BAYM6ImlSxfAYrE41Ped3H5JKD5+JQYP7ouIiC6IiYnCb7/9CgAYPvxx+f/38tIXA0sFJAnIybegCHd/vZiIqKpYLBZMnvwyAgIaY82aTejevSc+/fTjcuv16tUH+/d/I782mbJw8uRx9OrVFwDwr3+9gDFjnoNarS63bXa2Cb6+fjbL6tWrj6ysyxW2l4WSW9vr168PAMjKulTh+A4f/gGxsbMxYsRTWL9+C1q3boPJk19BUVERdu/eiSVL4vDMM2Owbt0mhIWFY9Kkl+TjAoA1a+Jvtm+Gp6cn3nlnAQDgrbcWoEEDf0yY8BpeemkigNJLIBaLBatXb0SvXv0c6r/M3Lkz8OCDrfDhhx/hjTfexKZN6/HDDwcqHF/v3n3x3/9+j+Li0rN3FosFBw8eQM+efVBUVIQJE15AYWEBVqxIwOzZ83Hw4AG8++6yCvt11P793+Kzzz7G7Nlv48MPt8LHxwexsbMAAB98sF7+f8+evV22z9sxsFRIwvXCYtywFN/1+yAQEVWVn346gmvXrmHixClo1ux+DB06HH//e49y60VE9Ma5c2eRlnYBALBv33/w4IOtEBjYpMJ9mM2F0GptHwqm1WphsRRV0G6B2Vwovy5T9oCxsu3/zKeffozevfthyJBIBAY2QXT0y+jVqy9yc69h+/YtiIx8Ev37D0TTpvfjhRf+H/72txZITPxI3r5//0H4+9+7o2nTZnjyyafxyy+nAABeXnWhUqng6ekJT09Pef2nnx6NwMAmaNiwoUP9l8nMTEfdunXRsGEjdO78CJYufRctW7aucHwPP9wFQlhx9OhPAIAjRw5Bp9OhQ4cwHD58ECbTZbz55hw0b94CoaEd8eqrr+OTT7YhPz+/wr4dkZmZDo3GDf7+DdG4cSBefnkyYmJeBQB4e9eT/+/opcXKYGAhIqoFzp37DYGBTaDX6+Vlbdo8VG49X18/tG8fjH37Ss+y7Nv3DXr16uPQPsrCx60sFgvc3XUVtLvLQeXW9qKi0s/d3Sv+JXjhwnm0avXHL343NzfExLwMHx9fnDt3Dg891NZm/XbtgnD+/Fn59a2BzMOjjnwm404aNmwkf+5I/2WeffafWL9+NQYP7ofY2NmwWCzw8fGtcHxarRbdunWXz37t3/8NunfvCbVajXPnzqJJk6bw8vKS1w8Kao+SkhJcvJhWYd+O6NWrL3Q6HUaMeBwvvDAOX3yxCw888DeX9O0oBhYiolrDdnLknd6Iruyy0NWrV3D8uBEREY6d5vf1bYArV7Jtll25ki3/Qv6zdj+/BgCA7Ow/2ss+d+QXukZz53tIbj+rAwAlJVaUlPxxy7Sbm3NvyqfT6Zzqv8wzz4zB1q078PTTo5CefhEvvfQCdu7c4dA+e/bsg++/3w+LxYIDB76TL79otbpy65bt294xVIaPjy/+7/8SMX/+YjRv3gKbN3+I8ePHoLDw7t4A1BkMLEREtcADDzRHWtoF3LhxQ16WkvI/u+t2794LqalnsHPnDrRp09bmbMKfadu2HY4fPybfNSKEwPHjRrRtGyS3HzuWLK9/6VImLl++hLZtg+Dr6wd//4YwGn+W248dS4a/f0P4+lYcWAIDmyA1NUV+XVJSguHDH8exY8lo2rQZTp48YbP+yZPH0bRpM4fGVdF0AEf7N5vNWLp0Idzc3PDkk89g+fJ4PP74P+SzWRUJCwuH1VqCrVs3wd3dXZ7A3LRpM6SlXUBu7rVb9n8MarUajRsHOtR3RQ4ePICdO3fgkUe6YuLEKVi37v+QlnYBv/6a+pdNl2BgISJyIQ+dBp4OftRxYt1bPzx0zj+RomPHTvD3b4j582fj3Lmz2L17J/7zn7121/X29kaHDh3x4YfrHD67AgA9evTEjRvX8c47i3D27G94551FKCwskPv4xz8isWfPbuzatQOpqSmYO3cGHnmkKwICGgMAhgyJxLvvLsPRoz/h6NGf8P77KzB8+JMO7Tsy8gl89dUX+OKLXfj99zQsX74YVqsVrVq1xhNPPI3ExK348svPceHCebz33nL8+msKBg0a4lDf7u7uOH/+nE0guJWj/et0Ohw7lowlSxbgwoVzOH36FIzGn9GyZSuHjkOj0eDRRyOwYcNa9OjRUw4KHTt2QkBAY8yZMx2//pqKo0d/wpIlC9C7dz/cd999DvVdEavVipUrl2L//m+RkZGO3bt3wt3dHU2aNIW7e+llxtTUMy6bM2MPn8NCROQCQgjU0ZY+0M1RkiRV+hkWdbQaCOH46X6NRoO4uKV4++25GDv2GTRv3gJDhw7H6dOn7K7fq1cf/PTTYacCS506noiLW4KFC2Px2WefoHnzFliw4B153ky7du0xadJUrFr1Pq5fz0XHjp3x+uvT5O1HjnwW165dxdSpk6DRqDFgwGA88cTTDu07OLgDXn31daxd+wGys01o3fohxMUthU7njp49e+PKlWysWvU+rlzJRosWLbF48Qo0a3a/Q33/4x/D8d57y5CWdgGRkU+Ua3em/9mzY7F48dt47rnRUKvViIjohTFjxjl0HKX76oNPP/0YPXv2lZep1WrMn78YS5bEISpqNDw86qBPn36Iiop2uN+KdO36d4wb9zyWL1+MK1ey0bTp/YiNXSTPm+nbtz+mT5+CF174fxgxYqTL9nsrSdSwJ+KYTNdd+v4aKpWEfEkFs7kI9bRqRTzkSQkkCfD1vc/l9a7OWBP7alpdioosyM7OgI9PI/kuljLOvpeQWq2q9ByDmvpeQhqNCsXFVf84fqWp7nWp6OfG17fiM0E8w0JE5CJCOPfUT5VK8I8gIgcxsBARkaLt2/cfzJs3847t7duHYNEi1z0krSoMGNDzT59Mu3nzdvj6+t/VPqp7HRlYiIhI0cLDH8batf93x/ZbbzGurhIS1v/p2bnbnxBcGdW9jgwsRESkaB4eHnbfbLEmqej2Y1fMYanudeRtzURERKR4DCxERESkeAwsREREpHgMLERERKR4DCxERESkeAwsREQuIkmlT8d29EOSHF+3/LZVPdpS+fl5+OKLXZXefvXqeMTERLnwiJzXtWsYjh79qcL1MjLS0bVrGDIy0p3a7uLF3/HDD/+96+Os7XhbMxGRC0gS4CEVQFWU6/g2xZV/LyGrmxfyoa/yx/Nv2bIJR4/+hP79B1btgVSBTz/9El5edStcb/78OQgO7oCHH+7yFxxVzcXAQkTkApIkQVWUC+uZvYAlz7FtVBJEZR7Nr60DVcvekNw8Kh14XKWq91+VfHx8HVqvNtfIlRhYiIhcyZIHYb7h0KqVDSyVvRr0++9pWLw4DsePJ+O++7zw1FPPYvjwJ3Hu3FksW7YYJ04cg4eHBwYPHorRo8dBpVJh9ep4/P57GurUqYOvvvoSWq0WTz31DJ5+ejR2796JtWs/AFB6eeTAgZ8QGTkIERG9sWfP56hf3wdr1mzC+fPn7tj/rYqLixEX9zb27/8GFosFHTqEYeLEKfDz+/N3wD506CCmTZuEzz//D9zd3QEAR44cwr///Tp27twDNzcttmzZiE8+SUR2tglt27bDyy9PQvPmLSpZSchjXrbsfXToEIakpB+xfPkSXLhwDj4+fnj66VEYMmQY5s2bieTko0hOPoqff07CihUJd7XP2oxzWIiIagGz2YxXXomBh4ce8fHr8OqrryMhYSX27NmN6Ojn4Ovri4SEdXjttdeRmLgV27Ztlrf99tuvodVqsWbNRowc+Szee285Llw4j549e+PJJ59Bu3bt8emnX8rr7937JRYvXompU2fi2rVrFfZfJjFxK37+OQmLF6/EqlUfIj8/H8uWLa5wbGFh4dDr9Th06I95Ivv2/Qddu/4dOp071q79AJs3b8RLL72KNWs2omHDRnjttf+HgoKCu6xqqZKSErz55hvo0aMnNm3ajn/963ksXvw2zp79DS+9NBHt2rXHk08+g7feWuCS/dVWPMNCRFQL/PjjIeTkXMXUqTPg4VEHf/tbc7z88iRcu3YNOp07Jk+eBo1Gg/vvfwDZ2SasXfsBnnjiaQBA3bp1ER39MtRqNUaOHIWNG9fj9Olf0LRpM+j1emg0GpvLI3369JfPXmzbtqXC/stkZGRAp9OhUaNG8PKqi2nTSgNPRTQaDR59NAL79n2D7t17oqSkBN9/vx+vv/5vCCGQmPgRxo+PRteujwIAXn/93xgxYjD27NmNIUOG3XVt8/JuIDf3GurX90GjRgFo1CgAvr5+8PHxhaenJzQaDfR6vUPzXejOeIaFiKgWuHDhPJo0aQoPjzrysgEDHseFC+fQqlUbaDR//P3arp0B2dnZuH79OgCgUaPGUKvVcruHhwdKSorvuK9GjRrJn58/f7bC/ss8/vg/kJ1twuOP98Urr0Tjhx/+i/vvv9+h8fXs2Qc//HAARUVFMBp/RlFRETp1ehhXr15Bbu41PPRQO3ldjUaD1q0fwvnz5xzquyJeXnUxZEgk3n57LoYNG4jFi99GnTqe8PLyckn/VIqBhYioFrg1MNxKq9WWW2a1ltj83962fzaRVKvV3fJ5xf2X+dvfmuOTT3Zh+vS58PHxRXz8CrzySoxDk1aDgztAr/fAjz8exv793+Dvf+8ONzc3m2O5/Rhu3//dmDjxDWzYsBWPP/4PnDp1ElFRo3krs4sxsBAR1QKBgU1x8WIaCgsL5WUrVizFxx9vw//+9wuKi/84Y3LixHF4e9dz6BKGVMEDYZo2beZw/198sQvff/8dIiJ64d//noWFC5fj2LFkXL16pcLjUKlU6NGjFw4ePIDvv9+PXr36AgA8PT1Rv74PTp48Lq9bXFyM//3vNJo2bVZhv47IzjZh0aK3ERjYBKNHj8OqVRsQGhqO//73OwAV14gcw8BCRORK2jqQdJ4OfcDB9cptp61T8XHcJjy8M+rX98GCBfNw/vw5HDiwH59+mog5c+ajqKgIcXHzcO7cWXz//T6sWROPf/wj0qFftO7uephMJvlharfr06e/w/3n5d3AkiUL8dNPR5CefhF7936BBg38Ubeut0Nj7NmzD/bs2S3fYVTmiSdGYvXqeBw48B3OnTuLt9+eC4vFjIiIPg71WxEvr7r47rtvsGzZYly8+DuSk48iNfUMHnywFQBAr9fj99/THApedGecdEtE5AJCCFjdvKBq2dvhbSTp7h4c58y2Go0G8+cvxuLFb+Of/3waPj4+iI5+Cd26dYe/f0O8884ijB37NLy962H48Kfw7LP/dKjfRx/tgU8/TcQzzwzH9u07y7V7eNTBokXLHOp/6NARMJmyMGfOdFy/notWrdpg/vxFNvNn/ky7dkHw9vZGp04P21zGevLJZ5CXl4e4uHnIy7uBdu0MWL48HvXq1XOo34q4ublh/vzFeOedRRg9+kl4eNTBgAGPY9CgIQCAgQOHIDZ2Ns6fP4s1aza5ZJ+1kSRq2BNtTKbrLn3yo0olIV9SwWwuQj2tGtbKPOSpBpIkwNf3PpfXuzpjTeyraXUpKrIgOzsDPj6N4OZmOz9Dkpw7/a9Wq1BSYq3UcQghakQ9b6fRqFBcXLma1GTVvS4V/dz4+t5XYR88w0JE5CJCOPdUU5VK8I8gIgc5HVgsFgtiY2Oxa9cuuLm5ITIyEq+88gokScKpU6cwY8YMnDlzBi1atMCsWbPQrt0ft5Lt2rULS5cuRVZWFrp27Yo5c+agfv36AEp/yBctWoTt27fDarUiMjISEydOLPckRCIiql3eeWcRdu3accf2Z5/9J0aNGnvX+xkwoCcsFssd2z/8cBsaNmx41/uhynE6sMydOxeHDx/G6tWrkZeXh1deeQUBAQF4/PHHERUVhUGDBmH+/PnYvHkzxo8fj71798LDwwPHjh3DtGnTMGvWLLRu3Rrz5s3DlClTEB8fDwBYu3Ytdu3ahRUrVqC4uBiTJk2Cj48Pxo0b5/JBExFR9TFq1FgMGzbiju2uet5JQsL6Pz1D5uvr2HsH0b3hVGDJyclBYmIi1q5di/bt2wMAxo4dC6PRCI1GA51Oh8mTJ0OSJEybNg3fffcdvvzySwwdOhQbN25E//79MWTIEABAXFwcevTogbS0NDRp0gQbNmzAhAkTEBZWOrN74sSJeOeddxhYiIhquXr16rlsguyfadw48J7vgyrPqestSUlJ8PT0RHh4uLwsKioKsbGxMBqNCA0NlSecSZKEDh06IDk5GQBgNBrlMAKUPgkxICAARqMRly5dQkZGBjp27Ci3h4aG4uLFi7h8+fLdjI+I6J6oYfcrEN1Trvh5ceoMS1paGho3bowdO3bg/fffR1FREYYOHYoXXngBWVlZaNHC9p0vfXx8kJKSAgC4fPkyGjRoUK49MzMTWVlZAGDTXnbqLTMzs9x2f8bVz+e5vT8+/6dUWR1Yjz+wJvbVtLpoNKW32Fos5js+RZWIbFksZgClt9dX9veqU4ElPz8f58+fx5YtWxAbG4usrCxMnz4der0eBQUF5R7BrNVq5QlMhYWFd2wve/Lire1ln//ZBCh7fHwqvjXKWXlX8qHTucGnvofL+67u7kW9qzvWxL6aVJfi4nxcvZoDtVqCTqcDULk05uQ/b7UCa2Jf9a2LgNlsRn7+Nfj41EeDBpV/A0inAotGo8GNGzewaNEiNG7cGACQnp6OzZs3o1mzZuXChcVigbu7OwBAp9PZbdfr9TbhpPSH/4+gotfrnRpQdrbrn8MClD6HJTv7Bk8D3yRJpb+AXF3v6ow1sa8m1sXNzRM6nQXXrt3dk0tVKhWs1ur7bI17gTWxr7rXRa/3hJubJ0ym6+Xayv6NqIhTgcXPzw86nU4OKwDwwAMPICMjA+Hh4TCZTDbrm0wm+XKOv7+/3XY/Pz/4+/sDALKyshAYGCh/XrZPZ5Q+B8GpTSrs79Y/nmrKP7iu4up61wSsiX01qy4S6tb1wX331fvTdy3+0x4koF69Orh6Na8G1eXusCb2Vfe6qNUa+REld3P8TgUWg8EAs9mMs2fP4oEHHgAA/Pbbb2jcuDEMBgM++OADCCHkx00fPXoUzz//vLxtUlIShg4dCgDIyMhARkYGDAYD/P39ERAQgKSkJDmwJCUlISAgwKn5K0REfyWVSgWVqvy7ETtCkgB3d3e4uRVVy19C9wJrYh/rUsqpu4T+9re/oXv37pgyZQpOnz6N77//HgkJCXjqqafQr18/5ObmYt68eUhNTcW8efNQUFCA/v37AwCeeuopfPrpp9i2bRtOnz6NyZMno3v37mjSpIncvnDhQhw+fBiHDx/GokWLMGrUKNePmIiIiKodpx8ct3DhQsyZMwdPPfUU9Ho9nn76aTz77LOQJAnx8fGYMWMGPvroI7Rq1QoJCQnw8CidqBoSEoLZs2dj2bJluHbtGrp06YI5c+bI/Y4bNw7Z2dmIiYmBWq1GZGQkxowZ47KBEhERUfXFNz+sAN/80L6a9oZ2rsCa2Me62Me6lMea2FfT6+Lomx/yjXqIiIhI8RhYiIiISPEYWIiIiEjxnJ50WxtJEqBWSZAkCTdvJYcQokZeSyQiIlIiBpYKSBLghTyg5Bq0QgJQmlKsbl7Ih56hhYiI6C/AwFIhCWrLdRSf+QrWkoLSx/Rp60DVsjckNw8+qp+IiOgvwMDiIKslDyjOL32Sb1UfDBERUS3DSbdERESkeAwsREREpHgMLERERKR4DCxERESkeAwsREREpHgMLERERKR4DCxERESkeAwsREREpHgMLERERKR4DCxERESkeAwsREREpHgMLERERKR4DCxERESkeAwsREREpHgMLERERKR4DCxERESkeAwsREREpHgMLERERKR4DCxERESkeAwsREREpHgMLERERKR4DCxERESkeAwsREREpHgMLERERKR4DCxERESkeAwsREREpHgMLERERKR4DCxERESkeAwsREREpHgMLERERKR4DCxERESkeAwsREREpHgMLERERKR4DCxERESkeE4Hlr1796JVq1Y2HxMmTAAAnDp1CsOHD4fBYMCwYcNw4sQJm2137dqFXr16wWAwIDo6GleuXJHbhBBYuHAhOnfujPDwcMTFxcFqtd7l8IiIiKgmcDqwpKamokePHjhw4ID8MXfuXOTn5yMqKgphYWH4+OOPERISgvHjxyM/Px8AcOzYMUybNg0xMTHYunUrcnNzMWXKFLnftWvXYteuXVixYgWWLVuGnTt3Yu3ata4bKREREVVbTgeWX3/9FS1btoSfn5/84eXlhd27d0On02Hy5Mlo3rw5pk2bhjp16uDLL78EAGzcuBH9+/fHkCFD0Lp1a8TFxWH//v1IS0sDAGzYsAETJkxAWFgYOnfujIkTJ2LTpk2uHS0RERFVS5UKLPfff3+55UajEaGhoZAkCQAgSRI6dOiA5ORkuT0sLExev1GjRggICIDRaMSlS5eQkZGBjh07yu2hoaG4ePEiLl++7OwhEhERUQ2jcWZlIQTOnj2LAwcOID4+HiUlJejXrx8mTJiArKwstGjRwmZ9Hx8fpKSkAAAuX76MBg0alGvPzMxEVlYWANi0+/r6AgAyMzPLbfdnbuYll7m9v9u7d/X+qouycdfW8dvDmtjHutjHupTHmthX0+vi6LicCizp6ekoKCiAVqvF0qVL8fvvv2Pu3LkoLCyUl99Kq9XCYrEAAAoLC+/YXlhYKL++tQ2AvL2jfHzuc2p9R+RdAtRqNTzcbh6fVgvo3OBez9Pl+6pu7kW9qzvWxD7WxT7WpTzWxL7aXhenAkvjxo1x+PBh1K1bF5IkoU2bNrBarZg0aRLCw8PLhQuLxQJ3d3cAgE6ns9uu1+ttwolOp5M/BwC9Xu/UgLKzr0MIpzb5U2q1CloAJSUlyDdbACGAEjeozEXIy74B4cqdVSOSVPrD4+p6V2esiX2si32sS3msiX01vS5l46uIU4EFALy9vW1eN2/eHGazGX5+fjCZTDZtJpNJvpzj7+9vt93Pzw/+/v4AgKysLAQGBsqfA4Cfn59TxycEXPoFvb0vAdvLQjXxm8cZrq53TcCa2Me62Me6lMea2Ffb6+LUpNvvv/8enTp1QkFBgbzsl19+gbe3N0JDQ/Hzzz/LZxyEEDh69CgMBgMAwGAwICkpSd4uIyMDGRkZMBgM8Pf3R0BAgE17UlISAgICnJq/QkRERDWTU4ElJCQEOp0O//73v/Hbb79h//79iIuLw3PPPYd+/fohNzcX8+bNQ2pqKubNm4eCggL0798fAPDUU0/h008/xbZt23D69GlMnjwZ3bt3R5MmTeT2hQsX4vDhwzh8+DAWLVqEUaNGuX7EREREVO04dUnI09MTq1evxltvvYVhw4ahTp06ePLJJ/Hcc89BkiTEx8djxowZ+Oijj9CqVSskJCTAw8MDQGnYmT17NpYtW4Zr166hS5cumDNnjtz3uHHjkJ2djZiYGKjVakRGRmLMmDEuHSwRERFVT5KoYbNGTSbXT7rVFV2CxZgIXXE+hBCQdJ5QtRuCPLeGsFprVPkcJkmAr+99Lq93dcaa2Me62Me6lMea2FfT61I2vorwzQ+JiIhI8RhYiIiISPEYWIiIiEjxGFiIiIhI8RhYiIiISPEYWIiIiEjxGFiIiIhI8RhYiIiISPEYWIiIiEjxGFiIiIhI8RhYiIiISPEYWIiIiEjxGFiIiIhI8RhYiIiISPEYWIiIiEjxGFiIiIhI8RhYiIiISPEYWIiIiEjxGFiIiIhI8RhYiIiISPEYWIiIiEjxGFiIiIhI8RhYiIiISPEYWIiIiEjxGFiIiIhI8RhYiIiISPEYWIiIiEjxGFiIiIhI8RhYiIiISPEYWIiIiEjxGFiIiIhI8RhYiIiISPEYWIiIiEjxGFiIiIhI8RhYiIiISPEYWIiIiEjxGFiIiIhI8RhYiIiISPEYWIiIiEjxGFiIiIhI8RhYiIiISPEqHViioqLwxhtvyK9PnTqF4cOHw2AwYNiwYThx4oTN+rt27UKvXr1gMBgQHR2NK1euyG1CCCxcuBCdO3dGeHg44uLiYLVaK3toREREVMNUKrB8/vnn2L9/v/w6Pz8fUVFRCAsLw8cff4yQkBCMHz8e+fn5AIBjx45h2rRpiImJwdatW5Gbm4spU6bI269duxa7du3CihUrsGzZMuzcuRNr1669y6ERERFRTeF0YMnJyUFcXByCgoLkZbt374ZOp8PkyZPRvHlzTJs2DXXq1MGXX34JANi4cSP69++PIUOGoHXr1oiLi8P+/fuRlpYGANiwYQMmTJiAsLAwdO7cGRMnTsSmTZtcNEQiIiKq7pwOLG+//TYGDx6MFi1ayMuMRiNCQ0MhSRIAQJIkdOjQAcnJyXJ7WFiYvH6jRo0QEBAAo9GIS5cuISMjAx07dpTbQ0NDcfHiRVy+fLmy4yIiIqIaROPMyj/88AN++ukn7Ny5EzNnzpSXZ2Vl2QQYAPDx8UFKSgoA4PLly2jQoEG59szMTGRlZQGATbuvry8AIDMzs9x2FbmZmVzm9v5u797V+6suysZdW8dvD2tiH+tiH+tSHmtiX02vi6PjcjiwmM1mzJgxA9OnT4e7u7tNW0FBAbRarc0yrVYLi8UCACgsLLxje2Fhofz61jYA8vbO8PG5z+ltKpJ3CVCr1fBwu3mMWi2gc4N7PU+X76u6uRf1ru5YE/tYF/tYl/JYE/tqe10cDiwrVqxAu3bt0K1bt3JtOp2uXLiwWCxysLlTu16vtwknOp1O/hwA9Hq9E0MplZ19HUI4vdkdqdUqaAGUlJQg32wBhABK3KAyFyEv+waEK3dWjUhS6Q+Pq+tdnbEm9rEu9rEu5bEm9tX0upSNryIOB5bPP/8cJpMJISEhAP4IFXv27MHAgQNhMpls1jeZTPLlHH9/f7vtfn5+8Pf3B1B6WSkwMFD+HAD8/PwcPTyZEHDpF/T2vgRsLwvVxG8eZ7i63jUBa2If62If61Iea2Jfba+Lw5NuP/zwQ+zcuRM7duzAjh07EBERgYiICOzYsQMGgwE///yzfLZBCIGjR4/CYDAAAAwGA5KSkuS+MjIykJGRAYPBAH9/fwQEBNi0JyUlISAgwOn5K0RERFQzOXyGpXHjxjav69SpAwBo1qwZfHx8sGjRIsybNw9PPvkktmzZgoKCAvTv3x8A8NRTT+HZZ59FcHAwgoKCMG/ePHTv3h1NmjSR2xcuXIiGDRsCABYtWoSxY8e6ZIBERERU/Tl1l9CdeHp6Ij4+HjNmzMBHH32EVq1aISEhAR4eHgCAkJAQzJ49G8uWLcO1a9fQpUsXzJkzR95+3LhxyM7ORkxMDNRqNSIjIzFmzBhXHBoRERHVAJKoYbNGTSbXT7rVFV2CxZgIXXE+hBCQdJ5QtRuCPLeGsFprVPkcJkmAr+99Lq93dcaa2Me62Me6lMea2FfT61I2vorwzQ+JiIhI8RhYiIiISPEYWIiIiEjxGFiIiIhI8RhYiIiISPEYWIiIiEjxGFiIiIhI8RhYiIiISPEYWIiIiEjxGFiIiIhI8RhYiIiISPEYWIiIiEjxGFiIiIhI8RhYiIiISPEYWIiIiEjxGFiIiIhI8RhYiIiISPEYWIiIiEjxGFiIiIhI8RhYiIiISPEYWIiIiEjxGFiIiIhI8RhYiIiISPEYWIiIiEjxGFiIiIhI8RhYiIiISPEYWIiIiEjxGFiIiIhI8RhYiIiISPEYWIiIiEjxGFiIiIhI8RhYiIiISPEYWIiIiEjxGFiIiIhI8RhYiIiISPEYWIiIiEjxGFiIiIhI8RhYiIiISPEYWIiIiEjxGFiIiIhI8RhYiIiISPGcDiznz5/HuHHjEBISgu7du2PVqlVyW1paGsaMGYPg4GA89thjOHDggM22Bw8exMCBA2EwGDBq1CikpaXZtK9btw7dunVDSEgIpk6dioKCgkoOi4iIiGoSpwKL1WpFVFQU6tWrh08++QSzZs3Ce++9h507d0IIgejoaPj6+iIxMRGDBw9GTEwM0tPTAQDp6emIjo7G0KFDsX37dtSvXx8vvvgihBAAgD179mDFihWYPXs21q9fD6PRiAULFrh+xERERFTtOBVYTCYT2rRpg5kzZ+L+++/Ho48+iocffhhJSUk4dOgQ0tLSMHv2bDRv3hzjx49HcHAwEhMTAQDbtm1Du3btMHbsWDz44IOIjY3FxYsXceTIEQDAhg0bMHr0aPTo0QPt27fHrFmzkJiYyLMsRERE5FxgadCgAZYuXQpPT08IIZCUlIQff/wR4eHhMBqNeOihh+Dh4SGvHxoaiuTkZACA0WhEWFiY3KbX69G2bVskJyejpKQEx48ft2kPDg5GUVERTp8+fZdDJCIioupOU9kNIyIikJ6ejh49eqBv375466230KBBA5t1fHx8kJmZCQDIysq6Y3tubi7MZrNNu0ajgbe3t7y9oySpkgNysL/bu3f1/qqLsnHX1vHbw5rYx7rYx7qUx5rYV9Pr4ui4Kh1Yli1bBpPJhJkzZyI2NhYFBQXQarU262i1WlgsFgD40/bCwkL59Z22d5SPz33ODqVCeZcAtVoNDzdt2YEBOje41/N0+b6qm3tR7+qONbGPdbGPdSmPNbGvttel0oElKCgIAGA2mzFx4kQMGzas3HwTi8UCd3d3AIBOpysXPiwWC7y8vKDT6eTXt7fr9Xqnjis7+zpuzuN1CbVaBS2AkpIS5JstgBBAiRtU5iLkZd+QJw3XNpJU+sPj6npXZ6yJfayLfaxLeayJfTW9LmXjq4hTgcVkMiE5ORm9evWSl7Vo0QJFRUXw8/PDb7/9Vm79sss8/v7+MJlM5drbtGkDb29v6HQ6mEwmNG/eHABQXFyMnJwc+Pn5OXOIEAIu/YLe3peA7WWhmvjN4wxX17smYE3sY13sY13KY03sq+11cWrS7e+//46YmBhcunRJXnbixAnUr18foaGhOHnypHx5BwCSkpJgMBgAAAaDAUlJSXJbQUEBTp06BYPBAJVKhaCgIJv25ORkaDQatG7dutKDIyIioprBqcASFBSEtm3bYurUqUhNTcX+/fuxYMECPP/88wgPD0ejRo0wZcoUpKSkICEhAceOHUNkZCQAYNiwYTh69CgSEhKQkpKCKVOmIDAwEJ06dQIAjBw5EqtXr8bXX3+NY8eOYebMmRgxYoTTl4SIiIio5nEqsKjVarz77rvQ6/V44oknMG3aNDz77LMYNWqU3JaVlYWhQ4fis88+w8qVKxEQEAAACAwMxPLly5GYmIjIyEjk5ORg5cqVkG5ODx4wYADGjx+P6dOnY+zYsWjfvj0mTZrk+hETERFRtSOJGjZr1GRy/aRbXdElWIyJ0BXnQwgBSecJVbshyHNrCKu1RpXPYZIE+Pre5/J6V2esiX2si32sS3msiX01vS5l46sI3/yQiIiIFI+BhYiIiBSPgYWIiIgUj4GFiIiIFI+BhYiIiBSPgYWIiIgUj4GFiIiIFI+BhYiIiBSPgYWIiIgUj4GFiIiIFI+BhYiIiBSPgYWIiIgUj4GFiIiIFI+BhYiIiBSPgYWIiIgUj4GFiIiIFI+BhYiIiBSPgYWIiIgUj4GFiIiIFI+BhYiIiBSPgYWIiIgUj4GFiIiIFI+BhYiIiBSPgYWIiIgUj4GFiIiIFI+BhYiIiBSPgYWIiIgUj4GFiIiIFI+BhYiIiBSPgYWIiIgUj4GFiIiIFI+BhYiIiBSPgYWIiIgUj4GFiIiIFI+BhYiIiBSPgYWIiIgUj4GFiIiIFI+BhYiIiBSPgYWIiIgUj4GFiIiIFM+pwHLp0iVMmDAB4eHh6NatG2JjY2E2mwEAaWlpGDNmDIKDg/HYY4/hwIEDNtsePHgQAwcOhMFgwKhRo5CWlmbTvm7dOnTr1g0hISGYOnUqCgoK7nJoREREVFM4HFiEEJgwYQIKCgqwadMmLFmyBN9++y2WLl0KIQSio6Ph6+uLxMREDB48GDExMUhPTwcApKenIzo6GkOHDsX27dtRv359vPjiixBCAAD27NmDFStWYPbs2Vi/fj2MRiMWLFhwb0ZMRERE1Y7DgeW3335DcnIyYmNj8eCDDyIsLAwTJkzArl27cOjQIaSlpWH27Nlo3rw5xo8fj+DgYCQmJgIAtm3bhnbt2mHs2LF48MEHERsbi4sXL+LIkSMAgA0bNmD06NHo0aMH2rdvj1mzZiExMZFnWYiIiAiAE4HFz88Pq1atgq+vr83yGzduwGg04qGHHoKHh4e8PDQ0FMnJyQAAo9GIsLAwuU2v16Nt27ZITk5GSUkJjh8/btMeHByMoqIinD59urLjIiIiohrE4cDi5eWFbt26ya+tVis2btyIzp07IysrCw0aNLBZ38fHB5mZmQDwp+25ubkwm8027RqNBt7e3vL2REREVLtpKrvhggULcOrUKWzfvh3r1q2DVqu1addqtbBYLACAgoKCO7YXFhbKr++0vTMkyelNnOrv9u5dvb/qomzctXX89rAm9rEu9rEu5bEm9tX0ujg6rkoFlgULFmD9+vVYsmQJWrZsCZ1Oh5ycHJt1LBYL3N3dAQA6na5c+LBYLPDy8oJOp5Nf396u1+udPjYfn/uc3qYieZcAtVoND7eboUqrBXRucK/n6fJ9VTf3ot7VHWtiH+tiH+tSHmtiX22vi9OBZc6cOdi8eTMWLFiAvn37AgD8/f2Rmppqs57JZJIv8/j7+8NkMpVrb9OmDby9vaHT6WAymdC8eXMAQHFxMXJycuDn5+f0gLKzr+PmzUcuoVaroAVQUlKCfLMFEAIocYPKXIS87BvynU61jSSV/vC4ut7VGWtiH+tiH+tSHmtiX02vS9n4KuJUYFmxYgW2bNmCxYsXo1+/fvJyg8GAhIQEFBYWymdVkpKSEBoaKrcnJSXJ6xcUFODUqVOIiYmBSqVCUFAQkpKS0KlTJwBAcnIyNBoNWrdu7czhASjNE678gt7el4DtZaGa+M3jDFfXuyZgTexjXexjXcpjTeyr7XVxeNLtr7/+infffRf/+te/EBoaiqysLPkjPDwcjRo1wpQpU5CSkoKEhAQcO3YMkZGRAIBhw4bh6NGjSEhIQEpKCqZMmYLAwEA5oIwcORKrV6/G119/jWPHjmHmzJkYMWJEpS4JERERUc3j8BmW//znPygpKcF7772H9957z6btf//7H959911MmzYNQ4cORbNmzbBy5UoEBAQAAAIDA7F8+XK89dZbWLlyJUJCQrBy5UpIN2faDBgwABcvXsT06dNhsVjQp08fTJo0yYXDJCIioupMEjVsEobJ5Po5LLqiS7AYE6ErzocQApLOE6p2Q5Dn1hBWa40qn8MkCfD1vc/l9a7OWBP7WBf7WJfyWBP7anpdysZXEb75IRERESkeAwsREREpHgMLERERKR4DCxERESkeAwsREREpHgMLERERKR4DCxERESkeAwsREREpHgMLERERKR4DCxERESkeAwsREREpHgMLERERKR4DCxERESkeAwsREREpHgMLERERKR4DCxERESkeAwsREREpHgMLERERKR4DCxERESkeAwsREREpHgMLERERKR4DCxERESkeAwsREREpHgMLERERKR4DCxERESkeAwsREREpHgMLERERKR4DCxERESkeAwsREREpHgMLERERKR4DCxERESkeAwsREREpHgMLERERKR4DCxERESkeAwsREREpHgMLERERKR4DCxERESkeAwsREREpHgMLERERKR4DCxERESkeAwsREREpXqUDi8ViwcCBA3H48GF5WVpaGsaMGYPg4GA89thjOHDggM02Bw8exMCBA2EwGDBq1CikpaXZtK9btw7dunVDSEgIpk6dioKCgsoeHhEREdUglQosZrMZr776KlJSUuRlQghER0fD19cXiYmJGDx4MGJiYpCeng4ASE9PR3R0NIYOHYrt27ejfv36ePHFFyGEAADs2bMHK1aswOzZs7F+/XoYjUYsWLDABUMkIiKi6s7pwJKamooRI0bgwoULNssPHTqEtLQ0zJ49G82bN8f48eMRHByMxMREAMC2bdvQrl07jB07Fg8++CBiY2Nx8eJFHDlyBACwYcMGjB49Gj169ED79u0xa9YsJCYm8iwLEREROR9Yjhw5gk6dOmHr1q02y41GIx566CF4eHjIy0JDQ5GcnCy3h4WFyW16vR5t27ZFcnIySkpKcPz4cZv24OBgFBUV4fTp084eIhEREdUwGmc3GDlypN3lWVlZaNCggc0yHx8fZGZmVtiem5sLs9ls067RaODt7S1v7yhJcmp1p/u7vXtX76+6KBt3bR2/PayJfayLfaxLeayJfTW9Lo6Oy+nAcicFBQXQarU2y7RaLSwWS4XthYWF8us7be8oH5/7nD30CuVdAtRqNTzctGUHBujc4F7P0+X7qm7uRb2rO9bEPtbFPtalPNbEvtpeF5cFFp1Oh5ycHJtlFosF7u7ucvvt4cNiscDLyws6nU5+fXu7Xq936jiys6/j5jxel1CrVdACKCkpQb7ZAggBlLhBZS5CXvYNedJwbSNJpT88rq53dcaa2Me62Me6lMea2FfT61I2voq4LLD4+/sjNTXVZpnJZJIv8/j7+8NkMpVrb9OmDby9vaHT6WAymdC8eXMAQHFxMXJycuDn5+fUcQgBl35Bb+9LwPayUE385nGGq+tdE7Am9rEu9rEu5bEm9tX2urjswXEGgwEnT56UL+8AQFJSEgwGg9yelJQktxUUFODUqVMwGAxQqVQICgqyaU9OToZGo0Hr1q1ddYhERERUTbkssISHh6NRo0aYMmUKUlJSkJCQgGPHjiEyMhIAMGzYMBw9ehQJCQlISUnBlClTEBgYiE6dOgEoncy7evVqfP311zh27BhmzpyJESNGOH1JiIiIiGoelwUWtVqNd999F1lZWRg6dCg+++wzrFy5EgEBAQCAwMBALF++HImJiYiMjEROTg5WrlwJ6eb04AEDBmD8+PGYPn06xo4di/bt22PSpEmuOjwiIiKqxiRRw2aNmkyun3SrK7oEizERuuJ8CCEg6TyhajcEeW4NYbXWqPI5TJIAX9/7XF7v6ow1sY91sY91KY81sa+m16VsfBXhmx8SERGR4jGwEBERkeIxsBAREZHiMbAQERGR4jGwEBERkeIxsBAREZHiMbAQERGR4jGwEBERkeIxsBAREZHiMbAQERGR4jGwEBERkeIxsBAREZHiMbAQERGR4jGwEBERkeIxsBAREZHiMbAQERGR4jGwEBERkeIxsBAREZHiMbAQERGR4jGwEBERkeIxsBAREZHiMbAQERGR4jGwEBERkeIxsBAREZHiMbAQERGR4jGwEBERkeIxsBAREZHiMbAQERGR4jGwEBERkeIxsBAREZHiMbAQERGR4jGwEBERkeIxsBAREZHiMbAQERGR4jGwEBERkeIxsBAREZHiaar6AKotSQVJkqC6GfmEEBCiag+JiIiopmJgqQy1Fhq1BA9LJoDSlGJ180I+9AwtRERE9wADS2Wo3SBZ8iB+/R7CnAdo60DVsjckNw8IJhYiIiKXY2C5C8KSD2G+AamqD4SIiKiGY2BxkHTz447nT26b0wJwXgsREZGrKOouIbPZjKlTpyIsLAxdu3bFmjVrqvqQZJJKhRLA/tmUW+a01Cn648NDKoB0ywaSBKhUks2HxNMzREREFVLUGZa4uDicOHEC69evR3p6Ol5//XUEBASgX79+VX1oKC6xoqREwF1tJ2HcPqcFKJ3X0qovVG51IISAJAHuyIfKkmuzqVVbFwVCL7/mWRkiIqLyFBNY8vPzsW3bNnzwwQdo27Yt2rZti5SUFGzatEkRgQWo+LJQ2ZwWAJBuv5NIpYbGakHRmW8gLDdDjb4etK0ioCrOlXu9PcDc7Bm253Zuf125dRiOiIioulBMYDl9+jSKi4sREhIiLwsNDcX7778Pq9UKlarqr15JKgklcPA62u1nXTz9IDUNhSi6JdRo69iuYyfAQFJB7eaOEku+/deVXQeuCUeSJEGSKhegbg9MklTa390cj71+iYio+lNMYMnKykK9evWg1WrlZb6+vjCbzcjJyUH9+vUd6kelgkt/WUlS6X/UHt6wmrWARgVJXxeQVFDp68Kqdiv3GoC8TFK7QWi0kNRuFa+j1UMqKoB0MRnWosKb63hD5d8a1pvLbn9d6XV0ntA2C4e65Poft2LfDDXWovzSGt7++rZ1cPUK6pSU/Ok6t/ZjE6AAWN3qohDu8ms9CiAV3XLJrLJB7LZ+S7nmrJQj65Rm679mX9VnndL5W8o5HuWsU/77RfnHfG/XufV7pbL93OtjrJp1SutStcdzL/4YdHQupyQU8uCQHTt24J133sG3334rL0tLS0OvXr2wf/9+NGzYsAqPjoiIiKpS1V9nuUmn08FisdgsK3vt7n77X8tERERUmygmsPj7++Pq1asoLi6Wl2VlZcHd3R1eXl5VeGRERERU1RQTWNq0aQONRoPk5GR5WVJSEoKCghQx4ZaIiIiqjmKSgF6vx5AhQzBz5kwcO3YMX3/9NdasWYNRo0ZV9aERERFRFVPMpFsAKCgowMyZM/HVV1/B09MT48aNw5gxY6r6sIiIiKiKKSqwEBEREdmjmEtCRERERHfCwEJERESKx8BCREREisfA8ifMZjOmTp2KsLAwdO3aFWvWrKnqQ7qnLBYLBg4ciMOHD8vL0tLSMGbMGAQHB+Oxxx7DgQMHbLY5ePAgBg4cCIPBgFGjRiEtLc2mfd26dejWrRtCQkIwdepUFBQU/CVjuVuXLl3ChAkTEB4ejm7duiE2NhZmsxlA7a0JAJw/fx7jxo1DSEgIunfvjlWrVslttbkuZaKiovDGG2/Ir0+dOoXhw4fDYDBg2LBhOHHihM36u3btQq9evWAwGBAdHY0rV67IbUIILFy4EJ07d0Z4eDji4uJgtVr/srHcrb1796JVq1Y2HxMmTABQu+tisVgwa9YsdOzYEY888ggWL14svz1Kba6LQwTd0ezZs8WgQYPEiRMnxFdffSVCQkLEF198UdWHdU8UFhaK6Oho0bJlS3Ho0CEhhBBWq1UMGjRIvPbaayI1NVW8//77wmAwiIsXLwohhLh48aIIDg4Wq1evFmfOnBEvvfSSGDhwoLBarUIIIb788ksRGhoqvvnmG2E0GsVjjz0mZs2aVWVjdJTVahUjRowQzz33nDhz5oz48ccfRe/evcX8+fNrbU2EEKKkpET06dNHvPbaa+Ls2bNi3759okOHDuKzzz6r1XUps2vXLtGyZUvx+uuvCyGEyMvLE126dBHz588XqampYs6cOeKRRx4ReXl5QgghjEajaN++vfjkk0/EL7/8Ip555hkRFRUl97d69Wrx6KOPih9//FH88MMPomvXrmLVqlVVMrbKePfdd8X48ePF5cuX5Y9r167V+rq8+eabok+fPsJoNIqDBw+KTp06ic2bN9f6ujiCgeUO8vLyRFBQkPzLWwghVq5cKZ555pkqPKp7IyUlRTz++ONi0KBBNoHl4MGDIjg4WP6BEUKI0aNHi2XLlgkhhFi6dKlNPfLz80VISIi8/ciRI+V1hRDixx9/FO3btxf5+fl/xbAqLTU1VbRs2VJkZWXJy3bu3Cm6du1aa2sihBCXLl0SL730krh+/bq8LDo6WsyYMaNW10UIIa5evSr+/ve/i2HDhsmBZdu2bSIiIkIOZVarVfTu3VskJiYKIYSYNGmSvK4QQqSnp4tWrVqJCxcuCCGEePTRR+V1hRBix44dokePHn/VkO7aa6+9JhYtWlRueW2uy9WrV8VDDz0kDh8+LC+Lj48Xb7zxRq2ui6N4SegOTp8+jeLiYoSEhMjLQkNDYTQaa9xptiNHjqBTp07YunWrzXKj0YiHHnoIHh4e8rLQ0FD5acRGoxFhYWFym16vR9u2bZGcnIySkhIcP37cpj04OBhFRUU4ffr0vR3QXfLz88OqVavg6+trs/zGjRu1tiYA0KBBAyxduhSenp4QQiApKQk//vgjwsPDa3VdAODtt9/G4MGD0aJFC3mZ0WhEaGgopJtvRStJEjp06HDHmjRq1AgBAQEwGo24dOkSMjIy0LFjR7k9NDQUFy9exOXLl/+aQd2lX3/9Fffff3+55bW5LklJSfD09ER4eLi8LCoqCrGxsbW6Lo5iYLmDrKws1KtXD1qtVl7m6+sLs9mMnJycqjuwe2DkyJGYOnUq9Hq9zfKsrCw0aNDAZpmPjw8yMzMrbM/NzYXZbLZp12g08Pb2lrdXKi8vL3Tr1k1+bbVasXHjRnTu3LnW1uR2ERERGDlyJEJCQtC3b99aXZcffvgBP/30E1588UWb5RXV5PLly3dsz8rKAgCb9rIAXR1qIoTA2bNnceDAAfTt2xe9evXCwoULYbFYanVd0tLS0LhxY+zYsQP9+vVDz549sXLlSlit1lpdF0dpqvoAlKqgoMAmrACQX9/+rtI11Z1qUDb+P2svLCyUX99p++piwYIFOHXqFLZv345169axJgCWLVsGk8mEmTNnIjY2ttZ+r5jNZsyYMQPTp08v967yFdWksLDQqZpUp39/0tPT5fEvXboUv//+O+bOnYvCwsJaXZf8/HycP38eW7ZsQWxsLLKysjB9+nTo9fpaXRdHMbDcgU6nK/eFLnt9+z9MNZVOpyt3Nsliscjjv1ONvLy8oNPp5Ne3t99+JkfJFixYgPXr12PJkiVo2bIla3JTUFAQgNJf2BMnTsSwYcPK3dVTG+qyYsUKtGvXzuaMXJk7jbmimuj1eptfNrfXR+k1AYDGjRvj8OHDqFu3LiRJQps2bWC1WjFp0iSEh4fX2rpoNBrcuHEDixYtQuPGjQGUhrvNmzejWbNmtbYujuIloTvw9/fH1atXUVxcLC/LysqCu7s7vLy8qvDI/jr+/v4wmUw2y0wmk3za8U7tfn5+8Pb2hk6ns2kvLi5GTk4O/Pz87v3Bu8CcOXOwdu1aLFiwAH379gVQu2tiMpnw9ddf2yxr0aIFioqK4OfnVyvr8vnnn+Prr79GSEgIQkJCsHPnTuzcuRMhISF39b3i7+8PAPKp/ls/V3pNynh7e8vzMQCgefPmMJvNd/W9Ut3r4ufnB51OJ4cVAHjggQeQkZFR679fHMHAcgdt2rSBRqORJzwBpROmgoKCoFLVjrIZDAacPHlSPt0IlNbAYDDI7UlJSXJbQUEBTp06BYPBAJVKhaCgIJv25ORkaDQatG7d+q8bRCWtWLECW7ZsweLFizFgwAB5eW2uye+//46YmBhcunRJXnbixAnUr18foaGhtbIuH374IXbu3IkdO3Zgx44diIiIQEREBHbs2AGDwYCff/5ZfsaGEAJHjx69Y00yMjKQkZEBg8EAf39/BAQE2LQnJSUhICCg3DwGJfr+++/RqVMnm7Nuv/zyC7y9vREaGlpr62IwGGA2m3H27Fl52W+//YbGjRvX6u8Xh1XdDUrK9+abb4oBAwYIo9Eo9u7dKzp06CD27NlT1Yd1T916W3NxcbF47LHHxMsvvyzOnDkj4uPjRXBwsPxsjbS0NBEUFCTi4+PlZ2sMGjRIvi1v165dokOHDmLv3r3CaDSKAQMGiDlz5lTZ2ByVmpoq2rRpI5YsWWLzDInLly/X2poIUfr9MHToUDF27FiRkpIi9u3bJx555BGxbt26Wl2XW73++uvyrafXr18XnTt3FnPmzBEpKSlizpw5okuXLvKt30ePHhVt27YVH330kfxcjfHjx8t9xcfHi65du4pDhw6JQ4cOia5du4o1a9ZUybicdf36ddGtWzfx6quvil9//VXs27dPdO3aVSQkJNTqugghRFRUlHjiiSfEL7/8Ir777jvRuXNnsX79+lpfF0cwsPyJ/Px8MXnyZBEcHCy6du0q1q5dW9WHdM/dGliEEOLcuXPi6aefFu3atRMDBgwQ//3vf23W37dvn+jTp49o3769GD16tPxMgDLx8fHi4YcfFqGhoWLKlCmisLDwLxnH3YiPjxctW7a0+yFE7axJmczMTBEdHS06dOggunTpIt577z05dNTmupS5NbAIUfqwryFDhoigoCARGRkpTp48abN+YmKiePTRR0VwcLCIjo4WV65ckduKi4vFW2+9JcLCwkSnTp3EggUL5FpXB2fOnBFjxowRwcHBokuXLmL58uXy8dfmuuTm5opJkyaJ4OBg8fDDD7MuTpCEuHn+iYiIiEihasdkDCIiIqrWGFiIiIhI8RhYiIiISPEYWIiIiEjxGFiIiIhI8RhYiIiISPEYWIiIiEjxGFiIiIhI8RhYiIiISPEYWIiIiEjxGFiIiIhI8RhYiIiISPH+P1bjpPyn9SFrAAAAAElFTkSuQmCC"
     },
     "metadata": {},
     "output_type": "display_data"
    },
    {
     "data": {
      "text/plain": "<Figure size 640x480 with 1 Axes>",
      "image/png": "iVBORw0KGgoAAAANSUhEUgAAAiwAAAGdCAYAAAAxCSikAAAAOXRFWHRTb2Z0d2FyZQBNYXRwbG90bGliIHZlcnNpb24zLjguMiwgaHR0cHM6Ly9tYXRwbG90bGliLm9yZy8g+/7EAAAACXBIWXMAAA9hAAAPYQGoP6dpAAAyMklEQVR4nO3df3RU9YH//9edTGbym0ASYgIYXVRAxCEmAlvLR/F4rCi7egD9VLdFPtCFXWE537NVu0C/yg+Rs/xoXYpaUxVh9VTEWLvQfrW13y5bjxV3gwmlLN1QFWN+QAYJ+T2TzNzPH5PMD5LoDD/MO+H5OGfO3Hvf907el5lMXrx/3GvZtm0LAADAYI7BrgAAAMCXIbAAAADjEVgAAIDxCCwAAMB4BBYAAGA8AgsAADAegQUAABiPwAIAAIxHYAEAAMYjsAAAAOM5B7sCF9qpUy3iZgMAAAwNliXl5GR+6X7DLrDYtggsAAAMM3QJAQAA4xFYAACA8QgsAADAeAQWAABgPAILAAAwHoEFAAAYj8ACAACMR2ABAADGI7AAAADjEVgAAIDxCCwAAMB4BBYAAGA8AgsAADAegQUAYJR///ffaN267ysQCAx2VWAQ52BXAACAaE8//ZQk6bPPPlVR0ZWDWxkYgxYWAABgPAILAAAwHoEFAGAk2x7sGsAkBBYAgJEsa7BrAJMQWAAAgPEILAAAwHgEFgCAoegTQgSBBQAAGI/AAgAAjEdgAQAYinnNiCCwAAAMxRgWRBBYAACA8QgsAABD0SWECAILAMBQdAkhgsACAACMR2ABABiKLiFEEFgAAIDxCCwAAMB4BBYAAGA8AgsAADAegQUAABiPwAIAAIxHYAEAAMYjsAAAAOMRWAAAgPESDix+v19r167VjTfeqK997Wv6wQ9+INsOXY3wyJEjuvfee+XxeDRv3jwdPnw45th9+/bptttuk8fj0bJly/T555+Hy2zb1pYtWzRjxgxNmzZNmzZtUjAYPM/TAwAAw0HCgeWJJ57Qe++9pxdeeEFbt27Va6+9pt27d6u9vV1LlixRaWmp3njjDRUXF2vp0qVqb2+XJB06dEirV6/W8uXLtXv3bjU3N2vlypXh192xY4f27dun7du3a9u2bdq7d6927Nhx4c4UAAAMWc5Edm5qalJ5ebl27Nih66+/XpK0aNEiVVVVyel0yu1269FHH5VlWVq9erX+4z/+Q2+99Zbmzp2rl19+WbNnz9Y999wjSdq0aZNmzZqlmpoajRs3Trt27dKKFStUWloqSXr44Yf1L//yL1q8ePGFPWMAADDkJNTCUlFRoYyMDE2bNi28bcmSJdq4caOqqqpUUlIiywrdDtyyLN1www2qrKyUJFVVVYXDiCQVFBSosLBQVVVVOnHihOrr63XjjTeGy0tKSlRbW6uTJ0+ez/kBAIBhIKEWlpqaGo0ZM0ZvvvmmfvzjH6urq0tz587V3//936uxsVFXXXVVzP45OTmqrq6WJJ08eVKjR4/uU97Q0KDGxkZJiinPzc2VJDU0NPQ57ov05CUAwDDAd/rwF+97nFBgaW9v1/Hjx/Xqq69q48aNamxs1GOPPabU1FR1dHTI5XLF7O9yueT3+yVJnZ2dA5Z3dnaG16PLJIWPj1dOTmZC+wMAzDRyZLpyc/lOR0hCgcXpdKq1tVVbt27VmDFjJEl1dXX66U9/qqKioj7hwu/3KyUlRZLkdrv7LU9NTY0JJ263O7wsSampqQmd0KlTLeqZtAQAGMJOn26T19sy2NXARWZZ8TU2JBRY8vLy5Ha7w2FFkq688krV19dr2rRp8nq9Mft7vd5wd05+fn6/5Xl5ecrPz5ckNTY2auzYseHl3p+ZCNsWgQUAhgm+z9EroUG3Ho9HPp9PH3/8cXjbRx99pDFjxsjj8ejDDz8MX5PFtm0dPHhQHo8nfGxFRUX4uPr6etXX18vj8Sg/P1+FhYUx5RUVFSosLExo/AoAYDhhAAsiEgosf/EXf6FbbrlFK1eu1NGjR/W73/1OZWVluv/++3XHHXeoublZGzZs0LFjx7RhwwZ1dHRo9uzZkqT7779fP//5z7Vnzx4dPXpUjz76qG655RaNGzcuXL5lyxYdOHBABw4c0NatW7VgwYILf8YAAGDISahLSJK2bNmi9evX6/7771dqaqr+5m/+Rt/+9rdlWZaee+45Pf7443rttdc0YcIElZWVKS0tTZJUXFysdevWadu2bTpz5oxuuukmrV+/Pvy6ixcv1qlTp7R8+XIlJSVp/vz5Wrhw4QU7UQAAMHRZtj28egi9XgbdAsBQdu+9fyVJ2rJlm4qKrhzk2uBisyzFNRuMmx8CAAzFGBZEEFgAAIDxCCwAAEPRv48IAgsAADAegQUAABiPwAIAAIxHYAEAAMYjsAAADMW0ZkQQWAAAgPEILAAAQzGtGREEFgCAoegSQgSBBQAAGI/AAgAwFF1CiCCwAAAA4xFYAACA8QgsAADAeAQWAABgPAILAAAwHoEFAAAYj8ACAACMR2ABAADGI7AAAADjEVgAAIDxCCwAAMB4BBYAAGA8AgsAADAegQUAABiPwAIAMJQ12BWAQQgsAADAeAQWAICh7MGuAAxCYAEAGIouIUQQWAAAgPEILAAAwHgEFgCAoRjDgggCCwDAUIxhQQSBBQAAGI/AAgAwFF1CiEg4sPz617/WhAkTYh4rVqyQJB05ckT33nuvPB6P5s2bp8OHD8ccu2/fPt12223yeDxatmyZPv/883CZbdvasmWLZsyYoWnTpmnTpk0KBoPneXoAAGA4SDiwHDt2TLNmzdK7774bfjzxxBNqb2/XkiVLVFpaqjfeeEPFxcVaunSp2tvbJUmHDh3S6tWrtXz5cu3evVvNzc1auXJl+HV37Nihffv2afv27dq2bZv27t2rHTt2XLgzBQAAQ1bCgeXPf/6zrrnmGuXl5YUfWVlZ+uUvfym3261HH31U48eP1+rVq5Wenq633npLkvTyyy9r9uzZuueeezRx4kRt2rRJ+/fvV01NjSRp165dWrFihUpLSzVjxgw9/PDDeuWVVy7s2QIAgCHpnALLFVdc0Wd7VVWVSkpKZFmhUd2WZemGG25QZWVluLy0tDS8f0FBgQoLC1VVVaUTJ06ovr5eN954Y7i8pKREtbW1OnnyZKJVBAAAw4wzkZ1t29bHH3+sd999V88995wCgYDuuOMOrVixQo2Njbrqqqti9s/JyVF1dbUk6eTJkxo9enSf8oaGBjU2NkpSTHlubq4kqaGhoc9xX8RiFhwADBt8pw9/8b7HCQWWuro6dXR0yOVy6amnntJnn32mJ554Qp2dneHt0Vwul/x+vySps7NzwPLOzs7wenSZpPDx8crJyUxofwCAmUaOTFduLt/pCEkosIwZM0YHDhzQiBEjZFmWJk2apGAwqEceeUTTpk3rEy78fr9SUlIkSW63u9/y1NTUmHDidrvDy5KUmpqa0AmdOtUim5lwADDknT7dJq+3ZbCrgYvMsuJrbEgosEhSdnZ2zPr48ePl8/mUl5cnr9cbU+b1esPdOfn5+f2W5+XlKT8/X5LU2NiosWPHhpclKS8vL6H62bYILAAwTPB9jl4JDbr93e9+p+nTp6ujoyO87b//+7+VnZ2tkpISffjhh7J7Pl22bevgwYPyeDySJI/Ho4qKivBx9fX1qq+vl8fjUX5+vgoLC2PKKyoqVFhYmND4FQAAMDwlFFiKi4vldrv1/e9/Xx999JH279+vTZs26Tvf+Y7uuOMONTc3a8OGDTp27Jg2bNigjo4OzZ49W5J0//336+c//7n27Nmjo0eP6tFHH9Utt9yicePGhcu3bNmiAwcO6MCBA9q6dasWLFhw4c8YADAk0LqCaAl1CWVkZOiFF17Qk08+qXnz5ik9PV3f/OY39Z3vfEeWZem5557T448/rtdee00TJkxQWVmZ0tLSJIXCzrp167Rt2zadOXNGN910k9avXx9+7cWLF+vUqVNavny5kpKSNH/+fC1cuPCCniwAYOhghhCiWbY9vDKs18ugWwAYyu69968kSVu2bFNR0ZWDXBtcbJaluGaDcfNDAIChaGJBBIEFAGAomssRQWABABiKFhZEEFgAAIDxCCwAAEPRJYQIAgsAwFB0CSGCwAIAAIxHYAEAAMYjsAAADMUYFkQQWAAAhmIMCyIILAAAQ9HCgggCCwDASNwXDtEILAAAI3G3ZkQjsAAAAOMRWAAAgPEILAAAwHgEFgAAYDwCCwAAMB6BBQAAGI/AAgAAjEdgAQAAxiOwAAAA4xFYAACG4lK3iCCwAAAMxc2EEEFgAQAYiZsfIhqBBQBgJG5+iGgEFgAAYDwCCwAAMB6BBQBgJMawIBqBBQBgJMawIBqBBQAAGI/AAgAAjEdgAQAYij4hRBBYAACA8QgsAADAeAQWAIChmNeMCAILAMBQjGFBBIEFAAAY75wDy5IlS/RP//RP4fUjR47o3nvvlcfj0bx583T48OGY/fft26fbbrtNHo9Hy5Yt0+effx4us21bW7Zs0YwZMzRt2jRt2rRJwWDwXKsGABgW6BJCxDkFll/84hfav39/eL29vV1LlixRaWmp3njjDRUXF2vp0qVqb2+XJB06dEirV6/W8uXLtXv3bjU3N2vlypXh43fs2KF9+/Zp+/bt2rZtm/bu3asdO3ac56kBAIY2uoQQkXBgaWpq0qZNmzRlypTwtl/+8pdyu9169NFHNX78eK1evVrp6el66623JEkvv/yyZs+erXvuuUcTJ07Upk2btH//ftXU1EiSdu3apRUrVqi0tFQzZszQww8/rFdeeeUCnSIAABjqEg4s//zP/6y7775bV111VXhbVVWVSkpKZPXc+MGyLN1www2qrKwMl5eWlob3LygoUGFhoaqqqnTixAnV19frxhtvDJeXlJSotrZWJ0+ePNfzAgAMeXQJIcKZyM6///3v9V//9V/au3ev1qxZE97e2NgYE2AkKScnR9XV1ZKkkydPavTo0X3KGxoa1NjYKEkx5bm5uZKkhoaGPsd9GW6WBQDDB9/pw1+873HcgcXn8+nxxx/XY489ppSUlJiyjo4OuVyumG0ul0t+v1+S1NnZOWB5Z2dneD26TFL4+ETk5GQmfAwAwDwjR6YrN5fvdITEHVi2b9+u6667TjNnzuxT5na7+4QLv98fDjYDlaempsaEE7fbHV6WpNTU1AROJeTUqRbZtCICwJB3+nSbvN6Wwa4GLjLLiq+xIe7A8otf/EJer1fFxcWSIqHi7bff1pw5c+T1emP293q94e6c/Pz8fsvz8vKUn58vKdStNHbs2PCyJOXl5cVbvTDbFoEFAIYBvs8RLe5Bt//6r/+qvXv36s0339Sbb76pW2+9VbfeeqvefPNNeTweffjhh7J7Plm2bevgwYPyeDySJI/Ho4qKivBr1dfXq76+Xh6PR/n5+SosLIwpr6ioUGFhYcLjVwAAwwfjVxAt7haWMWPGxKynp6dLkoqKipSTk6OtW7dqw4YN+uY3v6lXX31VHR0dmj17tiTp/vvv17e//W1NnTpVU6ZM0YYNG3TLLbdo3Lhx4fItW7bosssukyRt3bpVixYtuiAnCAAAhr6EZgkNJCMjQ88995wef/xxvfbaa5owYYLKysqUlpYmSSouLta6deu0bds2nTlzRjfddJPWr18fPn7x4sU6deqUli9frqSkJM2fP18LFy68EFUDAADDgGXbw6uH0Otl0C0ADGX33vtXkqQtW36koqIrBrcyuOgsS3HNBuPmhwAAQ/G/T0QQWAAAgPEILAAAwHgEFgAAYDwCCwAAMB6BBQAAGI/AAgAwFJe6RQSBBQAAGI/AAgAwFNdhQQSBBQBgKLqEEEFgAQAAxiOwAAAA4xFYAACGYgwLIggsAABDMYYFEQQWAABgPAILAMBQdAkhgsACADAUXUKIILAAAADjEVgAAIDxCCwAAEMxhgURBBYAAGA8AgsAADAegQUAABiPwAIAMBTTmhFBYAEAAMYjsAAADMUsIUQQWAAAhqJLCBEEFgAAYDwCCwAAMB6BBQBgKMawIILAAgAAjEdgAQAAxiOwAACMZNMjhCgEFgCAkSxmNSMKgQUAABiPwAIAAIxHYAEAAMZLOLAcP35cixcvVnFxsW655RY9//zz4bKamhotXLhQU6dO1Z133ql333035tj33ntPc+bMkcfj0YIFC1RTUxNT/tJLL2nmzJkqLi7WqlWr1NHRcY6nBQAY+hjEgoiEAkswGNSSJUs0cuRI/exnP9PatWv17LPPau/evbJtW8uWLVNubq7Ky8t19913a/ny5aqrq5Mk1dXVadmyZZo7d65ef/11jRo1Sg899JDsnmHgb7/9trZv365169Zp586dqqqq0ubNmy/8GQMAhgimCSEiocDi9Xo1adIkrVmzRldccYVuvvlm/eVf/qUqKir0/vvvq6amRuvWrdP48eO1dOlSTZ06VeXl5ZKkPXv26LrrrtOiRYt09dVXa+PGjaqtrdUHH3wgSdq1a5cefPBBzZo1S9dff73Wrl2r8vJyWlkA4BLFtGZESyiwjB49Wk899ZQyMjJk27YqKir0n//5n5o2bZqqqqp07bXXKi0tLbx/SUmJKisrJUlVVVUqLS0Nl6Wmpmry5MmqrKxUIBDQH/7wh5jyqVOnqqurS0ePHj3PUwQADEU2iQVRnOd64K233qq6ujrNmjVL3/jGN/Tkk09q9OjRMfvk5OSooaFBktTY2DhgeXNzs3w+X0y50+lUdnZ2+Ph4MW8fAIaLIN/pl4B43+NzDizbtm2T1+vVmjVrtHHjRnV0dMjlcsXs43K55Pf7JekLyzs7O8PrAx0fr5yczERPBQBgoKysVOXm8p2OkHMOLFOmTJEk+Xw+Pfzww5o3b16f8SZ+v18pKSmSJLfb3Sd8+P1+ZWVlye12h9fPLk9NTU2oXqdOtdDvCQDDQFNTm7zelsGuBi4yy4qvsSGhwOL1elVZWanbbrstvO2qq65SV1eX8vLy9NFHH/XZv7ebJz8/X16vt0/5pEmTlJ2dLbfbLa/Xq/Hjx0uSuru71dTUpLy8vESqKNtmoBYADAfBoM33OcISGnT72Wefafny5Tpx4kR42+HDhzVq1CiVlJToj3/8Y7h7R5IqKirk8XgkSR6PRxUVFeGyjo4OHTlyRB6PRw6HQ1OmTIkpr6yslNPp1MSJE8/55AAAQxeDbhEtocAyZcoUTZ48WatWrdKxY8e0f/9+bd68WX/3d3+nadOmqaCgQCtXrlR1dbXKysp06NAhzZ8/X5I0b948HTx4UGVlZaqurtbKlSs1duxYTZ8+XZL0wAMP6IUXXtA777yjQ4cOac2aNbrvvvsS7hICAAwPBBZEs+wEPxEnTpzQ+vXr9fvf/16pqan61re+paVLl8qyLB0/flyrV69WVVWVioqKtGrVKn3ta18LH7t//349+eSTamhoUHFxsdavX69x48aFy8vKyvTSSy/J7/fr9ttv1+OPPx4e3xIvr5cxLAAwlN17719Jkp54YrMmTKCVfbizLMU1uDrhwGI6AgsADG0ElktLvIGFmx8CAADjEVgAAIDxCCwAAMB4BBYAAGA8AgsAwFDMoEAEgQUAYKRgMDjYVYBBCCwAACMRWBCNwAIAMBKBBdEILAAAIw2z65riPBFYAABGooUF0QgsAAAjEVgQjcACADCSZQ12DWASAgsAADAegQUAABiPwAIAMBKThBCNwAIAMBLTmhGNwAIAMBKBBdEILAAAI9k205oRQWABABgpGKSFBREEFgCAkWhhQTQCCwDASIxhQTQCCwDASHQJIRqBBQAAGI/AAgAAjEdgAQAYii4hRBBYAABGsrhdM6IQWAAARrIs/kQhgk8DAMBINLAgGoEFAGAkWlgQjU8DAMBItLAgGoEFAGAkBt0iGoEFAAAYj8ACADASl+ZHNAILAMBIwSB3a0YEgQUAYCQCC6IRWAAARuru7hrsKsAgBBYAgJG6u7sHuwowCIEFAGAkWlgQLaHAcuLECa1YsULTpk3TzJkztXHjRvl8PklSTU2NFi5cqKlTp+rOO+/Uu+++G3Pse++9pzlz5sjj8WjBggWqqamJKX/ppZc0c+ZMFRcXa9WqVero6DjPUwMADDW2HZkZ1N0dGMSawDRxBxbbtrVixQp1dHTolVde0Q9/+EP99re/1VNPPSXbtrVs2TLl5uaqvLxcd999t5YvX666ujpJUl1dnZYtW6a5c+fq9ddf16hRo/TQQw+FP5hvv/22tm/frnXr1mnnzp2qqqrS5s2bL84ZAwCMFT3QNhgksCAi7sDy0UcfqbKyUhs3btTVV1+t0tJSrVixQvv27dP777+vmpoarVu3TuPHj9fSpUs1depUlZeXS5L27Nmj6667TosWLdLVV1+tjRs3qra2Vh988IEkadeuXXrwwQc1a9YsXX/99Vq7dq3Ky8tpZQGAS0x0YGEMC6LFHVjy8vL0/PPPKzc3N2Z7a2urqqqqdO211yotLS28vaSkRJWVlZKkqqoqlZaWhstSU1M1efJkVVZWKhAI6A9/+ENM+dSpU9XV1aWjR4+e63kBAIag6FYVpjUjmjPeHbOysjRz5szwejAY1Msvv6wZM2aosbFRo0ePjtk/JydHDQ0NkvSF5c3NzfL5fDHlTqdT2dnZ4eMTwa0nAGDoir5/kMPh4Dv9EhDvexx3YDnb5s2bdeTIEb3++ut66aWX5HK5YspdLpf8fr8kqaOjY8Dyzs7O8PpAxyciJycz4WMAAGbw+93h5YyMFOXm8p2OkHMKLJs3b9bOnTv1wx/+UNdcc43cbreamppi9vH7/UpJSZEkud3uPuHD7/crKytLbrc7vH52eWpqasJ1O3WqRTa3nwCAISl63Ep7u19eb8sg1gZfBcuKr7Eh4cCyfv16/fSnP9XmzZv1jW98Q5KUn5+vY8eOxezn9XrD3Tz5+fnyer19yidNmqTs7Gy53W55vV6NHz9eUugD29TUpLy8vESrJ9sWgQUAhqzYLiG+z9EroeuwbN++Xa+++qp+8IMf6K677gpv93g8+uMf/xju3pGkiooKeTyecHlFRUW4rKOjQ0eOHJHH45HD4dCUKVNiyisrK+V0OjVx4sRzPjEAwNDjcET+LFkMYEGUuAPLn//8Zz3zzDP627/9W5WUlKixsTH8mDZtmgoKCrRy5UpVV1errKxMhw4d0vz58yVJ8+bN08GDB1VWVqbq6mqtXLlSY8eO1fTp0yVJDzzwgF544QW98847OnTokNasWaP77rvvnLqEAABDV3RIsSwuxo6IuLuEfvOb3ygQCOjZZ5/Vs88+G1P2pz/9Sc8884xWr16tuXPnqqioSE8//bQKCwslSWPHjtWPfvQjPfnkk3r66adVXFysp59+OvzBvOuuu1RbW6vHHntMfr9ft99+ux555JELeJoAAGAos2x7ePUQer0MugWAocq2bd13319Lkh58cLHmzLlncCuEi86yFNdsMNrbAADGiL00PxeOQwSBBQBgDAILBkJgAQAYI/rS/IEANz9EBIEFAGCMQIAWFvSPwAIAMEYgELnSLXdrRjQCCwDAGNHdQHQJIRqBBQBgDAbdYiAEFgCAMaJbVQgsiEZgAQAYI7aFhS4hRBBYAADGiL74OlctRzQCCwDAGLGBhS4hRBBYAADGiA4sjGFBNAILAMAY0ddhYVozohFYAADG6O7mOizoH4EFAGCM6KvbcqVbRCOwAACM0d3dFV7u6ur6gj1xqSGwAACM4ff7+l0GCCwAAGP4/f5+lwECCwDAGD6fr99lgMACADBG9LiV6PEsAIEFAGAMZglhIAQWAIAxmCWEgRBYAADGiL1bM5fmRwSBBQBgjNibH3K7ZkQQWAAAgPEILAAAwHgEFgCAMRwOR7/LAJ8GAIAxkpKS+l0GCCwAAGPQwoKB8GkAABjDshz9LgN8GgAAxrCs/pcBAgsAwCCRlGKRWBCFwAIAMEb0xeKCQS4chwgCCwDAGNytGQMhsAAAjMHNDzEQAguGLG6MBgw/fr8/vNwVtQwQWDAklZfv1kMPLZbP1znYVQFwAfl8PkmSJVud/H4jyjkHFr/frzlz5ujAgQPhbTU1NVq4cKGmTp2qO++8U++++27MMe+9957mzJkjj8ejBQsWqKamJqb8pZde0syZM1VcXKxVq1apo6PjXKuHYe7VV1/WqVNe1dfXD3ZVAFxAnZ2h7/0RLltdXV0KBAKDXCOY4pwCi8/n0z/+4z+quro6vM22bS1btky5ubkqLy/X3XffreXLl6uurk6SVFdXp2XLlmnu3Ll6/fXXNWrUKD300EPhEeFvv/22tm/frnXr1mnnzp2qqqrS5s2bL8ApYjhj1iMwvHR2hlpYslyhLt/eFhcg4cBy7Ngx3Xffffr0009jtr///vuqqanRunXrNH78eC1dulRTp05VeXm5JGnPnj267rrrtGjRIl199dXauHGjamtr9cEHH0iSdu3apQcffFCzZs3S9ddfr7Vr16q8vJxWFgC4hPR282YlE1gQK+HA8sEHH2j69OnavXt3zPaqqipde+21SktLC28rKSlRZWVluLy0tDRclpqaqsmTJ6uyslKBQEB/+MMfYsqnTp2qrq4uHT16NNEqAgCGqN5BtxnJds86gQUhzkQPeOCBB/rd3tjYqNGjR8dsy8nJUUNDw5eWNzc3y+fzxZQ7nU5lZ2eHjwcADH+9LSoEFpwt4cAykI6ODrlcrphtLpcrnJa/qLyzszO8PtDx8WJMw6WH9xwYPrq6fEqyJHdSJLDwOz68xfv+XrDA4na71dTUFLPN7/crJSUlXH52+PD7/crKypLb7Q6vn12empqaUD1ycjITrDmGspEj05Wby3sODBfBYECuJFvJjlBgSUtL5nccki5gYMnPz9exY8ditnm93nA3T35+vrxeb5/ySZMmKTs7W263W16vV+PHj5ckdXd3q6mpSXl5eQnV49SpFtncfuKScfp0m7zelsGuBoALpL29Qy6HLVdPC8vJk6f5HR/mLCu+xoYLFlg8Ho/KysrU2dkZblWpqKhQSUlJuLyioiK8f0dHh44cOaLly5fL4XBoypQpqqio0PTp0yVJlZWVcjqdmjhxYkL1sG0RWC4hvN/A8OL3+5XssJXsiKzzOw7pAl7pdtq0aSooKNDKlStVXV2tsrIyHTp0SPPnz5ckzZs3TwcPHlRZWZmqq6u1cuVKjR07NhxQHnjgAb3wwgt65513dOjQIa1Zs0b33Xdfwl1CuLTQtw0ML77OTrmT7PAYlt4xjsAFCyxJSUl65pln1NjYqLlz5+rf/u3f9PTTT6uwsFCSNHbsWP3oRz9SeXm55s+fr6amJj399NOyev7i3HXXXVq6dKkee+wxLVq0SNdff70eeeSRC1U9AMAQ0OnrCSw9Y1i4Dgt6nVeX0J/+9KeY9aKiIr388ssD7n/zzTfr5ptvHrB8yZIlWrJkyflUCQAwRAWDQfl8PrlTI7OEuF8YenHzQwCAEXpnirqTbKXQJYSzEFgAAEbovfFhitNWijMUWLg9C3oRWAAARuhtTUlJsuVOit0GEFgAAEboDSexXUK0sCCEwAIAMELvjKDoac3cSwi9CCwAACP0hhO3w5aLac04C4EFQxpXwASGj95wkpwkJTskSwQWRBBYAABG6L3mitthy7IkV5Ld56a4uHQRWAAARogewyJJLgctLIggsAAAjNAbTlw9U5rdSUGudIswAguGNG5+CAwfvYNuewfcuhw2gQVhBBYAgBH6dAkliTEsCCOwAACMEO4S6mlhcTtsxrAgjMACADDC2WNYkpNsBQIBdXd3D2KtYAoCCwDACN3dXZKk5J4WluSev1BdXV2DVSUYhMACADBC73iVSGAJPXd1MY4FBBYAgCF6W1icPX+ZIi0sdAmBwIIhjkvzA8NH+G7NvYNuuWMzohBYAABGaGtrU7IjMug2zRkKLO3t7YNYK5iCwIIhjQvHAcNHW1ub0pzB8Hrvcnt762BVCQYhsGBIo0sIGD6am5uUHhVY0ntaWJqbmwerSjAIgQUAMOg6OtrV0tKivNRIYOldPnGiYbCqBYMQWDCk0SUEDA8NDaFQkp8aCG/rXW5oqB+UOsEsBBYAwKDrDSWjo1pYclKCSrIILAghsGBIYwwLMDzU19dKkvLTIi0sDksanRoIl+HSRmDBkEaXEDA81NWFQklBVGCRpMvSAmpublZrKzOFLnUEFgDAoKurq5XTIeWmBGO2X9YTYOrqPhuMasEgBBYAwKAKBoP67LNPdVlqtxxntZoW9gSWmppPB6FmMAmBBUMaY1iAoa+x8aQ6Ojp0eUagT9nlGaH7CH3yycdfdbVgGAILAGBQffzxnyVJRZl9b3I4NiOgJEv65JOPvupqwTAEFgDAoDl58oTKy3dLkq7sJ7AkO6Sx6d2q/p+j+s1v3v6qqweDEFgAAIPiww8r9L3v/T/65JOPNauwUxOy+wYWSfrWNW1KSwroxz/ermee2Safz/cV1xQmILAAAL5SwWBQe/b8VBs3rpWvvVV/O6lV/2di24CXKZiQ3a21NzbpLzK79dvf/lr/7/cf5XL9lyDnYFcAOB9chwUwW3t7u+rr61RfX6u6utDj+PGP9dlnNcpLDWrFdc0qyuw72PZsuSlBrS45o1eq0/X/f/KRHnlkhSZMmKSCgjEaM2aMCgrGqKCgUDk5uXI4+L/4cERgAQCcl+7ubp040RAOJrW1taqvr1V9Xa1ON53us78ryda00X79nwltSk+Of6pfskNaOKFNV2d16fWPg6qsPKjKyoOxr+1yqaCgUAUFY1RYGHoUFBSqsHCsMjIyzvtcMXgILACAL2Xbtk6f/lx1dbU9rSV1qqv7TPX1dTpxokHBYOwF3xyWlJcSkCcnoMvSAipIC+iy1IAuSwtqpDt4Xq2jNxX4dVOBX53dUkNHkhraox/dqq/9WMePf9LnuMzMTBUWjo0KMaFAk59fIJfLde4VwleCwAIAl7BAIKD29na1tbWqtbWl5zm0fPr0aTU01Kuu7jPV1dX2O9h1hCuoq7N6w0hPMEkLaHRqUM6L3DOT4pSuyAzoirO6lGxbau6y1NCepPqoMFPfflrH/qdFf/rTf8fsb1mWcnPzesJMofLy8pWRkaGMjMye59ByenoGwWYQEVgwpHHhOCDE5/OFg0YkfLSptbVFLS2xQSR6ub29XfaX/CK5k2xdlhpQwYhQGIk8gkpzmvdLaFnSCJetEa7uPjOPAkHJ2+kIBZjo1pnmBlU1nlRV1cEBXjXE5XIpPb1vmMnIyOh3e++2tLQ0xtacJ6MCi8/n09q1a/WrX/1KKSkpWrRokRYtWjTY1QKAr0SotaOtJ0y0hoNH73JLS0tMEAmXt7Soq7v/KcH9SUmylZ4cVI7T1uUjbGUkB5WebCvdGdoeeraVlRxUflpA2S572AxwT3JI+WlB5acF5VFXTJkvIDW0J+lzn0NtXZbaukPPrd2W2rscau221NbVpTZfh5paT6m221IwzrxmWZbS0tKiAk1mT6BJDy/3Bp3o4JOeniG3230R/iWGHqMCy6ZNm3T48GHt3LlTdXV1+t73vqfCwkLdcccdg101GCoQiP9LGviqdHd368yZpnArxtnho7+WjrbWFrW1t8f9M5IsKc0ZVEayrZy0SODISA61emQkx4aP9J5905z2Re+qGarcSVJRZiCuWUtSqIW3M2CptctSW7cVG3KilkNlDrV1d6m1qUW1XkudgfgTYHJyckzQCQWagVpzQiEnK2uE0tPTz/WfwkjGBJb29nbt2bNHP/nJTzR58mRNnjxZ1dXVeuWVVwgsGFBzc/NgVwGXMNu21dR0WsePf6Ljxz/Rp5+Gnmtra9QdZ4tHSlIoZOQ4bRWNDAWLs1s7MpKjtvcspyQxrX+wWZaU6rSV6rSVl+Cx3UHFhJzWLkvtXZZa+4QcS61dXWrzdSbcqjNq1ChdfvkVKiq6UkVFV+jyy69QYeEYJScnJ3yuJjAmsBw9elTd3d0qLi4ObyspKdGPf/xjBYNB+v6GuUAgoK6uLnV1+eX3d8nv90Wthx5dXaHtp06dCh+3b9+bamtrVXKySy5Xslwut5KTk3vWQ4/k5Mh2p9Mpi295nAOfr1M1NZ/2BJPjoefjH6ultSVmv5QkW1ekd2t0arBPV0uG01Zasq2MnvBBa0f/jpx26q1PU3XH5R26duTwbEV1OnrH2diSgl+6f6/eVp3erqq2flpyWrssNfkdqm3zqrLy85ip30lJSRozZqyKiq7U5ZcX9QSZKzVq1CjjvxuNCSyNjY0aOXJkzAjs3Nxc+Xw+NTU1adSoUXG9zsX8925tbdWvfvX/ybZDH66Bxqn1DmCzLOtLBrP1X9Z7SO+5fPHPsWXbtmxbsu2gbNtWMGiHl3sfwWDvejC8b2g/+6zj7KiyYAKve/ax/f2soILBYE/wiA0hgUB8TbDPPPOMrr76Cs2YUSJbUu/b/dBDD8V1vGVZSk52KdmVLHdPiHG5XEpKcsrhsGRZlizLIYfDkmT1bHPIsqxwaHY4HD37WTHL0cdGr4f2+6LX7d0W+7qxPyv2dXvPfKAvmPh/DwY6PrQ9+rP8RT9n/PirNXXqDfH+UKMFg0GdPHkipsXk+PFP1NBQH/P7bEm6LC2giXndGpcR0LiM0HNuSlAOs7/3jZW/6GVJUnebU5cHLKUk2cpP79aJF781yDUzR3SrTm4c+7d3W/qsNUk1rUmqaXOGnmtDoTtaenp6TEtMUdEVGjfucqWmpl6cE4kS7/eVMYGlo6Ojz3Sx3nW/3x/36+TkZF7QekV78snHdfDgF48gx1fDdjglyyE74B/gT+4Ax9m2/H6f/H6f2tR60ep3KXr++ed11VVXDXY1ztmvf/1r/exnP9NHH32kzs7OPuX5qQFNzO7SVSO6NS6jW2PSA3InDUJFgQSkOW1dk92ta7K7JYWmpdu2dKrToZq2JH3S4tTR08k61tyqI0cO68iRw+FjLctSQUGBpkyZohUrVgz6mBhjAovb7e4TTHrXU1JS4n6dU6daLtpU17lz/7eqqqq+dArg2b7of6vRrTDn0hx3divOwP8TPr//8lmWFWoPim7+ifpnsGXLDoZafIK2LTvY2wp1Yd+MeFtSLoSzW04sSzGtG6GdFP43+fIWtf6d/f4P9Bpnv8/n+7Oij4+/VbB/X//6/1J6+ih5vS1fvrOh3n339zpy5MiA5Sc6knSiI0nvnZAykoPK6BnEmpEcec6MWbeV2bOc6rRpdYlDb0vK/0R1CTmHaZfQxeAPSK09XUKtXZZawsuhGU4t/tBzeFuXQ+3dA38wbdtWXV2dTp8+rb/+6/nKz7/sotTbsuJrbLDsC/0X5RwdPHhQ3/rWt3To0CE5naEc9f7772vp0qX68MMP4x7D4vVevMCCxMV2F0W6kaToLij7ggebLxLqZlG4S2agbhhcWoLBoM6cOaOWlma1tDSHr1/Sux5ZDm1vbWlWa1trXJ9dS+oJMYE+YWagoJPutJXE+JZLUvTso5ZwuIg8t/QJJaEg4o9z5pHb5VJGZpaysrKUkZGlzMzMnkdW1HNoOSMjU9nZ2XK74284SJRlSbm5Xx5YjGlhmTRpkpxOpyorK1VaWipJqqio0JQpUxhwO4RFxlwAZnM4HBo5cqRGjhwZ9zG9102JDTOhsNPc3Nxz3ZRmNTf3BqBmnWxpiXvMVpqzN8j0hBmnrUxXaPBu77bM5KAyXT3PyYQc09i21BGw1OK31BwVPGKDyFmtIV0OBeL8P1xaWpoys7N0eVTAyMoKBY7e5YyMzJgAMlSv62JMYElNTdU999yjNWvW6Mknn9TJkyf14osvauPGjYNdNQDoV1JSUvh/o9KYuI6xbVsdHR0xwaY3zJzditPbulPb0ixfc3xj+dJ7Qk1mclBZyZHlTFfoQnCZPdt6y5IJOAkJ2qGBrL0BpKXLoRZ/KHA0927rWe99dMcxCciyrFDrRnaWLgsHjf5bP6KDSFLSpTOQypguISk08HbNmjX61a9+pYyMDC1evFgLFy5M6DXoEgIwHIUuvd/STytOs5qbz6i5uff5THg9npaclKSeIOPqG2Yyk2PLslzBYTfQOGhLrV2Wmv2hVo/e4BEKIg41d4XGfvSWtXQ54roOSnpamrJGZCsra4SysrJ6nkcoM9wVE9v6cSlfuj/eLiGjAsuFQGABgFBLTnt7W79B5syZM/2GnK6uri99XZfj7DDT2x0VVJbLjm3NcdlKTfpqL+vfHVQoXPgdMa0dMcGjN4h0JamtyxrgAhMRlmUpIz1DWSNG9AkgvcsjRmSHlzMzs8JjMfHlCCwAgLjZtq3Ozs4+4aa5+cyAAae/uzefzemQ0p1fzbVpfAHrC2e99HI4HD0tHWeHjv7DyKXW9fJVI7AAAC4qn8/XT5Dpu9za+tV8L7vd7n4Dx9nL6enpl2z3i4kILAAAwHjxBhYiJgAAMB6BBQAAGI/AAgAAjEdgAQAAxiOwAAAA4xFYAACA8QgsAADAeAQWAABgPAILAAAwHoEFAAAYj8ACAACMR2ABAADGI7AAAADjOQe7AheaZQ12DQAAQLzi/btt2bZtX9yqAAAAnB+6hAAAgPEILAAAwHgEFgAAYDwCCwAAMB6BBQAAGI/AAgAAjEdgAQAAxiOwAAAA4xFYAACA8QgsGFJ8Pp9WrVql0tJSff3rX9eLL7442FUCcIH5/X7NmTNHBw4cGOyqwCDD7l5CGN42bdqkw4cPa+fOnaqrq9P3vvc9FRYW6o477hjsqgG4AHw+n7773e+qurp6sKsCwxBYMGS0t7drz549+slPfqLJkydr8uTJqq6u1iuvvEJgAYaBY8eO6bvf/a64xR36Q5cQhoyjR4+qu7tbxcXF4W0lJSWqqqpSMBgcxJoBuBA++OADTZ8+Xbt37x7sqsBAtLBgyGhsbNTIkSPlcrnC23Jzc+Xz+dTU1KRRo0YNYu0AnK8HHnhgsKsAg9HCgiGjo6MjJqxICq/7/f7BqBIA4CtCYMGQ4Xa7+wST3vWUlJTBqBIA4CtCYMGQkZ+fr9OnT6u7uzu8rbGxUSkpKcrKyhrEmgEALjYCC4aMSZMmyel0qrKyMrytoqJCU6ZMkcPBRxkAhjO+5TFkpKam6p577tGaNWt06NAhvfPOO3rxxRe1YMGCwa4aAOAiY5YQhpSVK1dqzZo1evDBB5WRkaF/+Id/0O233z7Y1QIAXGSWzRV6AACA4egSAgAAxiOwAAAA4xFYAACA8QgsAADAeAQWAABgPAILAAAwHoEFAAAYj8ACAACMR2ABAADGI7AAAADjEVgAAIDxCCwAAMB4/xeCFEl1Q1d8zgAAAABJRU5ErkJggg=="
     },
     "metadata": {},
     "output_type": "display_data"
    },
    {
     "data": {
      "text/plain": "(array([5.796e+03, 1.820e+02, 1.020e+02, 5.500e+01, 7.800e+01, 6.700e+01,\n        4.300e+01, 4.300e+01, 3.600e+01, 4.000e+01, 3.700e+01, 3.500e+01,\n        3.300e+01, 2.600e+01, 2.300e+01, 2.100e+01, 2.400e+01, 1.500e+01,\n        1.500e+01, 1.100e+01, 1.900e+01, 1.600e+01, 1.600e+01, 1.500e+01,\n        8.000e+00, 1.100e+01, 1.100e+01, 6.000e+00, 8.000e+00, 5.000e+00,\n        9.000e+00, 9.000e+00, 7.000e+00, 3.000e+00, 6.000e+00, 2.000e+00,\n        7.000e+00, 5.000e+00, 4.000e+00, 4.000e+00, 4.000e+00, 5.000e+00,\n        2.000e+00, 2.000e+00, 4.000e+00, 2.000e+00, 2.000e+00, 3.000e+00,\n        1.000e+00, 1.000e+00, 3.000e+00, 0.000e+00, 1.000e+00, 2.000e+00,\n        0.000e+00, 1.000e+00, 2.000e+00, 0.000e+00, 0.000e+00, 0.000e+00,\n        2.000e+00, 2.000e+00, 0.000e+00, 2.000e+00, 0.000e+00, 0.000e+00,\n        0.000e+00, 0.000e+00, 1.000e+00, 0.000e+00, 1.000e+00, 0.000e+00,\n        0.000e+00, 0.000e+00, 0.000e+00, 0.000e+00, 0.000e+00, 1.000e+00,\n        0.000e+00, 1.000e+00, 0.000e+00, 0.000e+00, 0.000e+00, 0.000e+00,\n        0.000e+00, 0.000e+00, 0.000e+00, 0.000e+00, 0.000e+00, 1.000e+00,\n        0.000e+00, 0.000e+00, 0.000e+00, 0.000e+00, 0.000e+00, 0.000e+00,\n        0.000e+00, 0.000e+00, 0.000e+00, 1.000e+00]),\n array([   0.  ,   64.82,  129.64,  194.46,  259.28,  324.1 ,  388.92,\n         453.74,  518.56,  583.38,  648.2 ,  713.02,  777.84,  842.66,\n         907.48,  972.3 , 1037.12, 1101.94, 1166.76, 1231.58, 1296.4 ,\n        1361.22, 1426.04, 1490.86, 1555.68, 1620.5 , 1685.32, 1750.14,\n        1814.96, 1879.78, 1944.6 , 2009.42, 2074.24, 2139.06, 2203.88,\n        2268.7 , 2333.52, 2398.34, 2463.16, 2527.98, 2592.8 , 2657.62,\n        2722.44, 2787.26, 2852.08, 2916.9 , 2981.72, 3046.54, 3111.36,\n        3176.18, 3241.  , 3305.82, 3370.64, 3435.46, 3500.28, 3565.1 ,\n        3629.92, 3694.74, 3759.56, 3824.38, 3889.2 , 3954.02, 4018.84,\n        4083.66, 4148.48, 4213.3 , 4278.12, 4342.94, 4407.76, 4472.58,\n        4537.4 , 4602.22, 4667.04, 4731.86, 4796.68, 4861.5 , 4926.32,\n        4991.14, 5055.96, 5120.78, 5185.6 , 5250.42, 5315.24, 5380.06,\n        5444.88, 5509.7 , 5574.52, 5639.34, 5704.16, 5768.98, 5833.8 ,\n        5898.62, 5963.44, 6028.26, 6093.08, 6157.9 , 6222.72, 6287.54,\n        6352.36, 6417.18, 6482.  ]),\n <BarContainer object of 100 artists>)"
     },
     "execution_count": 1,
     "metadata": {},
     "output_type": "execute_result"
    },
    {
     "data": {
      "text/plain": "<Figure size 640x480 with 1 Axes>",
      "image/png": "iVBORw0KGgoAAAANSUhEUgAAAiQAAAGlCAYAAADK9+2QAAAAOXRFWHRTb2Z0d2FyZQBNYXRwbG90bGliIHZlcnNpb24zLjguMiwgaHR0cHM6Ly9tYXRwbG90bGliLm9yZy8g+/7EAAAACXBIWXMAAA9hAAAPYQGoP6dpAAAsvUlEQVR4nO3de3BU533/8c+zu5J2hayYWzTBM+4tPxyiCEmIINuIuiUxJgbXTN3bEBcybYe0pdh1VZtAJ4lS2mJBLp40SSE4spmaBpdkytTuLTCpJ3Ycg4uLCLEB4dDEMRfLWATQSnvRPr8/pF1rLwJptbvPavf9msHmPHvOeZ7z1Ur6cPac5xhrrRUAAIBDHtcDAAAAIJAAAADnCCQAAMA5AgkAAHCOQAIAAJwjkAAAAOcIJAAAwDkCCQAAcI5AAgAAnCt4IDlz5owWLFhQ6G4BAEARK2ggGRgYUGdnp6qqqgrZLQAAKHIFDSR/+7d/q/Xr1ysQCBSyWwAAUOQKFkiefvppfeADH1BDQ0OhugQAAFOEKdTTfj/+8Y/L4xnOP0ePHlVra6sef/zxQnQNAACKXMECyWhLly7Vd7/73UJ3CwAAilTWH9mEw2GtXLlShw4dSrSFQiFt3rxZCxcuVFtbm7q6unIySAAAUNp82WwUCoXU3t6unp6epPZt27bp+PHj2r17t86ePauNGzdqzpw5Wr58edJ6nB0BAACjTTiQnD59Wu3t7Ur9pCcYDGrfvn3atWuX6uvrVV9fr56eHu3ZsyctkAAAAIw24Y9sDh8+rNbWVj399NNJ7SdOnFA0GlVzc3OiraWlRd3d3YrFYpMfKQAAKFkTPkOyevXqjO29vb2aPn26KisrE22zZs1SKBTSpUuXNGPGjOxHOeLixSvK9SW4xkgzZ96Ql31PZdQlHTXJjLqkoyaZUZd0pV6T+PGNR1bXkGQyMDCQFEYkJZbD4XBO+rBWefuC5XPfUxl1SUdNMqMu6ahJZtQlHTXJ4cRoVVVVacEjvuz3+3PVDQAAKEE5CyR1dXXq6+tTNBpNtPX29srv96u2tjZX3QAAgBKUs0Ayb948+Xw+HT16NNF25MgRNTQ0JGZoBQAAyCRnSSEQCGjVqlXq6OjQsWPHdPDgQXV1dWnNmjW56gIAAJSonF3UKkmbNm1SR0eH1q5dq5qaGm3YsEHLli3LZRcAAKAETSqQnDx5Mmk5EAios7NTnZ2dkxoUAAAoL1zcAQAAnCOQAAAA5wgkAADAOQIJAABwjkACAACcI5CMMMb1CAAAKF9lH0iMkS4Fw4rIQygBAMCRsg8kktGVwaiuhqMyJBIAAJwgkAAAAOcIJAAAwDkCCQAAcI5AouELW70eI2OMPB7Dxa0AABRYTp/2OxUZI9WqXxr6uSqtkWQVq6hVUAFZ63p0AACUh7IPJJKRN3xF0VPfUWxoQKqolmfunTIV1bIkEgAACoJAMiIW7peiQXFaBACAwuMaEgAA4ByBBAAAOEcgAQAAzhFIAACAcwQSAADgHIEEAAA4RyABAADOEUgAAIBzBBIAAOAcgQQAADhHIAEAAM4RSAAAgHMEEgAA4ByBBAAAOEcgAQAAzhFIAACAcwQSAADgHIEEAAA4RyABAADOEUgAAIBzBBIAAOAcgQQAADhHIAEAAM4RSAAAgHMEEgAA4ByBBAAAOEcgAQAAzhFIAACAcwQSAADgHIEEAAA4RyABAADOEUgAAIBzBBIAAOAcgQQAADhHIAEAAM4RSAAAgHMEEgAA4ByBBAAAOEcgAQAAzhFIAACAcwQSAADgHIEEAAA4RyABAADOEUgAAIBzBBIAAOAcgQQAADhHIAEAAM4RSAAAgHMEEgAA4ByBBAAAOEcgAQAAzhFIAACAcwQSAADgHIEEAAA4RyABAADO+QrVUSQS0caNG3X+/HkFAgFt375dM2bMKFT3AACgiBXsDMm///u/q66uTv/0T/+kFStWaNeuXYXqGgAAFLmCnSG59957tWLFCknS+fPn9Z73vKdQXQMAgCJXsEAiST6fT+vWrdMPf/hDPfHEE4XsGgAAFLGCX9T69a9/XXv37tWDDz5Y6K4BAECRKlggefrpp/XUU09Jkqqrq+XxcIMPAAAYlnUqCIfDWrlypQ4dOpRoC4VC2rx5sxYuXKi2tjZ1dXUlXvvYxz6mF154Qffff78efPBBbdmyZXIjBwAAJSOra0hCoZDa29vV09OT1L5t2zYdP35cu3fv1tmzZ7Vx40bNmTNHy5cvV21trXbs2JGTQQMAgNIy4UBy+vRptbe3y1qb1B4MBrVv3z7t2rVL9fX1qq+vV09Pj/bs2aPly5fnZLDG5GQ3495nPvqbKuLHXs41SEVNMqMu6ahJZtQlXanXZCLHNeFAcvjwYbW2tuqhhx5SU1NTov3EiROKRqNqbm5OtLW0tGjHjh2KxWI5uWZk5swbJr2PTPovSF6vV9UVlVJlpVRVIf/0mrz0NdXkq+ZTGTXJjLqkoyaZUZd01CSLQLJ69eqM7b29vZo+fboqKysTbbNmzVIoFNKlS5dyMivrxYtXlHJiZtK8Xo8qJQ0NDSkYCktDFfKEIuq/eDXtLFA5MWb4GyQfNZ+qqElm1CUdNcmMuqQr9ZrEj288cjYPycDAQFIYkZRYDofDOenDWuX8C3at/ZXim2Oi8lHzqY6aZEZd0lGTzKhLOmqSw9t+q6qq0oJHfNnv9+eqGwAAUIJyFkjq6urU19enaDSaaOvt7ZXf71dtbW2uugEAACUoZ4Fk3rx58vl8Onr0aKLtyJEjamhoYBI0AABwTTlLCoFAQKtWrVJHR4eOHTumgwcPqqurS2vWrMlVFwAAoETl9OF6mzZtUkdHh9auXauamhpt2LBBy5Yty2UXAACgBE0qkJw8eTJpORAIqLOzU52dnZMaFAAAKC9c3AEAAJwjkAAAAOcIJAAAwDkCCQAAcI5AAgAAnCOQAAAA5wgkAADAOQIJAABwjkACAACcI5AAAADnCCQAAMA5AgkAAHCOQAIAAJwjkAAAAOcIJAAAwDkCCQAAcI5AAgAAnCOQAAAA5wgkAADAOQIJAABwjkACAACcI5AAAADnCCQAAMA5AgkAAHCOQAIAAJwjkAAAAOcIJAAAwDkCCQAAcI5AAgAAnCOQAAAA5wgkAADAOQIJAABwjkACAACcI5AAAADnCCQAAMA5AgkAAHCOQAIAAJwjkAAAAOcIJAAAwDkCCQAAcI5AAgAAnCOQAAAA5wgkAADAOQIJAABwjkACAACcI5AAAADnCCQAAMA5AgkAAHCOQAIAAJwjkAAAAOcIJAAAwDkCCQAAcI5AAgAAnCOQAAAA5wgkAADAOZ/rARQl45ExRp5Rcc1aK2vdDQkAgFJGIEnlrZTPa1QdPi/p3QQSq6hVUAFCCQAAeUAgSeWtkAn3y77+vGyof7itcpo8c++UqaiWJZEAAJBzBJIx2HBQNnRVkmQcjwUAgFLHRa0AAMA5AgkAAHCOQAIAAJwjkAAAAOcIJAAAwDkCCQAAcI5AAgAAnCOQAAAA5wgkAADAOQIJAABwjkACAACcK9izbEKhkB555BFdvHhR4XBYmzdvVlNTU6G6BwAARaxgZ0i+9a1v6Zd/+Zf11FNP6dFHH9XWrVsL1TUAAChyBTtDcu+998qY4efmDg0NqaKiolBdAwCAIlewMyQ1NTWaNm2a3nnnHT3yyCNav359oboGAABFrqAXtZ45c0Zr167Vhg0bdNtttxWyawAAUMQK9pHNuXPn9Cd/8ifatm2b5s+fX6huAQDAFJD1GZJwOKyVK1fq0KFDibZQKKTNmzdr4cKFamtrU1dXV+K1r33tawoGg9q+fbt+//d/Xw888MDkRg4AAEpGVmdIQqGQ2tvb1dPTk9S+bds2HT9+XLt379bZs2e1ceNGzZkzR8uXL9eWLVtyMmBnjEfGGHlGIpy1Vta6HRIAAKViwoHk9OnTam9vl035bRwMBrVv3z7t2rVL9fX1qq+vV09Pj/bs2aPly5fnZLAjN+nk1LX2mXjJWymf16g6fF7S8HHHKms1YAMlG0ridclHzacqapIZdUlHTTKjLulKvSYTOa4JB5LDhw+rtbVVDz30UNLEZidOnFA0GlVzc3OiraWlRTt27FAsFpPHM/nrZ2fOvGHS+8ik/4Lk9XpVXVEp+Sskr0fV/grJUzW8wrRqaWhAvp++KEWCUkW19P/uVPWM9+ZlPMUkXzWfyqhJZtQlHTXJjLqkoyZZBJLVq1dnbO/t7dX06dNVWVmZaJs1a5ZCoZAuXbqkGTNmZD/KERcvXsn5GQmv16NKDc+NEgyFJW9EVUMxhQYj0mBoZKWRtis/lwavSFVheUIR9V+8mnamqFQYM/wNko+aT1XUJDPqko6aZEZd0pV6TeLHNx45u8tmYGAgKYxISiyHw+Gc9GGtcv4Fu9b+4i+ZlLak5RJ8A42Wj5pPddQkM+qSjppkRl3SUZMczkNSVVWVFjziy36/P1fd5I3Py3MGAQBwJWe/hevq6tTX16doNJpo6+3tld/vV21tba66yRufx6MSvaYIAICil7NAMm/ePPl8Ph09ejTRduTIETU0NOTkglYAAFC6cpYUAoGAVq1apY6ODh07dkwHDx5UV1eX1qxZk6suAABAicrp1PGbNm1SR0eH1q5dq5qaGm3YsEHLli3LZRcAAKAETSqQnDx5Mmk5EAios7NTnZ2dkxrUVGWMZEbNAsNsrgAAjE/BHq5X6oyRqs2APJHLibZYRa2CKt3ZXAEAyBUCSY4YY+SJXFbs1AEp3C9VTpNn7p0yFdUlO3kaAAC5QiDJtXC/bOgqtxADADAB3I8LAACcI5AAAADn+Mgmn4xn+NqSUbGPO28AAEhHIMkXb6V8XqPq8Hm9+5g+7rwBACATAkm+eCtkwv2yrz8vG+ofbuPOGwAAMiKQ5JkNB2VDVyWJO28AABgDF7UCAADnCCQAAMA5AgkAAHCOQAIAAJzjotZspcwxMvopvwAAYGIIJNnINMeIxyufhhR2OjAAAKYmAkk2Ms0xUjNb5uYWiTMlAABMGIFkEpLmGKmc5ng0AABMXVzUCgAAnCOQAAAA5wgkAADAOQIJAABwjkACAACc4y6bQkuZUG2Y1ehnAVtrZW2hBwYAgDsEkkLKNKGa8chb4ddQOJhYLVZRq6AChBIAQNkgkBTSGBOqVdzcomi8rXKaPHPvlKmoliWRAADKBIHEgUwTqsXbxprn1Zjk5+XwsQ4AoJQQSKYAY6RqMyBP5HKijY91AAClhEAyBRhj5IlcVuzUASnMxzoAgNJDIBmt2J+LF+5/92OdDHfr8DEOAGCqIpBoOIfERn6ZF8XELClhw6Q+QTjT3TriYxwAwNRFIBkRHorJDln5U3/5F1qmsOHxyqchhRPrZLhbp3KaPLfcJU/FtMTHOJwxAQBMFQSSYjPGrcHm5pbhq1tHSbpbJ0OQ4YwJAGCqIJAUqUy3Bl9TapDJcMZE4qwJAKA4EUhKTGI+E64zAQBMIQSSUjXWdSbcLgwAKEIEkhKX9NGP47EAADCWorjLFQAAlDcCCQAAcI5AAgAAnCOQAAAA5wgkAADAOe6yKTcpz8lhojQAQDEgkJQTppcHABQpAskoxpT4XB2ZppdnojQAQBEgkIwwZvg/5fBrOTG9/DjXN0YyqQ/246MeAEAOEUhGGBmFh2LSkFWV68EUEWOkgAbkiVxOauejHgBALhFIyl3KRa6SUj6+MfJELit26oAU5pk4AID8IJCUs2s8EXhAgeR1w/08EwcAkDcEknJ2jScCq6La7dgAAGWFQIL0JwKPfIwjpV/MCgBAPhBIkGz0xzh9PlVHY/JpSGHX4wIAlDQCCZKN+hhHnois9z0yN7eM3BcNAEB+EEiQkQ0HJU9Y1lvheigAgDJAIEHBMMEaAGAsBBIUhDFStWGCNQBAZgQSFIQxTLAGABgbgQSFxQRrAIAMPNdfBQAAIL8IJAAAwDkCCQAAcI5rSOBW2tOGrVKvLuHWYAAofQQSuJP6tGHjkbfCr6FwMGk1bg0GgNJHIEF2cnFmI/VpwzWzVXFzi6KpTx++5S55KqYlbg3mjAkAlB4CCSYux2c24k8bNpXTkpYlyaT2NYH9AgCmDgIJJm68ZzZyMelZal9MpgYAJYlAgqxd88xGvvrK8X4BAMWB234BAIBzBBIAAOAcgQQAADhHIAEAAM45CSQHDx7Upk2bXHQNAACKUMHvsuns7NR///d/q6mpqdBdAwCAIlXwMyTz589XR0dHobsFAABFrOCB5GMf+5iMYTYJAADwLiZGS2ES/8GkjXreTb5DqDGpffDUYACYSggkoxhJxmPE76wcSH0Gjccrn4YUzkNXxkjVZkCeyOWRBp4aDABTzaQ+sgmHw1q5cqUOHTqUaAuFQtq8ebMWLlyotrY2dXV1TXqQhWKMUXQoppjlJMmkxZ9B0/MdxY7vV+zH35OJRYbTQ44ZY+SJXFbs1IHhvs48L8/gO7I9I8vH9yt26oA8kct8XAgARSrrMyShUEjt7e3q6elJat+2bZuOHz+u3bt36+zZs9q4caPmzJmj5cuXJ9ZpbW1Va2tr9qPGlJH6vJu8CvcX7Nk6AIDcyiqQnD59Wu3t7WlPWw0Gg9q3b5927dql+vp61dfXq6enR3v27EkKJNnKxz9ur7XPTC+ltuVqnXzuO5t1TIYXim7MGVYa136yfB/Ft+MkSzLqko6aZEZd0pV6TSZyXFkFksOHD6u1tVUPPfRQ0nwiJ06cUDQaVXNzc6KtpaVFO3bsUCwWk8czuZt6Zs68YVLbjyV4QZIZKZwxMsYo4K+QPFXDK/grJK9H1fG21OVs18nnvie5TsBfIYXDqq4qjvEk2iorpaoK+afXJH8R+yqkQKXkHWM/Y22XhXy9D6c66pKOmmRGXdJRkywDyerVqzO29/b2avr06aqsrEy0zZo1S6FQSJcuXdKMGTOyG+WIixev5PyCRK/XoypJspK1krFW1loNDEZkB0MjK0VUNRRTaDAiDYbSl7NdJ5/7nuQ64cGIAh4pGCqO8STahirkCUXUf/Fq4gydMUbTIhHFBsJSaIz9ZNhuoowZ/qGRj/fhVEZd0lGTzKhLulKvSfz4xiOnd9kMDAwkhRFJieVwePL3V9iR0JBL19pf/KVr3Uw6mXXyue/JrmNTXyjGMY+sNPqU4Lj2M8n3UD7eh6WAuqSjJplRl3TUJMeBpKqqKi14xJf9fn8uu8or5iJBXPr8JpLHI1n7bhvzmwDA5OU0kNTV1amvr0/RaFQ+3/Cue3t75ff7VVtbm8uu8s7KyEjMSVLG0uY3kaS+St1gfElznDC/CQBMXk4Dybx58+Tz+XT06FEtXLhQknTkyBE1NDRM+oLWQjHGyFopPBRTpTGcQytjo+c3Ubh/uHHm++Spa1T09edlQ/1S5TR55t4pU1Gd9bUpAIAcP8smEAho1apV6ujo0LFjx3Tw4EF1dXVpzZo1uewGKKyR+U0UuipFBiSNmuMkHlQAAJOS86njN23apI6ODq1du1Y1NTXasGGDli1blutuUM5GPSNHyv45OZmuD+F6EABwY9KB5OTJk0nLgUBAnZ2d6uzsnOyugXSpz8iRsnpOTsbrQ8T1IADgCg/Xw9QSf0ZO/BoOSaqZLXNzy4SmBMx4fQjXgwCAMwQSTElJz6mZzHNy4teHiDu9AcClqXHrCwAAKGmcIQEmK+UiWym7i2O5yBZAOSOQZGIk3xSZNwWOZbrIVhO/OJaLbAGUOwLJGLye4X+p8nsA15TpItssLo7lIlsA5Y5AAuRA0kW2k9kRF9kCKFN8LgEAAJwjkAAAAOf4yAblY9TdMNlON59119xBAwDXRCBBeUi9GyaL6eazxR00AHB9BBKUh9S7YbKYbj5b3EEDANdHIEFZid8NM6np5rPFHTQAMCYuagUAAM4RSAAAgHMEEgAA4BzXkACjObw1+HrjkbK/VTj1tmNuOQZQbAgkQJzDW4PHNR5ld6twptuOueUYQLEhkABxDm8NHtd4srxVOO22Y245BlCECCRACqe3BmeQGM9kdzRy23ERfBAFAGm4qBUAADhHIAEAAM4RSAAAgHMEEgAA4ByBBAAAOMddNmMwkqyRjBVPQkPxSJkobVjqmzR5OdsJ3lInU5OYUA1A/hBIxhCTlZVkjZGRET+D4VyGidJkPPJW+DUUDmZelrKa4C3TZGoSE6oByB8CyRgiQ1Z2aCSURGOq0MhZE8fjQhlLnShNkmpmq+LmFkVHTeaWtDyyzkQneEubTE1iQjUAeUUgAaaY+ERpkhKTt6VO5pZpnayMTKYm8cklgPziolYAAOAcgQQAADhHIAEAAM4RSAAAgHMEEgAA4ByBBAAAOEcgAQAAzjEPyTiZxH+AcRg1xXu2U7dPValTzo9nunmmqQdAIJkAKzM82aUxsiMJhdlbkSZ1ivcspm6fqjJNOX+96eaZph6ARCAZF2Mka6XwUExVMgrHrHwxq3Aspsr4i0Bc6hTvWUzdPlWlTTk/junmmaYegEQgAfImdTr3sjIy5fyEIhjT1ANljYtaAQCAcwQSAADgHIEEAAA4RyABAADOEUgAAIBzBBIAAOAcgQQAADhHIAEAAM4RSAAAgHMEEgAA4ByBBAAAOMezbK7BjDzKN/5oL6PxPR8tdRWeCIyMjGf4wXKe4QfMuer7XVbxd++Y40nbLnmbQh+HMcljtdZe91mXqduMd7vx7Gd0PYbXGf7uH73vXPUPlBoCyRjMSPoYsnb4x4uRPB6jqMyY4cKObBgb9YPZanjZm8VPGyPJ4/EoltURoKh5K+XzGlWHz0uykscrn4YUdtG3JBmPvBV+DYWDw8uZxpO63eht+io0LRIp6HEYI1WbAXkilxNtsYpaBRUY85d7pm3Gs9249pNaw5GajN53rvoHShGB5BoiQ8M/HczIv3iiMatYNCbPcPJIXtkYxSRFYzFFh6w8QzH5jRSJxRQbisnrzeLTMWPk8Q4HGpQYb4VMuF/29edlQ/1SzWyZm1vGdwou131LUs1sVdzcoui1xpNhzPFt5IkoNhAu6HEYY+SJXFbs1AEp3C9VTpNn7p0yFdWyY/xmT9tGGtd249pPag0DlbJDFUn7zlX/QCkikAAO2XBQNnRVpnKas74lJfofz3hS17HhoOQJS6GQ5OA4FO4fHk8W20jpH7Fm07eUXEOFrkreKtmhisz7z1X/QAnholYAAOAcgQQAADhHIAEAAM4RSAAAgHMEEgAA4ByBBAAAOEcgAQAAzhFIAACAcwQSAADgHIEEAAA4RyABAADOEUgAAIBzBBIAAOAcgQQAADhHIAEAAM75CtVRLBbTX/3VX+nMmTOaNm2atm3bppkzZxaqewAAUMQKdobkwIED8vv92rt3r+677z7t3LmzUF0DAIAiV7BA8sorr2jx4sWSpCVLlujw4cOF6hoAABS5ggWSq1evqqamRpI0bdo09ff3F6prAABQ5AoWSGpqahIhpL+/XzfccEOhugYAAEWuYIGkqalJ3//+9yVJ3/ve99Tc3FyorgEAQJHLOpCEw2GtXLlShw4dSrSFQiFt3rxZCxcuVFtbm7q6uhKvLVu2TAMDA/q93/s97d27V3/8x388uZEDAICSkdVtv6FQSO3t7erp6Ulq37Ztm44fP67du3fr7Nmz2rhxo+bMmaPly5fL6/Vq69atkxqsMZPaPOf7NCPbm/jCdda1Jnk59fUx+7jGeiblL5nGkmnfafsZYxtzjTFfczyluM516lqUYy7AOqnvwfR2j4wx8oz6548xVnbkG8KMepNl7MuM/v+oda+xXdL7dtR24+1rIjJuYtJfHOt7bLL9p28/eidW1k58nXyJvwc8HjOqz+T+08eXvk6xmcyYk9/fhVOoOk/kuCYcSE6fPq329nbZlFEHg0Ht27dPu3btUn19verr69XT06M9e/Zo+fLlE+0mo5kz83PdSfCCJDMSLkw8BJjhQprhbx5p+IeZ8YwsG8nr9cjGPLJWMmb4O83j8cjr9cjr9co78nePzyvj9ch4vfJ6Par2V0iequHO/RUa8hgZr1eB6irJXyEl1qmUJA15PZLHvLtd0jrD+xn0eqWR/RifT/4M66RtN2p5cGj4rRDfLuCvkMJhmZH9jnc/Jb+OlPw1dD2eIlgn/l6pDmTYLlAjVXrl19vJycVXKUVDI4teyWelQKXkHemrslKqqpB/es2736gDfdLg5XeXU7fLtE3qduPtazz6KpL3k6Fm1f4M+07dLtv+M0mtkb9WCkyf+Dr5MtAn9f1EM0b/Syu1/9TxFXqM2cjBmPP1+21MRVjnCQeSw4cPq7W1VQ899JCampoS7SdOnFA0Gk26NqSlpUU7duxQLBaTxzP5y1UuXryS8/Tm9XpUJUlWsvE/kuxIUhz9fWNHXowvD8WsotGYhmJWnsiQfFaKxayGhmJSLKaYHf67HYopGI3JUxlVxVBMocGINDj8w9j4ovLFrAYjUcUiYckXld9ahQYjsqGwKnweDZoheWJW4cGI7GBI8kZUNRRTLDKkyEBYkhQ2UXnj+wlFFAtFVZXSV3y7RNvIcngwooFQRJIS24UHIwp4pMFwNLlvKXmMo/Yznr6m9DpGqp4mDRXLeIpknfh7JTiQYTuvVdXAFYVff142NHxRu6mZrcqbWxJt8eWkvoYq5AlF1H/xqqy1MsZoWuSi7KkDsuHk/SS2S9lGUtp24+lrPIb3G1FsICyFMtQnFFJ1oErBwXCG40jZLov+xx7TqGOtnCYz9071ByvGrkeGdfIl3rf/p88peOXS8M/SlP4zfp0LOMZsTHbMxgyHkXz8fhu7z8LVOX584zHhQLJ69eqM7b29vZo+fboqKysTbbNmzVIoFNKlS5c0Y8aMiXaVJh4YcsnV+zve7UTP0tkst0nt63r7yVSW8eynlNcxKUVxPZ5iWcemrphpnXBQNnR1eKFyWnLbyPKYfdl3T/vacH/afjKOeWRHaduNo6/xGH0aOuP3sk35f8pxTLb/a41pdI3e/cfU+NfJl8SxR4LS4NW04x/z61zAMWYjV2POx++3sRRrnXN2l83AwEBSGJGUWA6Hw7nqBgAAlKCcBZKqqqq04BFf9vv9ueoGAACUoJwFkrq6OvX19SkajSbaent75ff7VVtbm6tuAABACcpZIJk3b558Pp+OHj2aaDty5IgaGhpyckErAAAoXTlLCoFAQKtWrVJHR4eOHTumgwcPqqurS2vWrMlVFwAAoERlNTHaWDZt2qSOjg6tXbtWNTU12rBhg5YtW5bLLgAAQAmaVCA5efJk0nIgEFBnZ6c6OzsnNSgAAFBeuLgDAAA4RyABAADOEUgAAIBzBBIAAOAcgQQAADhHIAEAAM7ldB6SfDPm+utkvWNvpYyvSvJWSMbz7rJRUptS1pGvUiZ2vXWqhh/tmdqmlDYbSdu3vJ7r9p+2n0z9Z7OOR5LJwX5KaR1PkY2nWNbxaPinSc76qpSMkTFK/Il/n469n+Rt4t/aSduNo6/xGPd4VDGO45h4/+Ma07jqkZu+sxqfNM6vc+HGmI3Jjjnpa1MghazzRPZlrC3GBzoDAIBywkc2AADAOQIJAABwjkACAACcI5AAAADnCCQAAMA5AgkAAHCOQAIAAJwjkAAAAOcIJAAAwLmyDiShUEibN2/WwoUL1dbWpq6uLtdDyqtwOKyVK1fq0KFDibY33nhDn/jEJ9TU1KS7775bL7zwQtI2L774olauXKnGxkatWbNGb7zxRtLrTz75pJYsWaLm5mZt3rxZAwMDBTmWybpw4YIeeOABLVq0SEuWLNHWrVsVCoUklW9NJOknP/mJ/vAP/1DNzc36tV/7NT3++OOJ18q5LnHr1q3Tpz71qcTyq6++qt/+7d9WY2Oj7rvvPh0/fjxp/WeffVYf/ehH1djYqPXr1+udd95JvGat1ec//3ndeuutWrRokbZt26ZYLFawY5msAwcO6JZbbkn688ADD0gq37qEw2F97nOf04c//GHdfvvt+uIXv6j4ZOjlWpMJsWXsr//6r+0999xjjx8/br/zne/Y5uZm+x//8R+uh5UXg4ODdv369Xbu3Ln2pZdestZaG4vF7D333GPb29vt6dOn7Y4dO2xjY6N98803rbXWvvnmm7apqcl+4xvfsKdOnbIPPvigXblypY3FYtZaa//zP//TtrS02O9+97u2u7vb3n333fZzn/ucs2Mcr1gsZn/nd37H/tEf/ZE9deqUffnll+2dd95pH3300bKtibXWDg0N2WXLltn29nZ75swZ+9xzz9kFCxbYf/3Xfy3rusQ9++yzdu7cuXbjxo3WWmv7+/vt4sWL7aOPPmpPnz5tt2zZYm+//Xbb399vrbW2u7vbzp8/3/7Lv/yLfe211+z9999v161bl9jfN77xDXvHHXfYl19+2f7gBz+wbW1t9vHHH3dybNn42te+Zj/5yU/at956K/Hn5z//eVnX5dOf/rRdtmyZ7e7uti+++KJtbW213/zmN8u6JhNRtoGkv7/fNjQ0JH45W2vtV7/6VXv//fc7HFV+9PT02N/4jd+w99xzT1IgefHFF21TU1Pim8Jaa9euXWu//OUvW2utfeyxx5LqEQwGbXNzc2L71atXJ9a11tqXX37Zzp8/3waDwUIcVtZOnz5t586da3t7exNtzzzzjG1rayvbmlhr7YULF+yDDz5or1y5kmhbv369/exnP1vWdbHW2r6+Pvurv/qr9r777ksEkn379tmlS5cmQlcsFrN33nmn/fa3v22ttfbhhx9OrGuttWfPnrW33HKL/elPf2qttfaOO+5IrGuttfv377e//uu/XqhDmrT29nb7hS98Ia29XOvS19dnP/jBD9pDhw4l2nbu3Gk/9alPlW1NJqpsP7I5ceKEotGompubE20tLS3q7u4uuVNhhw8fVmtrq55++umk9u7ubn3wgx9UdXV1oq2lpUVHjx5NvL5w4cLEa4FAQPX19Tp69KiGhob0wx/+MOn1pqYmRSIRnThxIr8HNEmzZ8/W448/rlmzZiW1X716tWxrIknvfe979dhjj6mmpkbWWh05ckQvv/yyFi1aVNZ1kaTOzk7de++9ev/7359o6+7uVktLi8zI40yNMVqwYMGYNXnf+96nOXPmqLu7WxcuXNC5c+f04Q9/OPF6S0uL3nzzTb311luFOahJev311/WLv/iLae3lWpcjR46opqZGixYtSrStW7dOW7duLduaTFTZBpLe3l5Nnz5dlZWVibZZs2YpFArp0qVL7gaWB6tXr9bmzZsVCASS2nt7e/Xe9743qW3mzJk6f/78dV+/fPmyQqFQ0us+n0833nhjYvtiVVtbqyVLliSWY7GYnnrqKd16661lW5NUS5cu1erVq9Xc3Ky77rqrrOvygx/8QP/zP/+jP/3TP01qv15N3nrrrTFf7+3tlaSk1+MBeSrUxFqrM2fO6IUXXtBdd92lj370o/r85z+vcDhctnV54403dNNNN2n//v1avny5PvKRj+irX/2qYrFY2dZkonyuB+DKwMBAUhiRlFgOh8MuhlRwY9UgfvzXen1wcDCxPNb2U8X27dv16quv6lvf+paefPJJaiLpy1/+st5++211dHRo69atZfteCYVC+uxnP6vPfOYz8vv9Sa9dryaDg4MTqslU+vlz9uzZxPE/9thj+tnPfqa/+Zu/0eDgYNnWJRgM6ic/+Yn27t2rrVu3qre3V5/5zGcUCATKtiYTVbaBpKqqKu2LGV9O/cFTqqqqqtLOBoXD4cTxj1Wj2tpaVVVVJZZTX089E1PMtm/frt27d+tLX/qS5s6dS01GNDQ0SBr+hfyXf/mXuu+++9LuiimHunzlK1/Rhz70oaQzanFjHfP1ahIIBJJ+oaTWp9hrIkk33XSTDh06pPe85z0yxmjevHmKxWJ6+OGHtWjRorKsi8/n09WrV/WFL3xBN910k6Th4PbNb35Tv/ALv1CWNZmosv3Ipq6uTn19fYpGo4m23t5e+f1+1dbWOhxZ4dTV1entt99Oanv77bcTpwbHen327Nm68cYbVVVVlfR6NBrVpUuXNHv27PwPPge2bNmiJ554Qtu3b9ddd90lqbxr8vbbb+vgwYNJbe9///sViUQ0e/bssqzLv/3bv+ngwYNqbm5Wc3OznnnmGT3zzDNqbm6e1Hulrq5OkhKn40f/vdhrEnfjjTcmromQpF/5lV9RKBSa1HtlKtdl9uzZqqqqSoQRSfqlX/olnTt3ruzfK+NVtoFk3rx58vl8iYuKpOGLkhoaGuTxlEdZGhsb9aMf/ShxSlAarkFjY2Pi9SNHjiReGxgY0KuvvqrGxkZ5PB41NDQkvX706FH5fD594AMfKNxBZOkrX/mK9u7dqy9+8YtasWJFor2ca/Kzn/1Mf/Znf6YLFy4k2o4fP64ZM2aopaWlLOvyj//4j3rmmWe0f/9+7d+/X0uXLtXSpUu1f/9+NTY26n//938T80xYa/XKK6+MWZNz587p3LlzamxsVF1dnebMmZP0+pEjRzRnzpy0awmK0fPPP6/W1taks2avvfaabrzxRrW0tJRlXRobGxUKhXTmzJlE249//GPddNNNZf1emRB3N/i49+lPf9quWLHCdnd32wMHDtgFCxbY//qv/3I9rLwafdtvNBq1d999t/3zP/9ze+rUKbtz507b1NSUmFvijTfesA0NDXbnzp2JuSXuueeexK1rzz77rF2wYIE9cOCA7e7utitWrLBbtmxxdmzjdfr0aTtv3jz7pS99KWkOhbfeeqtsa2Lt8PvhN3/zN+0f/MEf2J6eHvvcc8/Z22+/3T755JNlXZfRNm7cmLg988qVK/bWW2+1W7ZssT09PXbLli128eLFiVujX3nlFVtfX2//+Z//OTG3xCc/+cnEvnbu3Gnb2trsSy+9ZF966SXb1tZmu7q6nBzXRF25csUuWbLE/sVf/IV9/fXX7XPPPWfb2trs17/+9bKuy7p16+zv/u7v2tdee81+73vfs7feeqvdvXt3WddkIso6kASDQfvII4/YpqYm29bWZp944gnXQ8q70YHEWmv/7//+z3784x+3H/rQh+yKFSvs97///aT1n3vuObts2TI7f/58u3bt2sR98XE7d+60t912m21pabGbNm2yg4ODBTmOydi5c6edO3duxj/WlmdN4s6fP2/Xr19vFyxYYBcvXmz/4R/+IREqyrkucaMDibXDE1qtWrXKNjQ02N/6rd+yP/rRj5LW//a3v23vuOMO29TUZNevX2/feeedxGvRaNT+3d/9nV24cKFtbW2127dvT9R6Kjh16pT9xCc+YZuamuzixYvt3//93yfGX651uXz5sn344YdtU1OTve2226jJBBlrR84hAQAAOFIeF0sAAICiRiABAADOEUgAAIBzBBIAAOAcgQQAADhHIAEAAM4RSAAAgHMEEgAA4ByBBAAAOEcgAQAAzhFIAACAcwQSAADg3P8H+OlRsOiABFMAAAAASUVORK5CYII="
     },
     "metadata": {},
     "output_type": "display_data"
    }
   ],
   "source": [
    "# load \"C:\\Users\\tolhs\\Downloads\\div1000_controls_vol_list.json\" and \"C:\\Users\\tolhs\\Downloads\\controls_vol_list.json\" into a list\n",
    "import json\n",
    "import pandas as pd\n",
    "import numpy as np\n",
    "import matplotlib.pyplot as plt\n",
    "\n",
    "# load the json files with numpy loadtxt\n",
    "div1000_controls_vol_list = np.loadtxt('C:\\\\Users\\\\tolhs\\\\Downloads\\\\div1000_controls_vol_list.json')\n",
    "controls_vol_list = np.loadtxt('C:\\\\Users\\\\tolhs\\\\Downloads\\\\controls_vol_list.json')  \n",
    "# convert the lists to numpy arrays\n",
    "div1000_controls_vol_list = np.array(div1000_controls_vol_list)\n",
    "controls_vol_list = np.array(controls_vol_list)\n",
    "\n",
    "# print the mean and std of the two lists\n",
    "print(f'mean of div1000_controls_vol_list: {np.mean(div1000_controls_vol_list)}')\n",
    "print(f'std of div1000_controls_vol_list: {np.std(div1000_controls_vol_list)}')\n",
    "print(f'mean of controls_vol_list: {np.mean(controls_vol_list)}')\n",
    "print(f'std of controls_vol_list: {np.std(controls_vol_list)}')\n",
    "# print max of the two lists and number of non-zero values\n",
    "print(f'max of div1000_controls_vol_list: {np.max(div1000_controls_vol_list)}')\n",
    "print(f'max of controls_vol_list: {np.max(controls_vol_list)}')\n",
    "print(f'number of non-zero values in div1000_controls_vol_list: {np.count_nonzero(div1000_controls_vol_list)}')\n",
    "print(f'number of non-zero values in controls_vol_list: {np.count_nonzero(controls_vol_list)}')\n",
    "\n",
    "# plot the two lists\n",
    "plt.hist(div1000_controls_vol_list, bins=100, alpha=0.5, label='div1000_controls_vol_list')\n",
    "plt.hist(controls_vol_list, bins=100, alpha=0.5, label='controls_vol_list')\n",
    "plt.legend(loc='upper right')\n",
    "plt.show()\n",
    "\n",
    "# display violin plots of the two lists with seaborn\n",
    "import seaborn as sns\n",
    "sns.violinplot(data=[div1000_controls_vol_list, controls_vol_list])\n",
    "plt.show()\n",
    "\n",
    "# can you display a logarithmic histogram of the two lists?\n",
    "plt.hist(div1000_controls_vol_list, bins=100, alpha=0.5, label='div1000_controls_vol_list', log=True)\n",
    "plt.hist(controls_vol_list, bins=100, alpha=0.5, label='controls_vol_list', log=True)"
=======
      "Processing abnormal_training_dice_focal\n",
      "Mean of val_best_mean_dice across folds at best epoch: 0.895162308216095\n",
      "Best value of val_best_mean_dice at best epoch: 0.907972514629364\n",
      "Mean of val_best_mean_loss across folds at best epoch: 0.12039990127086639\n",
      "Best value of val_best_mean_loss at best epoch: 0.10987710952758789\n",
      "Mean of epoch_train_loss across folds at best epoch: 0.0858351856470108\n",
      "Best value of epoch_train_loss at best epoch: 0.08223088085651398\n",
      "Tag epoch_train_ctr_loss not found in abnormal_training_dice_focal\n",
      "Mean of val_mean_dice across folds at best epoch: 0.895162308216095\n",
      "Best value of val_mean_dice at best epoch: 0.907972514629364\n",
      "Mean of val_distance across folds at best epoch: 2.6498131275177004\n",
      "Best value of val_distance at best epoch: 2.289167642593384\n",
      "Tag ctr_val_volume not found in abnormal_training_dice_focal\n",
      "Processing unet_abnormal_training\n",
      "Mean of val_best_mean_dice across folds at best epoch: 0.8408454418182373\n",
      "Best value of val_best_mean_dice at best epoch: 0.8490331768989563\n",
      "Mean of val_best_mean_loss across folds at best epoch: 0.18258351385593413\n",
      "Best value of val_best_mean_loss at best epoch: 0.1755388379096985\n",
      "Mean of epoch_train_loss across folds at best epoch: 0.03638098686933518\n",
      "Best value of epoch_train_loss at best epoch: 0.03302866220474243\n",
      "Tag epoch_train_ctr_loss not found in unet_abnormal_training\n",
      "Mean of val_mean_dice across folds at best epoch: 0.8408454418182373\n",
      "Best value of val_mean_dice at best epoch: 0.8490331768989563\n",
      "Mean of val_distance across folds at best epoch: 3.9199737548828124\n",
      "Best value of val_distance at best epoch: 3.7935774326324463\n",
      "Tag ctr_val_volume not found in unet_abnormal_training\n",
      "Processing control_training_wf_div10_dicefocal\n",
      "Mean of val_best_mean_dice across folds at best epoch: 0.8880412817001343\n",
      "Best value of val_best_mean_dice at best epoch: 0.8990077972412109\n",
      "Mean of val_best_mean_loss across folds at best epoch: 0.13077860772609712\n",
      "Best value of val_best_mean_loss at best epoch: 0.1253492683172226\n",
      "Mean of epoch_train_loss across folds at best epoch: 0.08331928998231888\n",
      "Best value of epoch_train_loss at best epoch: 0.07825499773025513\n",
      "Mean of epoch_train_ctr_loss across folds at best epoch: 0.0009658641996793449\n",
      "Best value of epoch_train_ctr_loss at best epoch: 0.000912784191314131\n",
      "Mean of val_mean_dice across folds at best epoch: 0.8880412817001343\n",
      "Best value of val_mean_dice at best epoch: 0.8990077972412109\n",
      "Mean of val_distance across folds at best epoch: 2.6695798873901366\n",
      "Best value of val_distance at best epoch: 2.227639675140381\n",
      "Mean of ctr_val_volume across folds at best epoch: 0.703695747256279\n",
      "Best value of ctr_val_volume at best epoch: 0.20308123528957367\n"
     ]
    }
   ],
   "source": [
    "import numpy as np\n",
    "from bcblib.tools.visualisation import load_all_event_files, plot_scalar_per_fold\n",
    "\n",
    "best_tags = ['val_best_mean_dice', 'val_best_mean_loss', 'val_best_mean_distance', 'epoch_train_loss', 'epoch_train_ctr_loss', 'val_mean_dice', 'val_distance', 'ctr_val_volume']\n",
    "root_folder = Path('/gamma/Dropbox (GIN)/UCL_Data/events_files')\n",
    "\n",
    "best_func_best_tags = {tag: min if 'loss' in tag or 'distance' in tag or 'volume' in tag else max for tag in best_tags}\n",
    "\n",
    "for subfolder in root_folder.iterdir():\n",
    "    if subfolder.name == 'plots':\n",
    "        continue\n",
    "    print(f'Processing {subfolder.name}')\n",
    "    fold_data = load_all_event_files(subfolder)\n",
    "    best_epochs = plot_scalar_per_fold(fold_data, 'val_best_mean_dice', best_epochs=None, output_path=None, display_plot=False, best_func=best_func_best_tags)\n",
    "\n",
    "    for tag in best_tags:\n",
    "        if tag not in fold_data['fold_1'].Tags()['scalars']:\n",
    "            print(f'Tag {tag} not found in {subfolder.name}')\n",
    "            continue\n",
    "\n",
    "        values_at_best_epochs = []\n",
    "        for fold_name, best_epoch in best_epochs.items():\n",
    "            event_acc = fold_data[fold_name]\n",
    "            x, y = zip(*[(s.step, s.value) for s in event_acc.Scalars(tag)])\n",
    "            if best_epoch in x:\n",
    "                value_at_best_epoch = y[x.index(best_epoch)]\n",
    "                values_at_best_epochs.append(value_at_best_epoch)\n",
    "\n",
    "        if values_at_best_epochs:\n",
    "            mean_value = np.mean(values_at_best_epochs)\n",
    "            print(f'Mean of {tag} across folds at best epoch: {mean_value}')\n",
    "            # also print the best value of the best epoch for fold_1 values_at_best_epochs[1]\n",
    "            print(f'Best value of {tag} at best epoch: {values_at_best_epochs[1]}')\n",
    "        else:\n",
    "            # print(f'No values found for {tag} at best epoch')\n",
    "            continue"
>>>>>>> 21257755db0807c78d0c2bc56c74d81de3048383
   ],
   "metadata": {
    "collapsed": false,
    "ExecuteTime": {
<<<<<<< HEAD
     "end_time": "2024-01-12T16:27:52.947598700Z",
     "start_time": "2024-01-12T16:27:51.844964500Z"
    }
   },
   "id": "5da352deabcdb0df",
   "execution_count": 1
=======
     "end_time": "2024-01-09T17:06:28.224828985Z",
     "start_time": "2024-01-09T17:06:27.101731333Z"
    }
   },
   "id": "b06039ec20edddcb",
   "execution_count": 29
  },
  {
   "cell_type": "code",
   "outputs": [],
   "source": [
    "\"\"\"\n",
    "Processing abnormal_training_dice_focal\n",
    "Mean of val_best_mean_dice across folds at best epoch: 0.895162308216095\n",
    "Best value of val_best_mean_dice at best epoch: 0.907972514629364\n",
    "Mean of val_best_mean_loss across folds at best epoch: 0.12039990127086639\n",
    "Best value of val_best_mean_loss at best epoch: 0.10987710952758789\n",
    "Mean of epoch_train_loss across folds at best epoch: 0.0858351856470108\n",
    "Best value of epoch_train_loss at best epoch: 0.08223088085651398\n",
    "Tag epoch_train_ctr_loss not found in abnormal_training_dice_focal\n",
    "Mean of val_mean_dice across folds at best epoch: 0.895162308216095\n",
    "Best value of val_mean_dice at best epoch: 0.907972514629364\n",
    "Mean of val_distance across folds at best epoch: 2.6498131275177004\n",
    "Best value of val_distance at best epoch: 2.289167642593384\n",
    "Tag ctr_val_volume not found in abnormal_training_dice_focal\n",
    "Processing unet_abnormal_training\n",
    "Mean of val_best_mean_dice across folds at best epoch: 0.8408454418182373\n",
    "Best value of val_best_mean_dice at best epoch: 0.8490331768989563\n",
    "Mean of val_best_mean_loss across folds at best epoch: 0.18258351385593413\n",
    "Best value of val_best_mean_loss at best epoch: 0.1755388379096985\n",
    "Mean of epoch_train_loss across folds at best epoch: 0.03638098686933518\n",
    "Best value of epoch_train_loss at best epoch: 0.03302866220474243\n",
    "Tag epoch_train_ctr_loss not found in unet_abnormal_training\n",
    "Mean of val_mean_dice across folds at best epoch: 0.8408454418182373\n",
    "Best value of val_mean_dice at best epoch: 0.8490331768989563\n",
    "Mean of val_distance across folds at best epoch: 3.9199737548828124\n",
    "Best value of val_distance at best epoch: 3.7935774326324463\n",
    "Tag ctr_val_volume not found in unet_abnormal_training\n",
    "Processing control_training_wf_div10_dicefocal\n",
    "Mean of val_best_mean_dice across folds at best epoch: 0.8880412817001343\n",
    "Best value of val_best_mean_dice at best epoch: 0.8990077972412109\n",
    "Mean of val_best_mean_loss across folds at best epoch: 0.13077860772609712\n",
    "Best value of val_best_mean_loss at best epoch: 0.1253492683172226\n",
    "Mean of epoch_train_loss across folds at best epoch: 0.08331928998231888\n",
    "Best value of epoch_train_loss at best epoch: 0.07825499773025513\n",
    "Mean of epoch_train_ctr_loss across folds at best epoch: 0.0009658641996793449\n",
    "Best value of epoch_train_ctr_loss at best epoch: 0.000912784191314131\n",
    "Mean of val_mean_dice across folds at best epoch: 0.8880412817001343\n",
    "Best value of val_mean_dice at best epoch: 0.8990077972412109\n",
    "Mean of val_distance across folds at best epoch: 2.6695798873901366\n",
    "Best value of val_distance at best epoch: 2.227639675140381\n",
    "Mean of ctr_val_volume across folds at best epoch: 0.703695747256279\n",
    "Best value of ctr_val_volume at best epoch: 0.20308123528957367\n",
    "\n",
    "Trained with controls, the best fold of the SWIN-UNETR reaches an average Dice Score of 0.8990 and an average HD of 2.2276 voxels in the second fold (Fold_1). The average Dice Score across the folds is 0.8880, and the average HD is 2.6696 voxels. Without controls (abnormal_training_dice_focal), the best fold reaches an average Dice Score of 0.9079 and an average HD of 2.2892 voxels in the second fold (Fold_1). The average Dice Score across the folds is 0.8952, and the average HD is 2.6498 voxels. The U-Net without augmentation reaches an average Dice Score of 0.8490 and an average HD of 3.7936 voxels in the second fold (Fold_1). The average Dice Score across the folds is 0.8408, and the average HD is 3.9200 voxels.\n",
    "\"\"\""
   ],
   "metadata": {
    "collapsed": false
   },
   "id": "105b4ba199fc3e53"
>>>>>>> 21257755db0807c78d0c2bc56c74d81de3048383
  }
 ],
 "metadata": {
  "kernelspec": {
   "display_name": "Python 3",
   "language": "python",
   "name": "python3"
  },
  "language_info": {
   "codemirror_mode": {
    "name": "ipython",
    "version": 2
   },
   "file_extension": ".py",
   "mimetype": "text/x-python",
   "name": "python",
   "nbconvert_exporter": "python",
   "pygments_lexer": "ipython2",
   "version": "2.7.6"
  }
 },
 "nbformat": 4,
 "nbformat_minor": 5
}
