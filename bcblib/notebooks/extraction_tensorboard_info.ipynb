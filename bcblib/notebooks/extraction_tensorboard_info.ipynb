{
 "cells": [
  {
   "cell_type": "code",
   "execution_count": 2,
   "id": "initial_id",
   "metadata": {
    "ExecuteTime": {
     "end_time": "2024-01-09T12:30:23.786023350Z",
     "start_time": "2024-01-09T12:30:22.947910971Z"
    }
   },
   "outputs": [],
   "source": [
    "import os\n",
    "from pathlib import Path\n",
    "\n",
    "import pandas as pd\n",
    "from tensorboard.backend.event_processing.event_accumulator import EventAccumulator\n",
    "import matplotlib.pyplot as plt\n",
    "\n",
    "%load_ext autoreload"
   ]
  },
  {
   "cell_type": "code",
   "execution_count": 7,
   "id": "a6d897bbf5112ca7",
   "metadata": {
    "ExecuteTime": {
     "end_time": "2024-01-08T12:49:35.912820524Z",
     "start_time": "2024-01-08T12:49:35.822332276Z"
    }
   },
   "outputs": [
    {
     "name": "stdout",
     "output_type": "stream",
     "text": [
      "Scalar Tags:\n",
      "epoch_train_loss\n",
      "val_mean_dice\n",
      "val_distance\n",
      "val_best_mean_dice\n",
      "val_best_mean_loss\n",
      "val_best_mean_distance\n"
     ]
    }
   ],
   "source": [
    "event_file = '/gamma/Dropbox (GIN)/UCL_Data/events_files/unet_abnormal_training/fold_0/events.out.tfevents.1692202260.highdimneuro.8598.0'\n",
    "\n",
    "# load the file\n",
    "event_acc = EventAccumulator(event_file)\n",
    "# print scalars\n",
    "event_acc.Reload()\n",
    "scalar_tags = event_acc.Tags()['scalars']\n",
    "\n",
    "# Print the scalar tag names\n",
    "print(\"Scalar Tags:\")\n",
    "for tag in scalar_tags:\n",
    "    print(tag)\n",
    "    \n",
    "filtered_tags = ['epoch_train_loss', 'epoch_train_ctr_loss', 'val_mean_dice', 'val_distance', 'ctr_val_volume']\n",
    "\n",
    "# do the same for all the tags containing 'best'\n",
    "best_tags = [tag for tag in scalar_tags if 'best' in tag]\n",
    "\"\"\"\n",
    "epoch_train_loss\n",
    "epoch_train_ctr_loss\n",
    "val_mean_dice\n",
    "ctr_val_loss\n",
    "ctr_val_volume\n",
    "val_distance\n",
    "val_best_mean_dice\n",
    "val_best_mean_loss\n",
    "val_best_mean_distance\n",
    "\n",
    "train = training\n",
    "ctr = controls\n",
    "val = validation\n",
    "\"\"\"\n",
    "translate_dict = {\n",
    "    'epoch_train_loss': 'Training Loss',\n",
    "    'epoch_train_ctr_loss': 'Training Controls Loss',\n",
    "    'val_mean_dice': 'Validation Mean Dice',\n",
    "    'ctr_val_loss': 'Validation Controls Loss',\n",
    "    'ctr_val_volume': 'Validation Controls Volume',\n",
    "    'val_distance': 'Validation Distance',\n",
    "    'val_best_mean_dice': 'Validation Best Mean Dice',\n",
    "    'val_best_mean_loss': 'Validation Best Mean Loss',\n",
    "    'val_best_mean_distance': 'Validation Best Mean Distance'\n",
    "}"
   ]
  },
  {
   "cell_type": "code",
   "outputs": [],
   "source": [
    "# do the same for both tags lists but point to the best value in the plot and display its value\n",
    "# each tag containing \"loss\", \"distance\" or \"volume\" the best value is the lowest\n",
    "# create a list like the tags lists but with the best value function to apply\n",
    "best_func_filtered_tags = [min if 'loss' in tag or 'distance' in tag or 'volume' in tag else max for tag in filtered_tags]\n",
    "best_func_best_tags = [min if 'loss' in tag or 'distance' in tag or 'volume' in tag else max for tag in best_tags]\n",
    "\n",
    "# plot each scalar in a different subplot\n",
    "fig, axs = plt.subplots(len(filtered_tags), 1, figsize=(10, len(filtered_tags)*5))\n",
    "for i, tag in enumerate(filtered_tags):\n",
    "    x, y = zip(*[(s.step, s.value) for s in event_acc.Scalars(tag)])\n",
    "    axs[i].plot(x, y)\n",
    "    axs[i].set_xlabel('Epoch')\n",
    "    axs[i].set_ylabel(tag)\n",
    "    # find the best value\n",
    "    best_value_func = best_func_filtered_tags[i]\n",
    "    best_value = best_value_func(y)\n",
    "    best_epoch = x[y.index(best_value)]\n",
    "    axs[i].plot(best_epoch, best_value, 'ro')\n",
    "    axs[i].set_title(f'{tag} (Best value: {best_value:.4f})')\n",
    "plt.tight_layout()\n",
    "plt.show()\n",
    "\n",
    "# plot each scalar in a different subplot\n",
    "fig, axs = plt.subplots(len(best_tags), 1, figsize=(10, len(best_tags)*5))\n",
    "for i, tag in enumerate(best_tags):\n",
    "    x, y = zip(*[(s.step, s.value) for s in event_acc.Scalars(tag)])\n",
    "    axs[i].plot(x, y)\n",
    "    axs[i].set_xlabel('Epoch')\n",
    "    axs[i].set_ylabel(tag)\n",
    "    # find the best value\n",
    "    best_value_func = best_func_best_tags[i]\n",
    "    best_value = best_value_func(y)\n",
    "    best_epoch = x[y.index(best_value)]\n",
    "    axs[i].plot(best_epoch, best_value, 'ro')\n",
    "    axs[i].set_title(f'{tag} (Best value: {best_value:.4f})')\n",
    "plt.tight_layout()\n",
    "plt.show()"
   ],
   "metadata": {
    "collapsed": false
   },
   "id": "2169ba33d11b675d",
   "execution_count": 0
  },
  {
   "cell_type": "code",
   "execution_count": null,
   "id": "5625021cbfc048cb",
   "metadata": {
    "ExecuteTime": {
     "end_time": "2023-12-19T12:31:08.242517014Z",
     "start_time": "2023-12-19T12:31:05.627277861Z"
    }
   },
   "outputs": [],
   "source": [
    "# plot each scalar in a different subplot and save each plot as a separate image file\n",
    "output_folder = Path('/data/Dropbox (GIN)/result_ucl_lesseg')  # replace with your output folder path\n",
    "for i, tag in enumerate(filtered_tags):\n",
    "    fig, ax = plt.subplots(figsize=(10, 5))\n",
    "    x, y = zip(*[(s.step, s.value) for s in event_acc.Scalars(tag)])\n",
    "    ax.plot(x, y)\n",
    "    ax.set_xlabel('Epoch')\n",
    "    ax.set_ylabel(tag)\n",
    "    # find the best value\n",
    "    best_value_func = best_func_filtered_tags[i]\n",
    "    best_value = best_value_func(y)\n",
    "    best_epoch = x[y.index(best_value)]\n",
    "    ax.plot(best_epoch, best_value, 'ro')\n",
    "    ax.set_title(f'Best value: {best_value:.4f}')\n",
    "    plt.tight_layout()\n",
    "    plt.savefig(output_folder / f'{tag}.png')\n",
    "    plt.close(fig)  # close the figure\n",
    "\n",
    "# do the same for the best_tags list\n",
    "for i, tag in enumerate(best_tags):\n",
    "    fig, ax = plt.subplots(figsize=(10, 5))\n",
    "    x, y = zip(*[(s.step, s.value) for s in event_acc.Scalars(tag)])\n",
    "    ax.plot(x, y)\n",
    "    ax.set_xlabel('Epoch')\n",
    "    ax.set_ylabel(tag)\n",
    "    # find the best value\n",
    "    best_value_func = best_func_best_tags[i]\n",
    "    best_value = best_value_func(y)\n",
    "    best_epoch = x[y.index(best_value)]\n",
    "    ax.plot(best_epoch, best_value, 'ro')\n",
    "    ax.set_title(f'Best value: {best_value:.4f}')\n",
    "    plt.tight_layout()\n",
    "    plt.savefig(output_folder / f'{tag}.png')\n",
    "    plt.close(fig)  # close the figure"
   ]
  },
  {
   "cell_type": "code",
   "execution_count": null,
   "id": "ac62eb14ada8ac91",
   "metadata": {
    "ExecuteTime": {
     "end_time": "2024-01-02T15:09:15.278467694Z",
     "start_time": "2024-01-02T15:08:50.144866131Z"
    }
   },
   "outputs": [],
   "source": [
    "from bcblib.tools.visualisation import create_and_save_plots, load_tensorboard_file\n",
    "\n",
    "# /data/Dropbox (GIN)/UCL_Data/events_files contains several subfolders contains subfolders with event files\n",
    "# For each subfolder of the root, load the event file and create and save the plots in /data/Dropbox (GIN)/UCL_Data/events_files/plots/subfolder_name\n",
    "\n",
    "# best_func_filtered_tags = [min if 'loss' in tag or 'distance' in tag or 'volume' in tag else max for tag in filtered_tags]\n",
    "best_func_filtered_tags = {tag: min if 'loss' in tag or 'distance' in tag or 'volume' in tag else max for tag in filtered_tags}\n",
    "# best_func_best_tags = [min if 'loss' in tag or 'distance' in tag or 'volume' in tag else max for tag in best_tags]\n",
    "best_func_best_tags = {tag: min if 'loss' in tag or 'distance' in tag or 'volume' in tag else max for tag in best_tags}\n",
    "print(best_func_filtered_tags)\n",
    "root_folder = Path('/data/Dropbox (GIN)/UCL_Data/events_files')\n",
    "for subfolder in root_folder.iterdir():\n",
    "    # root_folder / 'plots' should not be processed\n",
    "    if subfolder.name == 'plots':\n",
    "        continue\n",
    "    print(f'Processing {subfolder.name}')\n",
    "    # for each subfolder in subfolder\n",
    "    for subsubfolder in subfolder.iterdir():\n",
    "        # Load the event file\n",
    "        event_file_list = list(subsubfolder.rglob('events.out.tfevents.*'))\n",
    "        # only keep the latest event file using the date of modification\n",
    "        event_file = max(event_file_list, key=os.path.getmtime)    \n",
    "        event_acc = load_tensorboard_file(str(event_file))\n",
    "        # Create the output folder subfolder_name/subsubfolder_name\n",
    "        output_folder = root_folder / 'plots' / subfolder.name / subsubfolder.name\n",
    "        output_folder.mkdir(parents=True, exist_ok=True)\n",
    "        # Create and save the plots\n",
    "        create_and_save_plots(event_acc, best_func_best_tags, output_folder=output_folder, display_plot=False)"
   ]
  },
  {
   "cell_type": "code",
   "execution_count": 24,
   "id": "771ea92bd5d70e83",
   "metadata": {
    "ExecuteTime": {
     "end_time": "2024-01-09T15:58:20.351101898Z",
     "start_time": "2024-01-09T15:58:19.024407777Z"
    }
   },
   "outputs": [
    {
     "name": "stdout",
     "output_type": "stream",
     "text": [
      "Processing abnormal_training_dice_focal\n"
     ]
    },
    {
     "name": "stderr",
     "output_type": "stream",
     "text": [
      "/home/chrisfoulon/neuro_apps/BCBlib/bcblib/tools/visualisation.py:881: FutureWarning: The behavior of DataFrame concatenation with empty or all-NA entries is deprecated. In a future version, this will no longer exclude empty or all-NA columns when determining the result dtypes. To retain the old behavior, exclude the relevant entries before the concat operation.\n"
     ]
    },
    {
     "ename": "KeyError",
     "evalue": "'fold_1'",
     "output_type": "error",
     "traceback": [
      "\u001B[0;31m---------------------------------------------------------------------------\u001B[0m",
      "\u001B[0;31mKeyError\u001B[0m                                  Traceback (most recent call last)",
      "File \u001B[0;32m~/miniconda3/lib/python3.11/site-packages/pandas/core/indexes/base.py:3790\u001B[0m, in \u001B[0;36mIndex.get_loc\u001B[0;34m(self, key)\u001B[0m\n\u001B[1;32m   3789\u001B[0m \u001B[38;5;28;01mtry\u001B[39;00m:\n\u001B[0;32m-> 3790\u001B[0m     \u001B[38;5;28;01mreturn\u001B[39;00m \u001B[38;5;28;43mself\u001B[39;49m\u001B[38;5;241;43m.\u001B[39;49m\u001B[43m_engine\u001B[49m\u001B[38;5;241;43m.\u001B[39;49m\u001B[43mget_loc\u001B[49m\u001B[43m(\u001B[49m\u001B[43mcasted_key\u001B[49m\u001B[43m)\u001B[49m\n\u001B[1;32m   3791\u001B[0m \u001B[38;5;28;01mexcept\u001B[39;00m \u001B[38;5;167;01mKeyError\u001B[39;00m \u001B[38;5;28;01mas\u001B[39;00m err:\n",
      "File \u001B[0;32mindex.pyx:152\u001B[0m, in \u001B[0;36mpandas._libs.index.IndexEngine.get_loc\u001B[0;34m()\u001B[0m\n",
      "File \u001B[0;32mindex.pyx:181\u001B[0m, in \u001B[0;36mpandas._libs.index.IndexEngine.get_loc\u001B[0;34m()\u001B[0m\n",
      "File \u001B[0;32mpandas/_libs/hashtable_class_helper.pxi:7080\u001B[0m, in \u001B[0;36mpandas._libs.hashtable.PyObjectHashTable.get_item\u001B[0;34m()\u001B[0m\n",
      "File \u001B[0;32mpandas/_libs/hashtable_class_helper.pxi:7088\u001B[0m, in \u001B[0;36mpandas._libs.hashtable.PyObjectHashTable.get_item\u001B[0;34m()\u001B[0m\n",
      "\u001B[0;31mKeyError\u001B[0m: 'fold_1'",
      "\nThe above exception was the direct cause of the following exception:\n",
      "\u001B[0;31mKeyError\u001B[0m                                  Traceback (most recent call last)",
      "Cell \u001B[0;32mIn[24], line 27\u001B[0m\n\u001B[1;32m     25\u001B[0m     \u001B[38;5;28;01mcontinue\u001B[39;00m\n\u001B[1;32m     26\u001B[0m \u001B[38;5;28;01mif\u001B[39;00m tag \u001B[38;5;241m==\u001B[39m leading_tag:\n\u001B[0;32m---> 27\u001B[0m     best_leading_values \u001B[38;5;241m=\u001B[39m \u001B[43mplot_scalar_per_fold\u001B[49m\u001B[43m(\u001B[49m\u001B[43mfold_data\u001B[49m\u001B[43m,\u001B[49m\u001B[43m \u001B[49m\u001B[43mtag\u001B[49m\u001B[43m,\u001B[49m\u001B[43m \u001B[49m\u001B[43mbest_epochs\u001B[49m\u001B[38;5;241;43m=\u001B[39;49m\u001B[38;5;28;43;01mNone\u001B[39;49;00m\u001B[43m,\u001B[49m\u001B[43m \u001B[49m\u001B[43moutput_path\u001B[49m\u001B[38;5;241;43m=\u001B[39;49m\u001B[43moutput_folder\u001B[49m\u001B[43m,\u001B[49m\u001B[43m \u001B[49m\u001B[43mdisplay_plot\u001B[49m\u001B[38;5;241;43m=\u001B[39;49m\u001B[38;5;28;43;01mFalse\u001B[39;49;00m\u001B[43m,\u001B[49m\u001B[43m \u001B[49m\u001B[43mbest_func\u001B[49m\u001B[38;5;241;43m=\u001B[39;49m\u001B[43mbest_func_best_tags\u001B[49m\u001B[43m)\u001B[49m\n\u001B[1;32m     28\u001B[0m     \u001B[38;5;28mprint\u001B[39m(\u001B[38;5;124mf\u001B[39m\u001B[38;5;124m'\u001B[39m\u001B[38;5;124mBest leading values for \u001B[39m\u001B[38;5;132;01m{\u001B[39;00msubfolder\u001B[38;5;241m.\u001B[39mname\u001B[38;5;132;01m}\u001B[39;00m\u001B[38;5;124m: \u001B[39m\u001B[38;5;132;01m{\u001B[39;00mbest_leading_values\u001B[38;5;132;01m}\u001B[39;00m\u001B[38;5;124m'\u001B[39m)\n\u001B[1;32m     29\u001B[0m \u001B[38;5;28;01melse\u001B[39;00m:\n",
      "File \u001B[0;32m~/neuro_apps/BCBlib/bcblib/tools/visualisation.py:869\u001B[0m, in \u001B[0;36mplot_scalar_per_fold\u001B[0;34m(fold_data, scalar_name, best_epochs, output_path, display_plot, best_func)\u001B[0m\n\u001B[1;32m    866\u001B[0m plot_data \u001B[38;5;241m=\u001B[39m pd\u001B[38;5;241m.\u001B[39mDataFrame(columns\u001B[38;5;241m=\u001B[39m[\u001B[38;5;124m'\u001B[39m\u001B[38;5;124mEpoch\u001B[39m\u001B[38;5;124m'\u001B[39m, \u001B[38;5;124m'\u001B[39m\u001B[38;5;124mValue\u001B[39m\u001B[38;5;124m'\u001B[39m, \u001B[38;5;124m'\u001B[39m\u001B[38;5;124mFold\u001B[39m\u001B[38;5;124m'\u001B[39m])\n\u001B[1;32m    868\u001B[0m \u001B[38;5;28;01mfor\u001B[39;00m fold_name \u001B[38;5;129;01min\u001B[39;00m sorted_fold_names:\n\u001B[0;32m--> 869\u001B[0m     event_acc \u001B[38;5;241m=\u001B[39m \u001B[43mfold_data\u001B[49m\u001B[43m[\u001B[49m\u001B[43mfold_name\u001B[49m\u001B[43m]\u001B[49m\n\u001B[1;32m    870\u001B[0m     \u001B[38;5;28;01mif\u001B[39;00m scalar_name \u001B[38;5;129;01mnot\u001B[39;00m \u001B[38;5;129;01min\u001B[39;00m event_acc\u001B[38;5;241m.\u001B[39mTags()[\u001B[38;5;124m'\u001B[39m\u001B[38;5;124mscalars\u001B[39m\u001B[38;5;124m'\u001B[39m]:\n\u001B[1;32m    871\u001B[0m         \u001B[38;5;28;01mraise\u001B[39;00m \u001B[38;5;167;01mValueError\u001B[39;00m(\u001B[38;5;124mf\u001B[39m\u001B[38;5;124m\"\u001B[39m\u001B[38;5;124mThe scalar \u001B[39m\u001B[38;5;124m'\u001B[39m\u001B[38;5;132;01m{\u001B[39;00mscalar_name\u001B[38;5;132;01m}\u001B[39;00m\u001B[38;5;124m'\u001B[39m\u001B[38;5;124m is not found in the fold \u001B[39m\u001B[38;5;124m'\u001B[39m\u001B[38;5;132;01m{\u001B[39;00mfold_name\u001B[38;5;132;01m}\u001B[39;00m\u001B[38;5;124m'\u001B[39m\u001B[38;5;124m.\u001B[39m\u001B[38;5;124m\"\u001B[39m)\n",
      "File \u001B[0;32m~/miniconda3/lib/python3.11/site-packages/pandas/core/frame.py:3893\u001B[0m, in \u001B[0;36mDataFrame.__getitem__\u001B[0;34m(self, key)\u001B[0m\n\u001B[1;32m   3891\u001B[0m \u001B[38;5;28;01mif\u001B[39;00m \u001B[38;5;28mself\u001B[39m\u001B[38;5;241m.\u001B[39mcolumns\u001B[38;5;241m.\u001B[39mnlevels \u001B[38;5;241m>\u001B[39m \u001B[38;5;241m1\u001B[39m:\n\u001B[1;32m   3892\u001B[0m     \u001B[38;5;28;01mreturn\u001B[39;00m \u001B[38;5;28mself\u001B[39m\u001B[38;5;241m.\u001B[39m_getitem_multilevel(key)\n\u001B[0;32m-> 3893\u001B[0m indexer \u001B[38;5;241m=\u001B[39m \u001B[38;5;28;43mself\u001B[39;49m\u001B[38;5;241;43m.\u001B[39;49m\u001B[43mcolumns\u001B[49m\u001B[38;5;241;43m.\u001B[39;49m\u001B[43mget_loc\u001B[49m\u001B[43m(\u001B[49m\u001B[43mkey\u001B[49m\u001B[43m)\u001B[49m\n\u001B[1;32m   3894\u001B[0m \u001B[38;5;28;01mif\u001B[39;00m is_integer(indexer):\n\u001B[1;32m   3895\u001B[0m     indexer \u001B[38;5;241m=\u001B[39m [indexer]\n",
      "File \u001B[0;32m~/miniconda3/lib/python3.11/site-packages/pandas/core/indexes/base.py:3797\u001B[0m, in \u001B[0;36mIndex.get_loc\u001B[0;34m(self, key)\u001B[0m\n\u001B[1;32m   3792\u001B[0m     \u001B[38;5;28;01mif\u001B[39;00m \u001B[38;5;28misinstance\u001B[39m(casted_key, \u001B[38;5;28mslice\u001B[39m) \u001B[38;5;129;01mor\u001B[39;00m (\n\u001B[1;32m   3793\u001B[0m         \u001B[38;5;28misinstance\u001B[39m(casted_key, abc\u001B[38;5;241m.\u001B[39mIterable)\n\u001B[1;32m   3794\u001B[0m         \u001B[38;5;129;01mand\u001B[39;00m \u001B[38;5;28many\u001B[39m(\u001B[38;5;28misinstance\u001B[39m(x, \u001B[38;5;28mslice\u001B[39m) \u001B[38;5;28;01mfor\u001B[39;00m x \u001B[38;5;129;01min\u001B[39;00m casted_key)\n\u001B[1;32m   3795\u001B[0m     ):\n\u001B[1;32m   3796\u001B[0m         \u001B[38;5;28;01mraise\u001B[39;00m InvalidIndexError(key)\n\u001B[0;32m-> 3797\u001B[0m     \u001B[38;5;28;01mraise\u001B[39;00m \u001B[38;5;167;01mKeyError\u001B[39;00m(key) \u001B[38;5;28;01mfrom\u001B[39;00m \u001B[38;5;21;01merr\u001B[39;00m\n\u001B[1;32m   3798\u001B[0m \u001B[38;5;28;01mexcept\u001B[39;00m \u001B[38;5;167;01mTypeError\u001B[39;00m:\n\u001B[1;32m   3799\u001B[0m     \u001B[38;5;66;03m# If we have a listlike key, _check_indexing_error will raise\u001B[39;00m\n\u001B[1;32m   3800\u001B[0m     \u001B[38;5;66;03m#  InvalidIndexError. Otherwise we fall through and re-raise\u001B[39;00m\n\u001B[1;32m   3801\u001B[0m     \u001B[38;5;66;03m#  the TypeError.\u001B[39;00m\n\u001B[1;32m   3802\u001B[0m     \u001B[38;5;28mself\u001B[39m\u001B[38;5;241m.\u001B[39m_check_indexing_error(key)\n",
      "\u001B[0;31mKeyError\u001B[0m: 'fold_1'"
     ]
    }
   ],
   "source": [
    "%autoreload 2\n",
    "from bcblib.tools.visualisation import load_all_event_files, plot_scalar_per_fold\n",
    "best_tags = ['val_best_mean_dice', 'val_best_mean_loss', 'val_best_mean_distance', 'epoch_train_loss', 'epoch_train_ctr_loss', 'val_mean_dice', 'val_distance', 'ctr_val_volume']\n",
    "root_folder = Path('/gamma/Dropbox (GIN)/UCL_Data/events_files')\n",
    "# for each subfolder in root_folder call plot_scalar_per_fold to save each scalar plot in subfolder/global_plots/\n",
    "best_func_best_tags = {tag: min if 'loss' in tag or 'distance' in tag or 'volume' in tag else max for tag in best_tags}\n",
    "\n",
    "leading_tag = 'val_best_mean_dice'\n",
    "# print(best_func_filtered_tags)\n",
    "for subfolder in root_folder.iterdir():\n",
    "    # root_folder / 'plots' should not be processed\n",
    "    if subfolder.name == 'plots':\n",
    "        continue\n",
    "    print(f'Processing {subfolder.name}')\n",
    "    # Load the event files\n",
    "    fold_data = load_all_event_files(subfolder)\n",
    "    # Create the output folder subfolder_name/global_plots\n",
    "    output_folder = root_folder / 'plots' / subfolder.name / 'global_plots'\n",
    "    output_folder.mkdir(parents=True, exist_ok=True)\n",
    "    # Create and save the plots\n",
    "    best_leading_values = {}\n",
    "    for tag in best_tags:\n",
    "        if tag not in fold_data['fold_1'].Tags()['scalars']:\n",
    "            print(f'Tag {tag} not found in {subfolder.name}')\n",
    "            continue\n",
    "        if tag == leading_tag:\n",
    "            best_leading_values = plot_scalar_per_fold(fold_data, tag, best_epochs=None, output_path=output_folder, display_plot=False, best_func=best_func_best_tags)\n",
    "            print(f'Best leading values for {subfolder.name}: {best_leading_values}')\n",
    "        else:\n",
    "            plot_scalar_per_fold(fold_data, tag, best_epochs=best_leading_values, output_path=output_folder, display_plot=False, best_func=best_func_best_tags)"
   ]
  },
  {
   "cell_type": "code",
   "outputs": [
    {
     "name": "stdout",
     "output_type": "stream",
     "text": [
      "Processing abnormal_training_dice_focal\n",
      "Mean of val_best_mean_dice across folds at best epoch: 0.895162308216095\n",
      "Best value of val_best_mean_dice at best epoch: 0.907972514629364\n",
      "Mean of val_best_mean_loss across folds at best epoch: 0.12039990127086639\n",
      "Best value of val_best_mean_loss at best epoch: 0.10987710952758789\n",
      "Mean of epoch_train_loss across folds at best epoch: 0.0858351856470108\n",
      "Best value of epoch_train_loss at best epoch: 0.08223088085651398\n",
      "Tag epoch_train_ctr_loss not found in abnormal_training_dice_focal\n",
      "Mean of val_mean_dice across folds at best epoch: 0.895162308216095\n",
      "Best value of val_mean_dice at best epoch: 0.907972514629364\n",
      "Mean of val_distance across folds at best epoch: 2.6498131275177004\n",
      "Best value of val_distance at best epoch: 2.289167642593384\n",
      "Tag ctr_val_volume not found in abnormal_training_dice_focal\n",
      "Processing unet_abnormal_training\n",
      "Mean of val_best_mean_dice across folds at best epoch: 0.8408454418182373\n",
      "Best value of val_best_mean_dice at best epoch: 0.8490331768989563\n",
      "Mean of val_best_mean_loss across folds at best epoch: 0.18258351385593413\n",
      "Best value of val_best_mean_loss at best epoch: 0.1755388379096985\n",
      "Mean of epoch_train_loss across folds at best epoch: 0.03638098686933518\n",
      "Best value of epoch_train_loss at best epoch: 0.03302866220474243\n",
      "Tag epoch_train_ctr_loss not found in unet_abnormal_training\n",
      "Mean of val_mean_dice across folds at best epoch: 0.8408454418182373\n",
      "Best value of val_mean_dice at best epoch: 0.8490331768989563\n",
      "Mean of val_distance across folds at best epoch: 3.9199737548828124\n",
      "Best value of val_distance at best epoch: 3.7935774326324463\n",
      "Tag ctr_val_volume not found in unet_abnormal_training\n",
      "Processing control_training_wf_div10_dicefocal\n",
      "Mean of val_best_mean_dice across folds at best epoch: 0.8880412817001343\n",
      "Best value of val_best_mean_dice at best epoch: 0.8990077972412109\n",
      "Mean of val_best_mean_loss across folds at best epoch: 0.13077860772609712\n",
      "Best value of val_best_mean_loss at best epoch: 0.1253492683172226\n",
      "Mean of epoch_train_loss across folds at best epoch: 0.08331928998231888\n",
      "Best value of epoch_train_loss at best epoch: 0.07825499773025513\n",
      "Mean of epoch_train_ctr_loss across folds at best epoch: 0.0009658641996793449\n",
      "Best value of epoch_train_ctr_loss at best epoch: 0.000912784191314131\n",
      "Mean of val_mean_dice across folds at best epoch: 0.8880412817001343\n",
      "Best value of val_mean_dice at best epoch: 0.8990077972412109\n",
      "Mean of val_distance across folds at best epoch: 2.6695798873901366\n",
      "Best value of val_distance at best epoch: 2.227639675140381\n",
      "Mean of ctr_val_volume across folds at best epoch: 0.703695747256279\n",
      "Best value of ctr_val_volume at best epoch: 0.20308123528957367\n"
     ]
    }
   ],
   "source": [
    "import numpy as np\n",
    "from bcblib.tools.visualisation import load_all_event_files, plot_scalar_per_fold\n",
    "\n",
    "best_tags = ['val_best_mean_dice', 'val_best_mean_loss', 'val_best_mean_distance', 'epoch_train_loss', 'epoch_train_ctr_loss', 'val_mean_dice', 'val_distance', 'ctr_val_volume']\n",
    "root_folder = Path('/gamma/Dropbox (GIN)/UCL_Data/events_files')\n",
    "\n",
    "best_func_best_tags = {tag: min if 'loss' in tag or 'distance' in tag or 'volume' in tag else max for tag in best_tags}\n",
    "\n",
    "for subfolder in root_folder.iterdir():\n",
    "    if subfolder.name == 'plots':\n",
    "        continue\n",
    "    print(f'Processing {subfolder.name}')\n",
    "    fold_data = load_all_event_files(subfolder)\n",
    "    best_epochs = plot_scalar_per_fold(fold_data, 'val_best_mean_dice', best_epochs=None, output_path=None, display_plot=False, best_func=best_func_best_tags)\n",
    "\n",
    "    for tag in best_tags:\n",
    "        if tag not in fold_data['fold_1'].Tags()['scalars']:\n",
    "            print(f'Tag {tag} not found in {subfolder.name}')\n",
    "            continue\n",
    "\n",
    "        values_at_best_epochs = []\n",
    "        for fold_name, best_epoch in best_epochs.items():\n",
    "            event_acc = fold_data[fold_name]\n",
    "            x, y = zip(*[(s.step, s.value) for s in event_acc.Scalars(tag)])\n",
    "            if best_epoch in x:\n",
    "                value_at_best_epoch = y[x.index(best_epoch)]\n",
    "                values_at_best_epochs.append(value_at_best_epoch)\n",
    "\n",
    "        if values_at_best_epochs:\n",
    "            mean_value = np.mean(values_at_best_epochs)\n",
    "            print(f'Mean of {tag} across folds at best epoch: {mean_value}')\n",
    "            # also print the best value of the best epoch for fold_1 values_at_best_epochs[1]\n",
    "            print(f'Best value of {tag} at best epoch: {values_at_best_epochs[1]}')\n",
    "        else:\n",
    "            # print(f'No values found for {tag} at best epoch')\n",
    "            continue"
   ],
   "metadata": {
    "collapsed": false,
    "ExecuteTime": {
     "end_time": "2024-01-09T17:06:28.224828985Z",
     "start_time": "2024-01-09T17:06:27.101731333Z"
    }
   },
   "id": "b06039ec20edddcb",
   "execution_count": 29
  },
  {
   "cell_type": "code",
   "outputs": [],
   "source": [
    "\"\"\"\n",
    "Processing abnormal_training_dice_focal\n",
    "Mean of val_best_mean_dice across folds at best epoch: 0.895162308216095\n",
    "Best value of val_best_mean_dice at best epoch: 0.907972514629364\n",
    "Mean of val_best_mean_loss across folds at best epoch: 0.12039990127086639\n",
    "Best value of val_best_mean_loss at best epoch: 0.10987710952758789\n",
    "Mean of epoch_train_loss across folds at best epoch: 0.0858351856470108\n",
    "Best value of epoch_train_loss at best epoch: 0.08223088085651398\n",
    "Tag epoch_train_ctr_loss not found in abnormal_training_dice_focal\n",
    "Mean of val_mean_dice across folds at best epoch: 0.895162308216095\n",
    "Best value of val_mean_dice at best epoch: 0.907972514629364\n",
    "Mean of val_distance across folds at best epoch: 2.6498131275177004\n",
    "Best value of val_distance at best epoch: 2.289167642593384\n",
    "Tag ctr_val_volume not found in abnormal_training_dice_focal\n",
    "Processing unet_abnormal_training\n",
    "Mean of val_best_mean_dice across folds at best epoch: 0.8408454418182373\n",
    "Best value of val_best_mean_dice at best epoch: 0.8490331768989563\n",
    "Mean of val_best_mean_loss across folds at best epoch: 0.18258351385593413\n",
    "Best value of val_best_mean_loss at best epoch: 0.1755388379096985\n",
    "Mean of epoch_train_loss across folds at best epoch: 0.03638098686933518\n",
    "Best value of epoch_train_loss at best epoch: 0.03302866220474243\n",
    "Tag epoch_train_ctr_loss not found in unet_abnormal_training\n",
    "Mean of val_mean_dice across folds at best epoch: 0.8408454418182373\n",
    "Best value of val_mean_dice at best epoch: 0.8490331768989563\n",
    "Mean of val_distance across folds at best epoch: 3.9199737548828124\n",
    "Best value of val_distance at best epoch: 3.7935774326324463\n",
    "Tag ctr_val_volume not found in unet_abnormal_training\n",
    "Processing control_training_wf_div10_dicefocal\n",
    "Mean of val_best_mean_dice across folds at best epoch: 0.8880412817001343\n",
    "Best value of val_best_mean_dice at best epoch: 0.8990077972412109\n",
    "Mean of val_best_mean_loss across folds at best epoch: 0.13077860772609712\n",
    "Best value of val_best_mean_loss at best epoch: 0.1253492683172226\n",
    "Mean of epoch_train_loss across folds at best epoch: 0.08331928998231888\n",
    "Best value of epoch_train_loss at best epoch: 0.07825499773025513\n",
    "Mean of epoch_train_ctr_loss across folds at best epoch: 0.0009658641996793449\n",
    "Best value of epoch_train_ctr_loss at best epoch: 0.000912784191314131\n",
    "Mean of val_mean_dice across folds at best epoch: 0.8880412817001343\n",
    "Best value of val_mean_dice at best epoch: 0.8990077972412109\n",
    "Mean of val_distance across folds at best epoch: 2.6695798873901366\n",
    "Best value of val_distance at best epoch: 2.227639675140381\n",
    "Mean of ctr_val_volume across folds at best epoch: 0.703695747256279\n",
    "Best value of ctr_val_volume at best epoch: 0.20308123528957367\n",
    "\n",
    "Trained with controls, the best fold of the SWIN-UNETR reaches an average Dice Score of 0.8990 and an average HD of 2.2276 voxels in the second fold (Fold_1). The average Dice Score across the folds is 0.8880, and the average HD is 2.6696 voxels. Without controls (abnormal_training_dice_focal), the best fold reaches an average Dice Score of 0.9079 and an average HD of 2.2892 voxels in the second fold (Fold_1). The average Dice Score across the folds is 0.8952, and the average HD is 2.6498 voxels. The U-Net without augmentation reaches an average Dice Score of 0.8490 and an average HD of 3.7936 voxels in the second fold (Fold_1). The average Dice Score across the folds is 0.8408, and the average HD is 3.9200 voxels.\n",
    "\"\"\""
   ],
   "metadata": {
    "collapsed": false
   },
   "id": "105b4ba199fc3e53"
  }
 ],
 "metadata": {
  "kernelspec": {
   "display_name": "Python 3",
   "language": "python",
   "name": "python3"
  },
  "language_info": {
   "codemirror_mode": {
    "name": "ipython",
    "version": 2
   },
   "file_extension": ".py",
   "mimetype": "text/x-python",
   "name": "python",
   "nbconvert_exporter": "python",
   "pygments_lexer": "ipython2",
   "version": "2.7.6"
  }
 },
 "nbformat": 4,
 "nbformat_minor": 5
}
